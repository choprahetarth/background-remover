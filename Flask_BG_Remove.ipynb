{
  "nbformat": 4,
  "nbformat_minor": 0,
  "metadata": {
    "colab": {
      "name": "Flask-BG-Remove.ipynb",
      "provenance": [],
      "collapsed_sections": [
        "VBgpk2QKJITt",
        "CBjNFbny2C9k",
        "7aRYPH9mrOzg"
      ],
      "authorship_tag": "ABX9TyNV3ZeJfFEY2OxEyzwsLxpt",
      "include_colab_link": true
    },
    "kernelspec": {
      "name": "python3",
      "display_name": "Python 3"
    },
    "language_info": {
      "name": "python"
    }
  },
  "cells": [
    {
      "cell_type": "markdown",
      "metadata": {
        "id": "view-in-github",
        "colab_type": "text"
      },
      "source": [
        "<a href=\"https://colab.research.google.com/github/choprahetarth/background-remover/blob/main/Flask_BG_Remove.ipynb\" target=\"_parent\"><img src=\"https://colab.research.google.com/assets/colab-badge.svg\" alt=\"Open In Colab\"/></a>"
      ]
    },
    {
      "cell_type": "markdown",
      "metadata": {
        "id": "YCsbrWp2e-t0"
      },
      "source": [
        "This Notebook has been created for removing backgrounds using a Flask Web App, where this notebook acts as a back-end.\n",
        "\n",
        "METHOD - Detectron2 (Facebook)\n",
        "MODEL USED - \n",
        "\n",
        "## Instructions for using `Flask Deployment` based solution - \n",
        "\n",
        "1. Switch to a GPU Runtime offered by Google Colab (Runtime-> Change Runtime Type -> GPU )\n",
        "2. Install the libraries by running the `Install (Run Once) (USE GPU RUNTIME)` Tab\n",
        "3. Restart the runtime **manually** (it is required, yes.)\n",
        "4. Expand the `Import Libraries and Upload Images` Tab\n",
        "5. Run the code till the end. \n",
        "6. In the second last cell, you can see something like this \n",
        "`` * Running on http://2b55-35-223-110-102.ngrok.io``, the URL can be different slightly, but open it as this is where the Web App has been deployed.\n",
        "7. In order to do more iterations of the images, you have to close the web-app, and stop the running cell, and run the last cell, then proceed to running the webapp again.\n",
        "\n",
        "TODO\n",
        "- Choice for the user to provide color/background (FIX ERRORS)\n",
        "- Clear the output image.\n",
        "\n",
        "\n",
        "\n",
        "\n",
        "\n"
      ]
    },
    {
      "cell_type": "markdown",
      "metadata": {
        "id": "VBgpk2QKJITt"
      },
      "source": [
        "# Install (Run Once) (USE GPU RUNTIME)"
      ]
    },
    {
      "cell_type": "code",
      "metadata": {
        "id": "vVXFAkXophFa"
      },
      "source": [
        "!pip install pyyaml==5.1 > /dev/null\n",
        "!pip install flask-ngrok > /dev/null\n",
        "# This is the current pytorch version on Colab. \n",
        "# Uncomment this if Colab changes its pytorch version\n",
        "# !pip install torch==1.9.0+cu102 torchvision==0.10.0+cu102 -f https://download.pytorch.org/whl/torch_stable.html\n",
        "\n",
        "# Install detectron2 that matches the above pytorch version\n",
        "# See https://detectron2.readthedocs.io/tutorials/install.html for instructions\n",
        "!pip install detectron2 -f https://dl.fbaipublicfiles.com/detectron2/wheels/cu102/torch1.9/index.html > /dev/null\n",
        "# exit(0)  # After installation, \n",
        "#you need to \"restart runtime\" in Colab. \n",
        "#This line can also restart runtime"
      ],
      "execution_count": 1,
      "outputs": []
    },
    {
      "cell_type": "markdown",
      "metadata": {
        "id": "J5RsY_rOD0vz"
      },
      "source": [
        "# Flask Deployment"
      ]
    },
    {
      "cell_type": "markdown",
      "metadata": {
        "id": "CBjNFbny2C9k"
      },
      "source": [
        "### Import Libraries\n"
      ]
    },
    {
      "cell_type": "code",
      "metadata": {
        "id": "6vCGcSyf2E5z"
      },
      "source": [
        "# Import all the libraries\n",
        "import numpy as np\n",
        "import cv2\n",
        "import requests\n",
        "import os\n",
        "import imutils\n",
        "from PIL import Image\n",
        "from google.colab.patches import cv2_imshow"
      ],
      "execution_count": 1,
      "outputs": []
    },
    {
      "cell_type": "code",
      "metadata": {
        "id": "oUdot7z_2IEe"
      },
      "source": [
        "# Some basic setup:\n",
        "# Setup detectron2 logger\n",
        "import detectron2\n",
        "from detectron2.utils.logger import setup_logger\n",
        "setup_logger()\n",
        "\n",
        "# import some common libraries\n",
        "import torch, torchvision\n",
        "import json, random\n",
        "\n",
        "# import some common detectron2 utilities\n",
        "from detectron2 import model_zoo\n",
        "from detectron2.engine import DefaultPredictor\n",
        "from detectron2.config import get_cfg\n",
        "from detectron2.utils.visualizer import Visualizer\n",
        "from detectron2.data import MetadataCatalog, DatasetCatalog"
      ],
      "execution_count": 2,
      "outputs": []
    },
    {
      "cell_type": "markdown",
      "metadata": {
        "id": "7aRYPH9mrOzg"
      },
      "source": [
        "### Functions "
      ]
    },
    {
      "cell_type": "code",
      "metadata": {
        "id": "uw1jWJUUrOzg"
      },
      "source": [
        "# Streamlined Code\n",
        "def read_image(image,bg,size):\n",
        "  bg = bg\n",
        "  image = image\n",
        "  foreground = cv2.imread(image)\n",
        "  background = cv2.imread(bg)\n",
        "  foreground = imutils.resize(foreground, width=size)\n",
        "  background = imutils.resize(background, width=size)\n",
        "\n",
        "  return foreground,background"
      ],
      "execution_count": 36,
      "outputs": []
    },
    {
      "cell_type": "code",
      "metadata": {
        "id": "iWPD-CgfrOzg"
      },
      "source": [
        "def config(image):\n",
        "  image = image\n",
        "  cfg = get_cfg()\n",
        "  # add project-specific config (e.g., TensorMask) \n",
        "  # here if you're not running a model in detectron2's core library\n",
        "  cfg.merge_from_file(model_zoo.get_config_file(YAML))\n",
        "  # set threshold for this model\n",
        "  cfg.MODEL.ROI_HEADS.SCORE_THRESH_TEST = 0.5  \n",
        "  # Find a model from detectron2's model zoo. \n",
        "  # You can use the https://dl.fbaipublicfiles... url as well\n",
        "  cfg.MODEL.WEIGHTS = model_zoo.get_checkpoint_url(YAML)\n",
        "  predictor = DefaultPredictor(cfg)\n",
        "  outputs = predictor(image)\n",
        "  return outputs,cfg"
      ],
      "execution_count": 37,
      "outputs": []
    },
    {
      "cell_type": "code",
      "metadata": {
        "id": "pXy3pIRXrOzh"
      },
      "source": [
        "def mask_blend(outputs):\n",
        "  outputs = outputs\n",
        "  mask = outputs[\"instances\"].pred_masks\n",
        "  # Mask Blender\n",
        "  total_objects = mask.shape[0]\n",
        "  # Considering logic that if objects > 1, take top two \n",
        "  masks = []\n",
        "  if (total_objects > 1):\n",
        "    for i in [0,1]:\n",
        "      output_mat = outputs['instances'].pred_masks[i].cpu().detach().numpy()\n",
        "      output_mat = output_mat.astype(np.uint8)\n",
        "      output_mat = output_mat*255\n",
        "      masks.append(output_mat)\n",
        "    mask = cv2.bitwise_or(masks[0],masks[1])\n",
        "  else:\n",
        "    output_mat = outputs['instances'].pred_masks[0].cpu().detach().numpy()\n",
        "    output_mat = output_mat.astype(np.uint8)\n",
        "    output_mat = output_mat*255\n",
        "    mask = output_mat\n",
        "  return mask\n"
      ],
      "execution_count": 38,
      "outputs": []
    },
    {
      "cell_type": "code",
      "metadata": {
        "id": "veqm-dYcrOzh"
      },
      "source": [
        "def background_replace(image,mask,background_image):\n",
        "  background_image = background_image\n",
        "  image = image\n",
        "  mask = mask\n",
        "  masked = cv2.bitwise_and(image,image,mask = mask)\n",
        "  replaced = np.copy(masked)\n",
        "  if (BACKGROUND == \"Color\"):\n",
        "    replaced[mask==0] = BG_COLOR\n",
        "  elif (BACKGROUND == \"Background_Image\"):\n",
        "    masked = Image.fromarray(cv2.cvtColor(masked,\n",
        "                                          cv2.COLOR_BGR2RGB))\n",
        "    #masked = Image.fromarray(masked)\n",
        "    masked = masked.convert(\"RGBA\")\n",
        "    pixdata = masked.load()\n",
        "    width, height = masked.size\n",
        "    for y in range(height):\n",
        "      for x in range(width):\n",
        "        if pixdata[x, y] == (0, 0, 0, 255):\n",
        "            pixdata[x, y] = (255, 255, 255, 0)\n",
        "    background_image = cv2.resize(background_image,\n",
        "                                  (image.shape[1],\n",
        "                                   image.shape[0]))\n",
        "    background_image = Image.fromarray(cv2.cvtColor(background_image,\n",
        "                                                    cv2.COLOR_BGR2RGB))\n",
        "    background_image.paste(masked, (0, 0), masked)\n",
        "    replaced = background_image\n",
        "  return replaced"
      ],
      "execution_count": 39,
      "outputs": []
    },
    {
      "cell_type": "markdown",
      "metadata": {
        "id": "oM0fxow_rViw"
      },
      "source": [
        "### Deployment"
      ]
    },
    {
      "cell_type": "code",
      "metadata": {
        "colab": {
          "base_uri": "https://localhost:8080/"
        },
        "id": "ExFfubAxPIFi",
        "outputId": "d439fe0c-2f34-45ef-d1a0-3262800d31a6"
      },
      "source": [
        "os.chdir('/content')\n",
        "!mkdir templates\n",
        "!mkdir -p static/images\n",
        "os.chdir('/content/templates')\n",
        "# get the HTML file used\n",
        "!curl -o index.html https://raw.githubusercontent.com/choprahetarth/background-remover/main/index/index.html\n",
        "os.chdir('/content')"
      ],
      "execution_count": 8,
      "outputs": [
        {
          "output_type": "stream",
          "name": "stdout",
          "text": [
            "  % Total    % Received % Xferd  Average Speed   Time    Time     Time  Current\n",
            "                                 Dload  Upload   Total   Spent    Left  Speed\n",
            "\r  0     0    0     0    0     0      0      0 --:--:-- --:--:-- --:--:--     0\r100   565  100   565    0     0   3692      0 --:--:-- --:--:-- --:--:--  3692\n"
          ]
        }
      ]
    },
    {
      "cell_type": "code",
      "metadata": {
        "colab": {
          "base_uri": "https://localhost:8080/"
        },
        "id": "uxcxSZtiD2z8",
        "outputId": "0fe9ad7c-865c-4d72-9218-0a7b55d87974"
      },
      "source": [
        "from flask import Flask, render_template, request, send_from_directory, send_file\n",
        "from flask_ngrok import run_with_ngrok\n",
        "from PIL import Image\n",
        "import requests\n",
        "import os\n",
        "import urllib.request\n",
        "\n",
        "BG_COLOR = (255,255,255)\n",
        "BACKGROUND = \"Background_Image\"\n",
        "RESIZE = 800\n",
        "YAML = \"COCO-InstanceSegmentation/mask_rcnn_X_101_32x8d_FPN_3x.yaml\"\n",
        "\n",
        "app = Flask(__name__)\n",
        "run_with_ngrok(app)   \n",
        "UPLOAD_PATH = \"/content/static/images\"\n",
        "app.config['UPLOAD_FOLDER'] = UPLOAD_PATH\n",
        "\n",
        "def runner(image,bg_image):\n",
        "  foreground = image\n",
        "  background = bg_image\n",
        "  image,bg_image = read_image(foreground,background,RESIZE)\n",
        "  outputs,cfg = config(image)\n",
        "  mask = mask_blend(outputs)\n",
        "  final = background_replace(image,mask,bg_image)\n",
        "  return final,bg_image,mask,image \n",
        "  \n",
        "@app.route(\"/\",methods =['GET','POST'])\n",
        "def upload_predict():\n",
        "  if request.method == \"GET\":\n",
        "      return render_template('index.html')\n",
        "  if request.method == \"POST\":\n",
        "    foreground_image = request.files.get('foreground')\n",
        "    background_image = request.files.get('background')\n",
        "    input_data = request.form['color']\n",
        "\n",
        "    if foreground_image:\n",
        "      image_location_foreground = os.path.join(UPLOAD_PATH,\n",
        "                                               \"foreground.jpg\")\n",
        "      foreground_image.save(image_location_foreground)\n",
        "      return render_template('index.html',stage = \"Foreground Uploaded\")\n",
        "\n",
        "    if background_image:\n",
        "      image_location_background = os.path.join(UPLOAD_PATH,\n",
        "                                               \"background.jpg\")\n",
        "      background_image.save(image_location_background)\n",
        "      return render_template('index.html',stage = \"Background Uploaded\")\n",
        "    if input_data:\n",
        "      BACKGROUND = \"Color\"\n",
        "      BG_COLOR = input_data\n",
        "    if \"open\" in request.form:\n",
        "      foreground = os.path.join(UPLOAD_PATH,\"foreground.jpg\")\n",
        "      background = os.path.join(UPLOAD_PATH,\"background.jpg\")\n",
        "      final,bg_image,mask,image = runner(foreground,background)\n",
        "      final.save(UPLOAD_PATH+\"/output.jpg\")\n",
        "      output_filename = os.path.join(app.config['UPLOAD_FOLDER'],\n",
        "                                     'output.jpg')\n",
        "      print(output_filename)\n",
        "      return render_template('index.html',\n",
        "                             user_image=output_filename,\n",
        "                             stage=\"Done!\" )\n",
        "    \n",
        "    if \"clear\" in request.form:\n",
        "      if (\"output.jpg\" in os.listdir(\"/content/static/images/\")):\n",
        "        os.remove(\"/content/static/images/output.jpg\")\n",
        "      return render_template('index.html', stage=\"Cleared!\" )\n",
        "\n",
        "  return render_template('index.html',stage = \"None\")\n",
        "app.run()"
      ],
      "execution_count": 56,
      "outputs": [
        {
          "output_type": "stream",
          "name": "stdout",
          "text": [
            " * Serving Flask app \"__main__\" (lazy loading)\n",
            " * Environment: production\n",
            "\u001b[31m   WARNING: This is a development server. Do not use it in a production deployment.\u001b[0m\n",
            "\u001b[2m   Use a production WSGI server instead.\u001b[0m\n",
            " * Debug mode: off\n"
          ]
        },
        {
          "output_type": "stream",
          "name": "stderr",
          "text": [
            " * Running on http://127.0.0.1:5000/ (Press CTRL+C to quit)\n"
          ]
        },
        {
          "output_type": "stream",
          "name": "stdout",
          "text": [
            " * Running on http://5a64-35-223-110-102.ngrok.io\n",
            " * Traffic stats available on http://127.0.0.1:4040\n"
          ]
        },
        {
          "output_type": "stream",
          "name": "stderr",
          "text": [
            "127.0.0.1 - - [18/Sep/2021 09:05:54] \"\u001b[37mGET / HTTP/1.1\u001b[0m\" 200 -\n",
            "127.0.0.1 - - [18/Sep/2021 09:05:55] \"\u001b[33mGET /static/images/output.jpg HTTP/1.1\u001b[0m\" 404 -\n",
            "127.0.0.1 - - [18/Sep/2021 09:05:55] \"\u001b[33mGET /favicon.ico HTTP/1.1\u001b[0m\" 404 -\n",
            "127.0.0.1 - - [18/Sep/2021 09:05:56] \"\u001b[37mGET / HTTP/1.1\u001b[0m\" 200 -\n",
            "127.0.0.1 - - [18/Sep/2021 09:05:58] \"\u001b[33mGET /static/images/output.jpg HTTP/1.1\u001b[0m\" 404 -\n",
            "127.0.0.1 - - [18/Sep/2021 09:06:00] \"\u001b[37mPOST / HTTP/1.1\u001b[0m\" 200 -\n",
            "127.0.0.1 - - [18/Sep/2021 09:06:00] \"\u001b[33mGET /static/images/output.jpg HTTP/1.1\u001b[0m\" 404 -\n",
            "127.0.0.1 - - [18/Sep/2021 09:06:06] \"\u001b[37mPOST / HTTP/1.1\u001b[0m\" 200 -\n",
            "127.0.0.1 - - [18/Sep/2021 09:06:06] \"\u001b[33mGET /static/images/output.jpg HTTP/1.1\u001b[0m\" 404 -\n",
            "127.0.0.1 - - [18/Sep/2021 09:06:07] \"\u001b[37mPOST / HTTP/1.1\u001b[0m\" 200 -\n",
            "127.0.0.1 - - [18/Sep/2021 09:06:08] \"\u001b[33mGET /static/images/output.jpg HTTP/1.1\u001b[0m\" 404 -\n",
            "The checkpoint state_dict contains keys that are not used by the model:\n",
            "  \u001b[35mproposal_generator.anchor_generator.cell_anchors.{0, 1, 2, 3, 4}\u001b[0m\n",
            "[2021-09-18 09:06:12,337] ERROR in app: Exception on / [POST]\n",
            "Traceback (most recent call last):\n",
            "  File \"/usr/local/lib/python3.7/dist-packages/flask/app.py\", line 2447, in wsgi_app\n",
            "    response = self.full_dispatch_request()\n",
            "  File \"/usr/local/lib/python3.7/dist-packages/flask/app.py\", line 1952, in full_dispatch_request\n",
            "    rv = self.handle_user_exception(e)\n",
            "  File \"/usr/local/lib/python3.7/dist-packages/flask/app.py\", line 1821, in handle_user_exception\n",
            "    reraise(exc_type, exc_value, tb)\n",
            "  File \"/usr/local/lib/python3.7/dist-packages/flask/_compat.py\", line 39, in reraise\n",
            "    raise value\n",
            "  File \"/usr/local/lib/python3.7/dist-packages/flask/app.py\", line 1950, in full_dispatch_request\n",
            "    rv = self.dispatch_request()\n",
            "  File \"/usr/local/lib/python3.7/dist-packages/flask/app.py\", line 1936, in dispatch_request\n",
            "    return self.view_functions[rule.endpoint](**req.view_args)\n",
            "  File \"<ipython-input-56-92f5a33354fb>\", line 54, in upload_predict\n",
            "    final.save(UPLOAD_PATH+\"/output.jpg\")\n",
            "AttributeError: 'numpy.ndarray' object has no attribute 'save'\n",
            "127.0.0.1 - - [18/Sep/2021 09:06:12] \"\u001b[35m\u001b[1mPOST / HTTP/1.1\u001b[0m\" 500 -\n"
          ]
        }
      ]
    },
    {
      "cell_type": "code",
      "metadata": {
        "id": "APi2LxRmqfuW"
      },
      "source": [
        "os.chdir(\"/content/static/images\")\n",
        "for f in os.listdir():\n",
        "  os.remove(f)\n",
        "os.chdir('/content')"
      ],
      "execution_count": 57,
      "outputs": []
    },
    {
      "cell_type": "code",
      "metadata": {
        "id": "irD-eZiI_Jec"
      },
      "source": [
        ""
      ],
      "execution_count": null,
      "outputs": []
    }
  ]
}