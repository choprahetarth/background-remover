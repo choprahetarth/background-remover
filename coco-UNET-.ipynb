{
 "cells": [
  {
   "cell_type": "code",
   "execution_count": 1,
   "id": "87ecbead",
   "metadata": {
    "_cell_guid": "b1076dfc-b9ad-4769-8c92-a6c4dae69d19",
    "_uuid": "8f2839f25d086af736a60e9eeb907d3b93b6e0e5",
    "execution": {
     "iopub.execute_input": "2021-09-15T12:01:44.593339Z",
     "iopub.status.busy": "2021-09-15T12:01:44.591829Z",
     "iopub.status.idle": "2021-09-15T12:01:44.670332Z",
     "shell.execute_reply": "2021-09-15T12:01:44.669721Z",
     "shell.execute_reply.started": "2021-09-15T11:42:54.105919Z"
    },
    "papermill": {
     "duration": 0.122596,
     "end_time": "2021-09-15T12:01:44.670490",
     "exception": false,
     "start_time": "2021-09-15T12:01:44.547894",
     "status": "completed"
    },
    "tags": []
   },
   "outputs": [],
   "source": [
    "# This Python 3 environment comes with many helpful analytics libraries installed\n",
    "# It is defined by the kaggle/python Docker image: https://github.com/kaggle/docker-python\n",
    "# For example, here's several helpful packages to load\n",
    "\n",
    "import numpy as np # linear algebra\n",
    "import pandas as pd # data processing, CSV file I/O (e.g. pd.read_csv)\n",
    "\n",
    "# Input data files are available in the read-only \"../input/\" directory\n",
    "# For example, running this (by clicking run or pressing Shift+Enter) will list all files under the input directory\n",
    "\n",
    "import os\n",
    "#for dirname, _, filenames in os.walk('/kaggle/input'):\n",
    "#    for filename in filenames:\n",
    "#        print(os.path.join(dirname, filename))\n",
    "\n",
    "# You can write up to 20GB to the current directory (/kaggle/working/) that gets preserved as output when you create a version using \"Save & Run All\" \n",
    "# You can also write temporary files to /kaggle/temp/, but they won't be saved outside of the current session"
   ]
  },
  {
   "cell_type": "markdown",
   "id": "390e035d",
   "metadata": {
    "papermill": {
     "duration": 0.036897,
     "end_time": "2021-09-15T12:01:44.746640",
     "exception": false,
     "start_time": "2021-09-15T12:01:44.709743",
     "status": "completed"
    },
    "tags": []
   },
   "source": [
    "# Install libs"
   ]
  },
  {
   "cell_type": "code",
   "execution_count": 2,
   "id": "01a8d399",
   "metadata": {
    "execution": {
     "iopub.execute_input": "2021-09-15T12:01:44.835777Z",
     "iopub.status.busy": "2021-09-15T12:01:44.825260Z",
     "iopub.status.idle": "2021-09-15T12:02:19.572770Z",
     "shell.execute_reply": "2021-09-15T12:02:19.573264Z",
     "shell.execute_reply.started": "2021-09-15T11:42:54.411369Z"
    },
    "papermill": {
     "duration": 34.789879,
     "end_time": "2021-09-15T12:02:19.573461",
     "exception": false,
     "start_time": "2021-09-15T12:01:44.783582",
     "status": "completed"
    },
    "tags": []
   },
   "outputs": [
    {
     "name": "stdout",
     "output_type": "stream",
     "text": [
      "Collecting imutils\r\n",
      "  Downloading imutils-0.5.4.tar.gz (17 kB)\r\n",
      "Building wheels for collected packages: imutils\r\n",
      "  Building wheel for imutils (setup.py) ... \u001b[?25l-\b \b\\\b \bdone\r\n",
      "\u001b[?25h  Created wheel for imutils: filename=imutils-0.5.4-py3-none-any.whl size=25860 sha256=ba079f01a3b04ab3e2fd9cbc1be82c8f14a998b4b8da39af3df3f5aea36c36ef\r\n",
      "  Stored in directory: /root/.cache/pip/wheels/86/d7/0a/4923351ed1cec5d5e24c1eaf8905567b02a0343b24aa873df2\r\n",
      "Successfully built imutils\r\n",
      "Installing collected packages: imutils\r\n",
      "Successfully installed imutils-0.5.4\r\n",
      "\u001b[33mWARNING: Running pip as the 'root' user can result in broken permissions and conflicting behaviour with the system package manager. It is recommended to use a virtual environment instead: https://pip.pypa.io/warnings/venv\u001b[0m\r\n",
      "Requirement already satisfied: cython in /opt/conda/lib/python3.7/site-packages (0.29.24)\r\n",
      "\u001b[33mWARNING: Running pip as the 'root' user can result in broken permissions and conflicting behaviour with the system package manager. It is recommended to use a virtual environment instead: https://pip.pypa.io/warnings/venv\u001b[0m\r\n",
      "Collecting git+https://github.com/philferriere/cocoapi.git#subdirectory=PythonAPI\r\n",
      "  Cloning https://github.com/philferriere/cocoapi.git to /tmp/pip-req-build-reua49rc\r\n",
      "  Running command git clone -q https://github.com/philferriere/cocoapi.git /tmp/pip-req-build-reua49rc\r\n",
      "  Resolved https://github.com/philferriere/cocoapi.git to commit 2929bd2ef6b451054755dfd7ceb09278f935f7ad\r\n",
      "Building wheels for collected packages: pycocotools\r\n",
      "  Building wheel for pycocotools (setup.py) ... \u001b[?25l-\b \b\\\b \b|\b \b/\b \b-\b \b\\\b \bdone\r\n",
      "\u001b[?25h  Created wheel for pycocotools: filename=pycocotools-2.0-cp37-cp37m-linux_x86_64.whl size=272089 sha256=d842d0b88a8226ca459a252970ce7c1471edd7eb19e1ddabb90e13ce9727e468\r\n",
      "  Stored in directory: /tmp/pip-ephem-wheel-cache-xk8m_wvb/wheels/6b/c6/c5/cb6da4cb793a6cb1ab91f6578d76c42686422127eb4dbcea94\r\n",
      "Successfully built pycocotools\r\n",
      "Installing collected packages: pycocotools\r\n",
      "Successfully installed pycocotools-2.0\r\n",
      "\u001b[33mWARNING: Running pip as the 'root' user can result in broken permissions and conflicting behaviour with the system package manager. It is recommended to use a virtual environment instead: https://pip.pypa.io/warnings/venv\u001b[0m\r\n"
     ]
    }
   ],
   "source": [
    "!pip install imutils \n",
    "!pip install cython\n",
    "# Install pycocotools from this GitHub rep\n",
    "!pip install git+\"https://github.com/philferriere/cocoapi.git#subdirectory=PythonAPI\""
   ]
  },
  {
   "cell_type": "code",
   "execution_count": 3,
   "id": "afc2092f",
   "metadata": {
    "execution": {
     "iopub.execute_input": "2021-09-15T12:02:19.667010Z",
     "iopub.status.busy": "2021-09-15T12:02:19.666143Z",
     "iopub.status.idle": "2021-09-15T12:02:19.668582Z",
     "shell.execute_reply": "2021-09-15T12:02:19.668049Z",
     "shell.execute_reply.started": "2021-09-15T11:43:31.795668Z"
    },
    "papermill": {
     "duration": 0.051106,
     "end_time": "2021-09-15T12:02:19.668737",
     "exception": false,
     "start_time": "2021-09-15T12:02:19.617631",
     "status": "completed"
    },
    "tags": []
   },
   "outputs": [],
   "source": [
    "TOP_PATH = ('/kaggle/input/coco-2017-dataset/coco2017')\n",
    "TRAIN_PATH = ('/kaggle/input/coco-2017-dataset/coco2017/train2017')\n",
    "VAL_PATH = ('/kaggle/input/coco-2017-dataset/coco2017/val2017')\n",
    "ANNOTATIONS_PATH = ('/kaggle/input/coco-2017-dataset/coco2017/annotations')\n",
    "TEST_PATH = ('/kaggle/input/coco-2017-dataset/coco2017/test2017')\n",
    "WORKING_DIR = ('/kaggle/working')\n",
    "MASK_TRAIN_DIR = ('/kaggle/working/mask_train')\n",
    "MASK_VAL_DIR =('/kaggle/working/mask_val')\n",
    "MASK_TRAIN_SMOOTH_DIR = ('/kaggle/working/mask_train_smooth')"
   ]
  },
  {
   "cell_type": "code",
   "execution_count": 4,
   "id": "00d08803",
   "metadata": {
    "execution": {
     "iopub.execute_input": "2021-09-15T12:02:19.761630Z",
     "iopub.status.busy": "2021-09-15T12:02:19.760862Z",
     "iopub.status.idle": "2021-09-15T12:02:19.763977Z",
     "shell.execute_reply": "2021-09-15T12:02:19.764364Z",
     "shell.execute_reply.started": "2021-09-15T11:43:31.802728Z"
    },
    "papermill": {
     "duration": 0.052715,
     "end_time": "2021-09-15T12:02:19.764478",
     "exception": false,
     "start_time": "2021-09-15T12:02:19.711763",
     "status": "completed"
    },
    "tags": []
   },
   "outputs": [
    {
     "data": {
      "text/plain": [
       "['__notebook__.ipynb']"
      ]
     },
     "execution_count": 4,
     "metadata": {},
     "output_type": "execute_result"
    }
   ],
   "source": [
    "os.listdir()"
   ]
  },
  {
   "cell_type": "code",
   "execution_count": 5,
   "id": "44fc1d15",
   "metadata": {
    "execution": {
     "iopub.execute_input": "2021-09-15T12:02:19.855196Z",
     "iopub.status.busy": "2021-09-15T12:02:19.854450Z",
     "iopub.status.idle": "2021-09-15T12:02:19.857124Z",
     "shell.execute_reply": "2021-09-15T12:02:19.856681Z",
     "shell.execute_reply.started": "2021-09-15T11:43:31.824879Z"
    },
    "papermill": {
     "duration": 0.049261,
     "end_time": "2021-09-15T12:02:19.857228",
     "exception": false,
     "start_time": "2021-09-15T12:02:19.807967",
     "status": "completed"
    },
    "tags": []
   },
   "outputs": [],
   "source": [
    "os.chdir(WORKING_DIR)"
   ]
  },
  {
   "cell_type": "markdown",
   "id": "23ccff23",
   "metadata": {
    "papermill": {
     "duration": 0.043486,
     "end_time": "2021-09-15T12:02:19.944266",
     "exception": false,
     "start_time": "2021-09-15T12:02:19.900780",
     "status": "completed"
    },
    "tags": []
   },
   "source": [
    "# Import Libraries"
   ]
  },
  {
   "cell_type": "code",
   "execution_count": 6,
   "id": "40ba4f31",
   "metadata": {
    "execution": {
     "iopub.execute_input": "2021-09-15T12:02:20.041939Z",
     "iopub.status.busy": "2021-09-15T12:02:20.035745Z",
     "iopub.status.idle": "2021-09-15T12:02:24.691150Z",
     "shell.execute_reply": "2021-09-15T12:02:24.690653Z",
     "shell.execute_reply.started": "2021-09-15T11:43:31.830942Z"
    },
    "papermill": {
     "duration": 4.703094,
     "end_time": "2021-09-15T12:02:24.691288",
     "exception": false,
     "start_time": "2021-09-15T12:02:19.988194",
     "status": "completed"
    },
    "tags": []
   },
   "outputs": [
    {
     "name": "stderr",
     "output_type": "stream",
     "text": [
      "2021-09-15 12:02:21.160924: I tensorflow/stream_executor/platform/default/dso_loader.cc:49] Successfully opened dynamic library libcudart.so.11.0\n"
     ]
    }
   ],
   "source": [
    "# Import all the libraries\n",
    "import numpy as np\n",
    "import cv2\n",
    "import requests\n",
    "import os\n",
    "import imutils\n",
    "from PIL import Image\n",
    "from tqdm.notebook import tqdm\n",
    "########3\n",
    "from pycocotools import coco, cocoeval, _mask\n",
    "from pycocotools import mask as maskUtils\n",
    "from pycocotools.coco import COCO\n",
    "import skimage.io as io\n",
    "import random\n",
    "#from tensorflow.keras.preprocessing.image import ImageDataGenerator\n",
    "\n",
    "### For visualizing the outputs ###\n",
    "import matplotlib.pyplot as plt\n",
    "import matplotlib.gridspec as gridspec\n",
    "%matplotlib inline\n",
    "from random import shuffle\n",
    "\n",
    "from PIL import Image \n",
    "import sys\n",
    "\n",
    "from tensorflow import keras\n",
    "from tensorflow.keras import *\n",
    "from tensorflow.keras.optimizers import *\n",
    "from tensorflow.keras.layers import *\n",
    "\n",
    "\n",
    "seed = 2019\n",
    "\n",
    "random.seed = seed\n",
    "np.random.seed = seed"
   ]
  },
  {
   "cell_type": "markdown",
   "id": "38afd24f",
   "metadata": {
    "papermill": {
     "duration": 0.043435,
     "end_time": "2021-09-15T12:02:24.779699",
     "exception": false,
     "start_time": "2021-09-15T12:02:24.736264",
     "status": "completed"
    },
    "tags": []
   },
   "source": [
    "# Dataset Processing"
   ]
  },
  {
   "cell_type": "code",
   "execution_count": 7,
   "id": "8e62eb4d",
   "metadata": {
    "execution": {
     "iopub.execute_input": "2021-09-15T12:02:24.869738Z",
     "iopub.status.busy": "2021-09-15T12:02:24.869256Z",
     "iopub.status.idle": "2021-09-15T12:02:24.888342Z",
     "shell.execute_reply": "2021-09-15T12:02:24.887890Z",
     "shell.execute_reply.started": "2021-09-15T11:43:37.930975Z"
    },
    "papermill": {
     "duration": 0.065292,
     "end_time": "2021-09-15T12:02:24.888450",
     "exception": false,
     "start_time": "2021-09-15T12:02:24.823158",
     "status": "completed"
    },
    "tags": []
   },
   "outputs": [
    {
     "data": {
      "text/plain": [
       "['person_keypoints_train2017.json',\n",
       " 'instances_val2017.json',\n",
       " 'instances_train2017.json',\n",
       " 'person_keypoints_val2017.json',\n",
       " 'captions_train2017.json',\n",
       " 'captions_val2017.json']"
      ]
     },
     "execution_count": 7,
     "metadata": {},
     "output_type": "execute_result"
    }
   ],
   "source": [
    "os.listdir(ANNOTATIONS_PATH)"
   ]
  },
  {
   "cell_type": "code",
   "execution_count": 8,
   "id": "dc4da812",
   "metadata": {
    "execution": {
     "iopub.execute_input": "2021-09-15T12:02:24.978800Z",
     "iopub.status.busy": "2021-09-15T12:02:24.978076Z",
     "iopub.status.idle": "2021-09-15T12:02:24.980036Z",
     "shell.execute_reply": "2021-09-15T12:02:24.980433Z",
     "shell.execute_reply.started": "2021-09-15T11:43:37.953794Z"
    },
    "papermill": {
     "duration": 0.048925,
     "end_time": "2021-09-15T12:02:24.980548",
     "exception": false,
     "start_time": "2021-09-15T12:02:24.931623",
     "status": "completed"
    },
    "tags": []
   },
   "outputs": [],
   "source": [
    "ANNOTATION_FILE_VAL = (ANNOTATIONS_PATH + '/instances_val2017.json')\n",
    "ANNOTATION_FILE_TRAIN = (ANNOTATIONS_PATH + '/instances_train2017.json')"
   ]
  },
  {
   "cell_type": "code",
   "execution_count": 9,
   "id": "f13c012a",
   "metadata": {
    "execution": {
     "iopub.execute_input": "2021-09-15T12:02:25.071598Z",
     "iopub.status.busy": "2021-09-15T12:02:25.071073Z",
     "iopub.status.idle": "2021-09-15T12:02:52.151944Z",
     "shell.execute_reply": "2021-09-15T12:02:52.152343Z",
     "shell.execute_reply.started": "2021-09-15T11:43:37.959778Z"
    },
    "papermill": {
     "duration": 27.12888,
     "end_time": "2021-09-15T12:02:52.152507",
     "exception": false,
     "start_time": "2021-09-15T12:02:25.023627",
     "status": "completed"
    },
    "tags": []
   },
   "outputs": [
    {
     "name": "stdout",
     "output_type": "stream",
     "text": [
      "loading annotations into memory...\n",
      "Done (t=24.54s)\n",
      "creating index...\n",
      "index created!\n",
      "118287 80\n"
     ]
    }
   ],
   "source": [
    "coco_train = COCO(ANNOTATION_FILE_TRAIN)\n",
    "catIds_train = coco_train.getCatIds()\n",
    "imgIds_train = coco_train.getImgIds()\n",
    "imgDict_train = coco_train.loadImgs(imgIds_train)\n",
    "print(len(imgIds_train) , len(catIds_train))"
   ]
  },
  {
   "cell_type": "code",
   "execution_count": 10,
   "id": "0350b513",
   "metadata": {
    "execution": {
     "iopub.execute_input": "2021-09-15T12:02:52.245857Z",
     "iopub.status.busy": "2021-09-15T12:02:52.245354Z",
     "iopub.status.idle": "2021-09-15T12:02:53.743683Z",
     "shell.execute_reply": "2021-09-15T12:02:53.744367Z",
     "shell.execute_reply.started": "2021-09-15T11:44:10.516825Z"
    },
    "papermill": {
     "duration": 1.547278,
     "end_time": "2021-09-15T12:02:53.744582",
     "exception": false,
     "start_time": "2021-09-15T12:02:52.197304",
     "status": "completed"
    },
    "tags": []
   },
   "outputs": [
    {
     "name": "stdout",
     "output_type": "stream",
     "text": [
      "loading annotations into memory...\n",
      "Done (t=1.43s)\n",
      "creating index...\n",
      "index created!\n",
      "5000 80\n"
     ]
    }
   ],
   "source": [
    "coco_val = COCO(ANNOTATION_FILE_VAL)\n",
    "catIds_val = coco_val.getCatIds()\n",
    "imgIds_val = coco_val.getImgIds()\n",
    "imgDict_val = coco_val.loadImgs(imgIds_val)\n",
    "print(len(imgIds_val) , len(catIds_val))"
   ]
  },
  {
   "cell_type": "code",
   "execution_count": 11,
   "id": "c8a540a9",
   "metadata": {
    "execution": {
     "iopub.execute_input": "2021-09-15T12:02:53.919989Z",
     "iopub.status.busy": "2021-09-15T12:02:53.919278Z",
     "iopub.status.idle": "2021-09-15T12:02:54.104301Z",
     "shell.execute_reply": "2021-09-15T12:02:54.103689Z",
     "shell.execute_reply.started": "2021-09-15T11:44:12.213310Z"
    },
    "papermill": {
     "duration": 0.273818,
     "end_time": "2021-09-15T12:02:54.104445",
     "exception": false,
     "start_time": "2021-09-15T12:02:53.830627",
     "status": "completed"
    },
    "tags": []
   },
   "outputs": [],
   "source": [
    "shuffle(imgIds_train)\n",
    "shuffle(imgIds_val)\n",
    "\n",
    "#take less samples\n",
    "imgIds_train = imgIds_train[0:10000]\n",
    "imgIds_val = imgIds_val[0:1000]"
   ]
  },
  {
   "cell_type": "code",
   "execution_count": 12,
   "id": "e80d979f",
   "metadata": {
    "execution": {
     "iopub.execute_input": "2021-09-15T12:02:54.210512Z",
     "iopub.status.busy": "2021-09-15T12:02:54.209770Z",
     "iopub.status.idle": "2021-09-15T12:02:54.213337Z",
     "shell.execute_reply": "2021-09-15T12:02:54.212893Z",
     "shell.execute_reply.started": "2021-09-15T11:44:12.358076Z"
    },
    "papermill": {
     "duration": 0.060283,
     "end_time": "2021-09-15T12:02:54.213440",
     "exception": false,
     "start_time": "2021-09-15T12:02:54.153157",
     "status": "completed"
    },
    "tags": []
   },
   "outputs": [
    {
     "name": "stdout",
     "output_type": "stream",
     "text": [
      "10000 1000\n"
     ]
    }
   ],
   "source": [
    "train_images = [\"COCO_train2014_{0:012d}.jpg\".format(ids) for ids in imgIds_train]\n",
    "val_images = [\"COCO_val2014_{0:012d}.jpg\".format(ids) for ids in imgIds_val]\n",
    "print(len(train_images) , len(val_images))"
   ]
  },
  {
   "cell_type": "code",
   "execution_count": 13,
   "id": "03d48359",
   "metadata": {
    "execution": {
     "iopub.execute_input": "2021-09-15T12:02:54.307070Z",
     "iopub.status.busy": "2021-09-15T12:02:54.306529Z",
     "iopub.status.idle": "2021-09-15T12:02:54.310166Z",
     "shell.execute_reply": "2021-09-15T12:02:54.309761Z",
     "shell.execute_reply.started": "2021-09-15T11:44:12.368992Z"
    },
    "papermill": {
     "duration": 0.05192,
     "end_time": "2021-09-15T12:02:54.310281",
     "exception": false,
     "start_time": "2021-09-15T12:02:54.258361",
     "status": "completed"
    },
    "tags": []
   },
   "outputs": [],
   "source": [
    "os.chdir(WORKING_DIR)"
   ]
  },
  {
   "cell_type": "code",
   "execution_count": 14,
   "id": "a6b1a01b",
   "metadata": {
    "execution": {
     "iopub.execute_input": "2021-09-15T12:02:54.404394Z",
     "iopub.status.busy": "2021-09-15T12:02:54.403701Z",
     "iopub.status.idle": "2021-09-15T12:02:55.096071Z",
     "shell.execute_reply": "2021-09-15T12:02:55.095596Z",
     "shell.execute_reply.started": "2021-09-15T11:44:12.380928Z"
    },
    "papermill": {
     "duration": 0.7406,
     "end_time": "2021-09-15T12:02:55.096206",
     "exception": false,
     "start_time": "2021-09-15T12:02:54.355606",
     "status": "completed"
    },
    "tags": []
   },
   "outputs": [],
   "source": [
    "!mkdir mask_train"
   ]
  },
  {
   "cell_type": "code",
   "execution_count": 15,
   "id": "570951a2",
   "metadata": {
    "execution": {
     "iopub.execute_input": "2021-09-15T12:02:55.198125Z",
     "iopub.status.busy": "2021-09-15T12:02:55.197539Z",
     "iopub.status.idle": "2021-09-15T12:03:56.046599Z",
     "shell.execute_reply": "2021-09-15T12:03:56.033159Z",
     "shell.execute_reply.started": "2021-09-15T11:44:13.204194Z"
    },
    "papermill": {
     "duration": 60.904855,
     "end_time": "2021-09-15T12:03:56.046783",
     "exception": false,
     "start_time": "2021-09-15T12:02:55.141928",
     "status": "completed"
    },
    "tags": []
   },
   "outputs": [
    {
     "data": {
      "application/vnd.jupyter.widget-view+json": {
       "model_id": "d823bc5197c847e99de0b3fd02edae15",
       "version_major": 2,
       "version_minor": 0
      },
      "text/plain": [
       "  0%|          | 0/10000 [00:00<?, ?it/s]"
      ]
     },
     "metadata": {},
     "output_type": "display_data"
    },
    {
     "name": "stdout",
     "output_type": "stream",
     "text": [
      "9905\n"
     ]
    }
   ],
   "source": [
    "count = 0 \n",
    "unfitted_image_dict = []\n",
    "for ID in tqdm(imgIds_train):\n",
    "    file_path = MASK_TRAIN_DIR+\"/{0:012d}.jpg\".format(ID)\n",
    "\n",
    "    sampleImgIds = coco_train.getImgIds(imgIds = [ID])\n",
    "    sampleImgDict = coco_train.loadImgs(sampleImgIds[np.random.randint(0,len(sampleImgIds))])[0]\n",
    "\n",
    "    annIds = coco_train.getAnnIds(imgIds=sampleImgDict['id'], \n",
    "                                catIds=catIds_train, \n",
    "                                iscrowd=0)\n",
    "    anns = coco_train.loadAnns(annIds)\n",
    "\n",
    "    if len(anns)==0:\n",
    "        unfitted_image_dict.append(sampleImgDict)\n",
    "    else:\n",
    "        mask = coco_train.annToMask(anns[0])\n",
    "\n",
    "        for i in (range(len(anns))):\n",
    "            mask = mask | coco_train.annToMask(anns[i])\n",
    "        mask = Image.fromarray(mask * 255 , mode = \"L\")\n",
    "        mask.save(file_path)\n",
    "        count = count + 1\n",
    "print(count)"
   ]
  },
  {
   "cell_type": "code",
   "execution_count": 16,
   "id": "50fde5f3",
   "metadata": {
    "execution": {
     "iopub.execute_input": "2021-09-15T12:03:56.147884Z",
     "iopub.status.busy": "2021-09-15T12:03:56.147203Z",
     "iopub.status.idle": "2021-09-15T12:03:56.149317Z",
     "shell.execute_reply": "2021-09-15T12:03:56.149701Z",
     "shell.execute_reply.started": "2021-09-15T11:44:49.195762Z"
    },
    "papermill": {
     "duration": 0.052626,
     "end_time": "2021-09-15T12:03:56.149820",
     "exception": false,
     "start_time": "2021-09-15T12:03:56.097194",
     "status": "completed"
    },
    "tags": []
   },
   "outputs": [],
   "source": [
    "os.chdir(WORKING_DIR)"
   ]
  },
  {
   "cell_type": "code",
   "execution_count": 17,
   "id": "d02f1da6",
   "metadata": {
    "execution": {
     "iopub.execute_input": "2021-09-15T12:03:56.249950Z",
     "iopub.status.busy": "2021-09-15T12:03:56.249259Z",
     "iopub.status.idle": "2021-09-15T12:03:56.964737Z",
     "shell.execute_reply": "2021-09-15T12:03:56.965290Z",
     "shell.execute_reply.started": "2021-09-15T11:44:49.202306Z"
    },
    "papermill": {
     "duration": 0.767807,
     "end_time": "2021-09-15T12:03:56.965466",
     "exception": false,
     "start_time": "2021-09-15T12:03:56.197659",
     "status": "completed"
    },
    "tags": []
   },
   "outputs": [],
   "source": [
    "!mkdir mask_val"
   ]
  },
  {
   "cell_type": "code",
   "execution_count": 18,
   "id": "6a02cda6",
   "metadata": {
    "execution": {
     "iopub.execute_input": "2021-09-15T12:03:57.095510Z",
     "iopub.status.busy": "2021-09-15T12:03:57.094671Z",
     "iopub.status.idle": "2021-09-15T12:04:03.380080Z",
     "shell.execute_reply": "2021-09-15T12:04:03.380736Z",
     "shell.execute_reply.started": "2021-09-15T11:44:49.999266Z"
    },
    "papermill": {
     "duration": 6.367002,
     "end_time": "2021-09-15T12:04:03.380953",
     "exception": false,
     "start_time": "2021-09-15T12:03:57.013951",
     "status": "completed"
    },
    "tags": []
   },
   "outputs": [
    {
     "data": {
      "application/vnd.jupyter.widget-view+json": {
       "model_id": "bbc66babd9444feaba3b091be8c369b4",
       "version_major": 2,
       "version_minor": 0
      },
      "text/plain": [
       "  0%|          | 0/1000 [00:00<?, ?it/s]"
      ]
     },
     "metadata": {},
     "output_type": "display_data"
    },
    {
     "name": "stdout",
     "output_type": "stream",
     "text": [
      "991\n"
     ]
    }
   ],
   "source": [
    "count = 0 \n",
    "unfitted_image_dict = []\n",
    "for ID in tqdm(imgIds_val):\n",
    "    file_path = MASK_VAL_DIR+\"/{0:012d}.jpg\".format(ID)\n",
    "\n",
    "    sampleImgIds = coco_val.getImgIds(imgIds = [ID])\n",
    "    sampleImgDict = coco_val.loadImgs(sampleImgIds[np.random.randint(0,len(sampleImgIds))])[0]\n",
    "\n",
    "    annIds = coco_val.getAnnIds(imgIds=sampleImgDict['id'], \n",
    "                                catIds=catIds_val, \n",
    "                                iscrowd=0)\n",
    "    anns = coco_val.loadAnns(annIds)\n",
    "\n",
    "    if len(anns)==0:\n",
    "        unfitted_image_dict.append(sampleImgDict)\n",
    "    else:\n",
    "        mask = coco_val.annToMask(anns[0])\n",
    "\n",
    "        for i in (range(len(anns))):\n",
    "            mask = mask | coco_val.annToMask(anns[i])\n",
    "        mask = Image.fromarray(mask * 255 , mode = \"L\")\n",
    "        mask.save(file_path)\n",
    "        count = count + 1\n",
    "print(count)"
   ]
  },
  {
   "cell_type": "code",
   "execution_count": 19,
   "id": "60c3103c",
   "metadata": {
    "execution": {
     "iopub.execute_input": "2021-09-15T12:04:03.477834Z",
     "iopub.status.busy": "2021-09-15T12:04:03.477223Z",
     "iopub.status.idle": "2021-09-15T12:04:03.479982Z",
     "shell.execute_reply": "2021-09-15T12:04:03.479510Z",
     "shell.execute_reply.started": "2021-09-15T11:44:53.567145Z"
    },
    "papermill": {
     "duration": 0.052415,
     "end_time": "2021-09-15T12:04:03.480090",
     "exception": false,
     "start_time": "2021-09-15T12:04:03.427675",
     "status": "completed"
    },
    "tags": []
   },
   "outputs": [],
   "source": [
    "os.chdir(WORKING_DIR)"
   ]
  },
  {
   "cell_type": "code",
   "execution_count": 20,
   "id": "2a14a5d7",
   "metadata": {
    "execution": {
     "iopub.execute_input": "2021-09-15T12:04:03.576497Z",
     "iopub.status.busy": "2021-09-15T12:04:03.575878Z",
     "iopub.status.idle": "2021-09-15T12:04:03.578137Z",
     "shell.execute_reply": "2021-09-15T12:04:03.578564Z",
     "shell.execute_reply.started": "2021-09-15T11:44:53.572134Z"
    },
    "papermill": {
     "duration": 0.052225,
     "end_time": "2021-09-15T12:04:03.578696",
     "exception": false,
     "start_time": "2021-09-15T12:04:03.526471",
     "status": "completed"
    },
    "tags": []
   },
   "outputs": [],
   "source": [
    "os.chdir('mask_val')"
   ]
  },
  {
   "cell_type": "code",
   "execution_count": 21,
   "id": "2f65b1ee",
   "metadata": {
    "execution": {
     "iopub.execute_input": "2021-09-15T12:04:03.675897Z",
     "iopub.status.busy": "2021-09-15T12:04:03.675415Z",
     "iopub.status.idle": "2021-09-15T12:04:03.699779Z",
     "shell.execute_reply": "2021-09-15T12:04:03.699334Z",
     "shell.execute_reply.started": "2021-09-15T11:44:53.586117Z"
    },
    "papermill": {
     "duration": 0.0751,
     "end_time": "2021-09-15T12:04:03.699891",
     "exception": false,
     "start_time": "2021-09-15T12:04:03.624791",
     "status": "completed"
    },
    "tags": []
   },
   "outputs": [
    {
     "data": {
      "text/plain": [
       "array([[[0, 0, 0],\n",
       "        [0, 0, 0],\n",
       "        [0, 0, 0],\n",
       "        ...,\n",
       "        [0, 0, 0],\n",
       "        [0, 0, 0],\n",
       "        [0, 0, 0]],\n",
       "\n",
       "       [[0, 0, 0],\n",
       "        [0, 0, 0],\n",
       "        [0, 0, 0],\n",
       "        ...,\n",
       "        [0, 0, 0],\n",
       "        [0, 0, 0],\n",
       "        [0, 0, 0]],\n",
       "\n",
       "       [[0, 0, 0],\n",
       "        [0, 0, 0],\n",
       "        [0, 0, 0],\n",
       "        ...,\n",
       "        [0, 0, 0],\n",
       "        [0, 0, 0],\n",
       "        [0, 0, 0]],\n",
       "\n",
       "       ...,\n",
       "\n",
       "       [[0, 0, 0],\n",
       "        [0, 0, 0],\n",
       "        [0, 0, 0],\n",
       "        ...,\n",
       "        [0, 0, 0],\n",
       "        [0, 0, 0],\n",
       "        [0, 0, 0]],\n",
       "\n",
       "       [[0, 0, 0],\n",
       "        [0, 0, 0],\n",
       "        [0, 0, 0],\n",
       "        ...,\n",
       "        [0, 0, 0],\n",
       "        [0, 0, 0],\n",
       "        [0, 0, 0]],\n",
       "\n",
       "       [[0, 0, 0],\n",
       "        [0, 0, 0],\n",
       "        [0, 0, 0],\n",
       "        ...,\n",
       "        [0, 0, 0],\n",
       "        [0, 0, 0],\n",
       "        [0, 0, 0]]], dtype=uint8)"
      ]
     },
     "execution_count": 21,
     "metadata": {},
     "output_type": "execute_result"
    }
   ],
   "source": [
    "cv2.imread(os.listdir()[0])"
   ]
  },
  {
   "cell_type": "markdown",
   "id": "586afa7c",
   "metadata": {
    "papermill": {
     "duration": 0.046781,
     "end_time": "2021-09-15T12:04:03.793827",
     "exception": false,
     "start_time": "2021-09-15T12:04:03.747046",
     "status": "completed"
    },
    "tags": []
   },
   "source": [
    "# Trimap Generator"
   ]
  },
  {
   "cell_type": "code",
   "execution_count": 22,
   "id": "c2da15ee",
   "metadata": {
    "execution": {
     "iopub.execute_input": "2021-09-15T12:04:03.891357Z",
     "iopub.status.busy": "2021-09-15T12:04:03.890668Z",
     "iopub.status.idle": "2021-09-15T12:04:03.892815Z",
     "shell.execute_reply": "2021-09-15T12:04:03.893260Z",
     "shell.execute_reply.started": "2021-09-15T11:44:53.625344Z"
    },
    "papermill": {
     "duration": 0.05317,
     "end_time": "2021-09-15T12:04:03.893391",
     "exception": false,
     "start_time": "2021-09-15T12:04:03.840221",
     "status": "completed"
    },
    "tags": []
   },
   "outputs": [],
   "source": [
    "#train_mask_list = os.listdir(MASK_TRAIN_DIR)"
   ]
  },
  {
   "cell_type": "code",
   "execution_count": 23,
   "id": "71d8592f",
   "metadata": {
    "execution": {
     "iopub.execute_input": "2021-09-15T12:04:03.989359Z",
     "iopub.status.busy": "2021-09-15T12:04:03.988655Z",
     "iopub.status.idle": "2021-09-15T12:04:03.990773Z",
     "shell.execute_reply": "2021-09-15T12:04:03.991155Z",
     "shell.execute_reply.started": "2021-09-15T11:44:53.630865Z"
    },
    "papermill": {
     "duration": 0.051777,
     "end_time": "2021-09-15T12:04:03.991283",
     "exception": false,
     "start_time": "2021-09-15T12:04:03.939506",
     "status": "completed"
    },
    "tags": []
   },
   "outputs": [],
   "source": [
    "#train_list = os.listdir(TRAIN_PATH)"
   ]
  },
  {
   "cell_type": "code",
   "execution_count": 24,
   "id": "468b509c",
   "metadata": {
    "execution": {
     "iopub.execute_input": "2021-09-15T12:04:04.110227Z",
     "iopub.status.busy": "2021-09-15T12:04:04.109588Z",
     "iopub.status.idle": "2021-09-15T12:04:04.112342Z",
     "shell.execute_reply": "2021-09-15T12:04:04.111949Z",
     "shell.execute_reply.started": "2021-09-15T11:44:53.642708Z"
    },
    "papermill": {
     "duration": 0.052821,
     "end_time": "2021-09-15T12:04:04.112462",
     "exception": false,
     "start_time": "2021-09-15T12:04:04.059641",
     "status": "completed"
    },
    "tags": []
   },
   "outputs": [],
   "source": [
    "#os.chdir(MASK_TRAIN_DIR)"
   ]
  },
  {
   "cell_type": "code",
   "execution_count": 25,
   "id": "3da6a373",
   "metadata": {
    "execution": {
     "iopub.execute_input": "2021-09-15T12:04:04.209099Z",
     "iopub.status.busy": "2021-09-15T12:04:04.208372Z",
     "iopub.status.idle": "2021-09-15T12:04:04.210725Z",
     "shell.execute_reply": "2021-09-15T12:04:04.210273Z",
     "shell.execute_reply.started": "2021-09-15T11:44:53.653229Z"
    },
    "papermill": {
     "duration": 0.051583,
     "end_time": "2021-09-15T12:04:04.210825",
     "exception": false,
     "start_time": "2021-09-15T12:04:04.159242",
     "status": "completed"
    },
    "tags": []
   },
   "outputs": [],
   "source": [
    "#!mkdir mask_train_smooth"
   ]
  },
  {
   "cell_type": "code",
   "execution_count": 26,
   "id": "4336afa3",
   "metadata": {
    "execution": {
     "iopub.execute_input": "2021-09-15T12:04:04.308298Z",
     "iopub.status.busy": "2021-09-15T12:04:04.307634Z",
     "iopub.status.idle": "2021-09-15T12:04:04.310075Z",
     "shell.execute_reply": "2021-09-15T12:04:04.309672Z",
     "shell.execute_reply.started": "2021-09-15T11:44:53.665306Z"
    },
    "papermill": {
     "duration": 0.052679,
     "end_time": "2021-09-15T12:04:04.310187",
     "exception": false,
     "start_time": "2021-09-15T12:04:04.257508",
     "status": "completed"
    },
    "tags": []
   },
   "outputs": [],
   "source": [
    "#os.listdir()"
   ]
  },
  {
   "cell_type": "code",
   "execution_count": 27,
   "id": "77e9c7af",
   "metadata": {
    "execution": {
     "iopub.execute_input": "2021-09-15T12:04:04.406159Z",
     "iopub.status.busy": "2021-09-15T12:04:04.405453Z",
     "iopub.status.idle": "2021-09-15T12:04:04.407785Z",
     "shell.execute_reply": "2021-09-15T12:04:04.407294Z",
     "shell.execute_reply.started": "2021-09-15T11:44:53.676917Z"
    },
    "papermill": {
     "duration": 0.051451,
     "end_time": "2021-09-15T12:04:04.407884",
     "exception": false,
     "start_time": "2021-09-15T12:04:04.356433",
     "status": "completed"
    },
    "tags": []
   },
   "outputs": [],
   "source": [
    "#from pylab import rcParams\n",
    "#rcParams['figure.figsize'] = 50, 20"
   ]
  },
  {
   "cell_type": "code",
   "execution_count": 28,
   "id": "56e81b9a",
   "metadata": {
    "execution": {
     "iopub.execute_input": "2021-09-15T12:04:04.506323Z",
     "iopub.status.busy": "2021-09-15T12:04:04.504708Z",
     "iopub.status.idle": "2021-09-15T12:04:04.509014Z",
     "shell.execute_reply": "2021-09-15T12:04:04.509436Z",
     "shell.execute_reply.started": "2021-09-15T11:44:53.689048Z"
    },
    "papermill": {
     "duration": 0.055426,
     "end_time": "2021-09-15T12:04:04.509551",
     "exception": false,
     "start_time": "2021-09-15T12:04:04.454125",
     "status": "completed"
    },
    "tags": []
   },
   "outputs": [
    {
     "data": {
      "text/plain": [
       "'for i in tqdm(train_mask_list):\\n    path = MASK_TRAIN_SMOOTH_DIR + \"/\"+str(i)\\n  \\n\\n    # use the created array to output your multiple images. In this case I have stacked 4 images vertically\\n    og_mask=(cv2.imread(i))\\n    og_mask = cv2.cvtColor(og_mask, cv2.COLOR_BGR2GRAY)\\n    eroded_mask = cv2.erode(og_mask,None,iterations=6)\\n    dilated_mask = cv2.dilate(eroded_mask,None,iterations=10)\\n    copied_mask = np.copy(dilated_mask)\\n    copied_mask[(dilated_mask!=0)] = 127\\n    kernel = cv2.getStructuringElement(cv2.MORPH_ELLIPSE, (11, 11))\\n    (thresh, binRed) = cv2.threshold(copied_mask, 128, 255, cv2.THRESH_BINARY)\\n    copied_mask = cv2.morphologyEx(copied_mask, cv2.MORPH_OPEN, kernel, iterations=3)\\n    new_mask = og_mask | copied_mask\\n    new_mask = Image.fromarray(new_mask)\\n    A = cv2.imread(TRAIN_PATH+\"/\"+i)\\n    original_masked = cv2.bitwise_and(A,A,mask = og_mask)\\n    composite1 = cv2.bitwise_and(A,A,mask = eroded_mask)\\n    composite2 = cv2.bitwise_and(A,A,mask = copied_mask)\\n    #trimask = A*new_mask/255\\n    f, axarr = plt.subplots(5,1)\\n    axarr[0].imshow(original_masked)\\n    axarr[1].imshow(composite1)\\n    axarr[2].imshow(composite2)\\n    axarr[3].imshow(A)\\n    axarr[4].imshow(new_mask,cmap=\\'gray\\')\\n    break\\n    #new_mask.save(path)'"
      ]
     },
     "execution_count": 28,
     "metadata": {},
     "output_type": "execute_result"
    }
   ],
   "source": [
    "# pre-process the masks and generate tri-maps\n",
    "'''for i in tqdm(train_mask_list):\n",
    "    path = MASK_TRAIN_SMOOTH_DIR + \"/\"+str(i)\n",
    "  \n",
    "\n",
    "    # use the created array to output your multiple images. In this case I have stacked 4 images vertically\n",
    "    og_mask=(cv2.imread(i))\n",
    "    og_mask = cv2.cvtColor(og_mask, cv2.COLOR_BGR2GRAY)\n",
    "    eroded_mask = cv2.erode(og_mask,None,iterations=6)\n",
    "    dilated_mask = cv2.dilate(eroded_mask,None,iterations=10)\n",
    "    copied_mask = np.copy(dilated_mask)\n",
    "    copied_mask[(dilated_mask!=0)] = 127\n",
    "    kernel = cv2.getStructuringElement(cv2.MORPH_ELLIPSE, (11, 11))\n",
    "    (thresh, binRed) = cv2.threshold(copied_mask, 128, 255, cv2.THRESH_BINARY)\n",
    "    copied_mask = cv2.morphologyEx(copied_mask, cv2.MORPH_OPEN, kernel, iterations=3)\n",
    "    new_mask = og_mask | copied_mask\n",
    "    new_mask = Image.fromarray(new_mask)\n",
    "    A = cv2.imread(TRAIN_PATH+\"/\"+i)\n",
    "    original_masked = cv2.bitwise_and(A,A,mask = og_mask)\n",
    "    composite1 = cv2.bitwise_and(A,A,mask = eroded_mask)\n",
    "    composite2 = cv2.bitwise_and(A,A,mask = copied_mask)\n",
    "    #trimask = A*new_mask/255\n",
    "    f, axarr = plt.subplots(5,1)\n",
    "    axarr[0].imshow(original_masked)\n",
    "    axarr[1].imshow(composite1)\n",
    "    axarr[2].imshow(composite2)\n",
    "    axarr[3].imshow(A)\n",
    "    axarr[4].imshow(new_mask,cmap='gray')\n",
    "    break\n",
    "    #new_mask.save(path)'''"
   ]
  },
  {
   "cell_type": "code",
   "execution_count": 29,
   "id": "5e36f50d",
   "metadata": {
    "execution": {
     "iopub.execute_input": "2021-09-15T12:04:04.606529Z",
     "iopub.status.busy": "2021-09-15T12:04:04.605906Z",
     "iopub.status.idle": "2021-09-15T12:04:04.608130Z",
     "shell.execute_reply": "2021-09-15T12:04:04.608519Z",
     "shell.execute_reply.started": "2021-09-15T11:44:53.705291Z"
    },
    "papermill": {
     "duration": 0.052361,
     "end_time": "2021-09-15T12:04:04.608635",
     "exception": false,
     "start_time": "2021-09-15T12:04:04.556274",
     "status": "completed"
    },
    "tags": []
   },
   "outputs": [],
   "source": [
    "os.chdir(WORKING_DIR)"
   ]
  },
  {
   "cell_type": "code",
   "execution_count": 30,
   "id": "ff8a3900",
   "metadata": {
    "execution": {
     "iopub.execute_input": "2021-09-15T12:04:04.707871Z",
     "iopub.status.busy": "2021-09-15T12:04:04.707289Z",
     "iopub.status.idle": "2021-09-15T12:04:04.709844Z",
     "shell.execute_reply": "2021-09-15T12:04:04.710251Z",
     "shell.execute_reply.started": "2021-09-15T11:44:53.718819Z"
    },
    "papermill": {
     "duration": 0.054989,
     "end_time": "2021-09-15T12:04:04.710369",
     "exception": false,
     "start_time": "2021-09-15T12:04:04.655380",
     "status": "completed"
    },
    "tags": []
   },
   "outputs": [
    {
     "data": {
      "text/plain": [
       "['mask_val', '__notebook__.ipynb', 'mask_train']"
      ]
     },
     "execution_count": 30,
     "metadata": {},
     "output_type": "execute_result"
    }
   ],
   "source": [
    "os.listdir()"
   ]
  },
  {
   "cell_type": "markdown",
   "id": "04565e61",
   "metadata": {
    "papermill": {
     "duration": 0.047238,
     "end_time": "2021-09-15T12:04:04.804781",
     "exception": false,
     "start_time": "2021-09-15T12:04:04.757543",
     "status": "completed"
    },
    "tags": []
   },
   "source": [
    "# Data Loader"
   ]
  },
  {
   "cell_type": "code",
   "execution_count": 31,
   "id": "fe0b0e05",
   "metadata": {
    "execution": {
     "iopub.execute_input": "2021-09-15T12:04:04.916144Z",
     "iopub.status.busy": "2021-09-15T12:04:04.902790Z",
     "iopub.status.idle": "2021-09-15T12:04:04.918553Z",
     "shell.execute_reply": "2021-09-15T12:04:04.918157Z",
     "shell.execute_reply.started": "2021-09-15T11:44:53.731801Z"
    },
    "papermill": {
     "duration": 0.066711,
     "end_time": "2021-09-15T12:04:04.918655",
     "exception": false,
     "start_time": "2021-09-15T12:04:04.851944",
     "status": "completed"
    },
    "tags": []
   },
   "outputs": [],
   "source": [
    "class DataGen(keras.utils.Sequence):\n",
    "    def __init__(self , path_input , path_mask , batch_size = 8 , image_size = 128):\n",
    "        self.ids = os.listdir(path_mask) # only take those images that we have segregated masks of\n",
    "        self.path_input = path_input\n",
    "        self.path_mask = path_mask\n",
    "        self.batch_size = batch_size\n",
    "        self.image_size = image_size\n",
    "        self.on_epoch_end()\n",
    "        \n",
    "    def __load__(self , id_name):\n",
    "        image_path = os.path.join(self.path_input , id_name)\n",
    "        mask_path = os.path.join(self.path_mask , id_name)\n",
    "        image = cv2.imread(image_path , 1) # 1 specifies RGB format\n",
    "        image = cv2.resize(image , (self.image_size , self.image_size)) # resizing before inserting to the network\n",
    "        mask = cv2.imread(mask_path , -1)\n",
    "        mask = cv2.resize(mask , (self.image_size , self.image_size))\n",
    "        mask = mask.reshape((self.image_size , self.image_size , 1))\n",
    "        #normalize image\n",
    "        image = image / 255.0\n",
    "        mask = mask / 255.0\n",
    "        return image , mask\n",
    "    \n",
    "    def __getitem__(self , index):\n",
    "        if (index + 1)*self.batch_size > len(self.ids):\n",
    "            self.batch_size = len(self.ids) - index * self.batch_size\n",
    "        file_batch = self.ids[index * self.batch_size : (index + 1) * self.batch_size]\n",
    "        images = []\n",
    "        masks = []\n",
    "        \n",
    "        for id_name in file_batch : \n",
    "            _img , _mask = self.__load__(id_name)\n",
    "            images.append(_img)\n",
    "            masks.append(_mask)\n",
    "        \n",
    "        images = np.array(images)\n",
    "        masks = np.array(masks)\n",
    "        return images , masks\n",
    "    \n",
    "    def on_epoch_end(self):\n",
    "        pass\n",
    "    def __len__(self):\n",
    "        return int(np.ceil(len(self.ids) / float(self.batch_size)))"
   ]
  },
  {
   "cell_type": "code",
   "execution_count": 32,
   "id": "24145d8c",
   "metadata": {
    "execution": {
     "iopub.execute_input": "2021-09-15T12:04:05.017290Z",
     "iopub.status.busy": "2021-09-15T12:04:05.016512Z",
     "iopub.status.idle": "2021-09-15T12:04:05.018891Z",
     "shell.execute_reply": "2021-09-15T12:04:05.018402Z",
     "shell.execute_reply.started": "2021-09-15T11:44:53.748191Z"
    },
    "papermill": {
     "duration": 0.053418,
     "end_time": "2021-09-15T12:04:05.019011",
     "exception": false,
     "start_time": "2021-09-15T12:04:04.965593",
     "status": "completed"
    },
    "tags": []
   },
   "outputs": [],
   "source": [
    "image_size = 128 \n",
    "epochs = 10\n",
    "batch_size = 10"
   ]
  },
  {
   "cell_type": "code",
   "execution_count": 33,
   "id": "03fa5111",
   "metadata": {
    "execution": {
     "iopub.execute_input": "2021-09-15T12:04:05.117559Z",
     "iopub.status.busy": "2021-09-15T12:04:05.116792Z",
     "iopub.status.idle": "2021-09-15T12:04:05.127284Z",
     "shell.execute_reply": "2021-09-15T12:04:05.126458Z",
     "shell.execute_reply.started": "2021-09-15T11:54:38.344209Z"
    },
    "papermill": {
     "duration": 0.061504,
     "end_time": "2021-09-15T12:04:05.127389",
     "exception": false,
     "start_time": "2021-09-15T12:04:05.065885",
     "status": "completed"
    },
    "tags": []
   },
   "outputs": [],
   "source": [
    "train_gen = DataGen(path_input = TRAIN_PATH , path_mask = MASK_TRAIN_DIR , batch_size = batch_size , image_size = image_size)\n",
    "val_gen = DataGen(path_input =  VAL_PATH, path_mask =  MASK_VAL_DIR, batch_size = batch_size , image_size = image_size)"
   ]
  },
  {
   "cell_type": "code",
   "execution_count": 34,
   "id": "79250dd0",
   "metadata": {
    "execution": {
     "iopub.execute_input": "2021-09-15T12:04:05.224880Z",
     "iopub.status.busy": "2021-09-15T12:04:05.224358Z",
     "iopub.status.idle": "2021-09-15T12:04:05.443107Z",
     "shell.execute_reply": "2021-09-15T12:04:05.443848Z",
     "shell.execute_reply.started": "2021-09-15T11:54:38.482652Z"
    },
    "papermill": {
     "duration": 0.269827,
     "end_time": "2021-09-15T12:04:05.444044",
     "exception": false,
     "start_time": "2021-09-15T12:04:05.174217",
     "status": "completed"
    },
    "tags": []
   },
   "outputs": [],
   "source": [
    "x, y = train_gen.__getitem__(6)"
   ]
  },
  {
   "cell_type": "code",
   "execution_count": 35,
   "id": "e919b42e",
   "metadata": {
    "execution": {
     "iopub.execute_input": "2021-09-15T12:04:05.555214Z",
     "iopub.status.busy": "2021-09-15T12:04:05.554404Z",
     "iopub.status.idle": "2021-09-15T12:04:05.812205Z",
     "shell.execute_reply": "2021-09-15T12:04:05.812639Z",
     "shell.execute_reply.started": "2021-09-15T11:54:38.651755Z"
    },
    "papermill": {
     "duration": 0.320471,
     "end_time": "2021-09-15T12:04:05.812787",
     "exception": false,
     "start_time": "2021-09-15T12:04:05.492316",
     "status": "completed"
    },
    "tags": []
   },
   "outputs": [
    {
     "data": {
      "text/plain": [
       "<matplotlib.image.AxesImage at 0x7f278439f850>"
      ]
     },
     "execution_count": 35,
     "metadata": {},
     "output_type": "execute_result"
    },
    {
     "data": {
      "image/png": "[encoded data removed]",
      "text/plain": [
       "<Figure size 432x288 with 1 Axes>"
      ]
     },
     "metadata": {
      "needs_background": "light"
     },
     "output_type": "display_data"
    }
   ],
   "source": [
    "plt.imshow(x[0]) # just an example to show that the dataloader is working fine"
   ]
  },
  {
   "cell_type": "code",
   "execution_count": 36,
   "id": "c343ac07",
   "metadata": {
    "execution": {
     "iopub.execute_input": "2021-09-15T12:04:05.940130Z",
     "iopub.status.busy": "2021-09-15T12:04:05.938084Z",
     "iopub.status.idle": "2021-09-15T12:04:06.122463Z",
     "shell.execute_reply": "2021-09-15T12:04:06.122024Z",
     "shell.execute_reply.started": "2021-09-15T11:54:39.968239Z"
    },
    "papermill": {
     "duration": 0.259186,
     "end_time": "2021-09-15T12:04:06.122584",
     "exception": false,
     "start_time": "2021-09-15T12:04:05.863398",
     "status": "completed"
    },
    "tags": []
   },
   "outputs": [
    {
     "data": {
      "text/plain": [
       "<matplotlib.image.AxesImage at 0x7f27842e1390>"
      ]
     },
     "execution_count": 36,
     "metadata": {},
     "output_type": "execute_result"
    },
    {
     "data": {
      "image/png": "[encoded data removed]",
      "text/plain": [
       "<Figure size 432x288 with 1 Axes>"
      ]
     },
     "metadata": {
      "needs_background": "light"
     },
     "output_type": "display_data"
    }
   ],
   "source": [
    "plt.imshow(y[0])"
   ]
  },
  {
   "cell_type": "code",
   "execution_count": null,
   "id": "b2ddab63",
   "metadata": {
    "papermill": {
     "duration": 0.050854,
     "end_time": "2021-09-15T12:04:06.224836",
     "exception": false,
     "start_time": "2021-09-15T12:04:06.173982",
     "status": "completed"
    },
    "tags": []
   },
   "outputs": [],
   "source": []
  },
  {
   "cell_type": "markdown",
   "id": "392f908e",
   "metadata": {
    "papermill": {
     "duration": 0.051029,
     "end_time": "2021-09-15T12:04:06.326873",
     "exception": false,
     "start_time": "2021-09-15T12:04:06.275844",
     "status": "completed"
    },
    "tags": []
   },
   "source": [
    "# Start Making a UNet like Model"
   ]
  },
  {
   "cell_type": "code",
   "execution_count": 37,
   "id": "ee4c677d",
   "metadata": {
    "execution": {
     "iopub.execute_input": "2021-09-15T12:04:06.437224Z",
     "iopub.status.busy": "2021-09-15T12:04:06.436553Z",
     "iopub.status.idle": "2021-09-15T12:04:06.439587Z",
     "shell.execute_reply": "2021-09-15T12:04:06.439961Z",
     "shell.execute_reply.started": "2021-09-15T11:44:54.644991Z"
    },
    "papermill": {
     "duration": 0.061937,
     "end_time": "2021-09-15T12:04:06.440092",
     "exception": false,
     "start_time": "2021-09-15T12:04:06.378155",
     "status": "completed"
    },
    "tags": []
   },
   "outputs": [],
   "source": [
    "def down_block(\n",
    "    input_tensor,no_filters,kernel_size=(3, 3),\n",
    "    strides=(1, 1),padding=\"same\",kernel_initializer=\"he_normal\",\n",
    "    max_pool_window=(2, 2),max_pool_stride=(2, 2)):\n",
    "    conv = Conv2D(filters=no_filters,kernel_size=kernel_size,\n",
    "                  strides=strides,activation=None,\n",
    "                  padding=padding,kernel_initializer=kernel_initializer)(input_tensor)\n",
    "    conv = BatchNormalization(scale=True)(conv)\n",
    "    conv = Activation(\"relu\")(conv)\n",
    "    conv = Conv2D(filters=no_filters,kernel_size=kernel_size,\n",
    "                  strides=strides,activation=None,\n",
    "                  padding=padding,kernel_initializer=kernel_initializer)(conv)\n",
    "    conv = BatchNormalization(scale=True)(conv)\n",
    "    # conv for skip connection\n",
    "    conv = Activation(\"relu\")(conv)\n",
    "    pool = MaxPooling2D(pool_size=max_pool_window, strides=max_pool_stride)(conv)\n",
    "    return conv, pool"
   ]
  },
  {
   "cell_type": "code",
   "execution_count": 38,
   "id": "21c51e94",
   "metadata": {
    "execution": {
     "iopub.execute_input": "2021-09-15T12:04:06.548486Z",
     "iopub.status.busy": "2021-09-15T12:04:06.547852Z",
     "iopub.status.idle": "2021-09-15T12:04:06.550212Z",
     "shell.execute_reply": "2021-09-15T12:04:06.550612Z",
     "shell.execute_reply.started": "2021-09-15T11:44:54.655270Z"
    },
    "papermill": {
     "duration": 0.059698,
     "end_time": "2021-09-15T12:04:06.550778",
     "exception": false,
     "start_time": "2021-09-15T12:04:06.491080",
     "status": "completed"
    },
    "tags": []
   },
   "outputs": [],
   "source": [
    "def bottle_neck(input_tensor,no_filters,kernel_size=(3, 3),\n",
    "    strides=(1, 1),padding=\"same\",kernel_initializer=\"he_normal\"):\n",
    "    conv = Conv2D(filters=no_filters,kernel_size=kernel_size,\n",
    "                  strides=strides,activation=None,padding=padding,\n",
    "                  kernel_initializer=kernel_initializer)(input_tensor)\n",
    "    conv = BatchNormalization(scale=True)(conv)\n",
    "    conv = Activation(\"relu\")(conv)\n",
    "    conv = Conv2D(filters=no_filters,kernel_size=kernel_size,\n",
    "                  strides=strides,activation=None,padding=padding,\n",
    "                  kernel_initializer=kernel_initializer)(conv)\n",
    "    conv = BatchNormalization(scale=True)(conv)\n",
    "    conv = Activation(\"relu\")(conv)\n",
    "    return conv"
   ]
  },
  {
   "cell_type": "code",
   "execution_count": 39,
   "id": "b749f3b2",
   "metadata": {
    "execution": {
     "iopub.execute_input": "2021-09-15T12:04:06.663808Z",
     "iopub.status.busy": "2021-09-15T12:04:06.662237Z",
     "iopub.status.idle": "2021-09-15T12:04:06.664459Z",
     "shell.execute_reply": "2021-09-15T12:04:06.664844Z",
     "shell.execute_reply.started": "2021-09-15T11:44:54.668711Z"
    },
    "papermill": {
     "duration": 0.062678,
     "end_time": "2021-09-15T12:04:06.664985",
     "exception": false,
     "start_time": "2021-09-15T12:04:06.602307",
     "status": "completed"
    },
    "tags": []
   },
   "outputs": [],
   "source": [
    "def up_block(input_tensor,no_filters,skip_connection, \n",
    "             kernel_size=(3, 3),strides=(1, 1),upsampling_factor = (2,2),\n",
    "             max_pool_window = (2,2),padding=\"same\",kernel_initializer=\"he_normal\"):\n",
    "    conv = Conv2D(filters = no_filters,kernel_size= max_pool_window,\n",
    "                  strides = strides,activation = None,padding = padding,\n",
    "                  kernel_initializer=kernel_initializer)(UpSampling2D(size = upsampling_factor)(input_tensor))\n",
    "    conv = BatchNormalization(scale=True)(conv)\n",
    "    conv = Activation(\"relu\")(conv) \n",
    "    conv = concatenate( [skip_connection , conv]  , axis = -1)\n",
    "    conv = Conv2D(filters=no_filters,kernel_size=kernel_size,\n",
    "                  strides=strides,activation=None,padding=padding,\n",
    "                  kernel_initializer=kernel_initializer)(conv)\n",
    "    conv = BatchNormalization(scale=True)(conv)\n",
    "    conv = Activation(\"relu\")(conv)\n",
    "    conv = Conv2D(filters=no_filters,kernel_size=kernel_size,strides=strides,\n",
    "                  activation=None,padding=padding,kernel_initializer=kernel_initializer)(conv)\n",
    "    conv = BatchNormalization(scale=True)(conv)\n",
    "    conv = Activation(\"relu\")(conv)\n",
    "    return conv"
   ]
  },
  {
   "cell_type": "code",
   "execution_count": 40,
   "id": "85ccd1d0",
   "metadata": {
    "execution": {
     "iopub.execute_input": "2021-09-15T12:04:06.774999Z",
     "iopub.status.busy": "2021-09-15T12:04:06.773444Z",
     "iopub.status.idle": "2021-09-15T12:04:06.775607Z",
     "shell.execute_reply": "2021-09-15T12:04:06.776005Z",
     "shell.execute_reply.started": "2021-09-15T11:44:54.681898Z"
    },
    "papermill": {
     "duration": 0.05942,
     "end_time": "2021-09-15T12:04:06.776137",
     "exception": false,
     "start_time": "2021-09-15T12:04:06.716717",
     "status": "completed"
    },
    "tags": []
   },
   "outputs": [],
   "source": [
    "def output_block(input_tensor,\n",
    "    padding=\"same\",\n",
    "    kernel_initializer=\"he_normal\"):\n",
    "    conv = Conv2D(filters=2,kernel_size=(3,3),strides=(1,1),\n",
    "                  activation=\"relu\",padding=padding,kernel_initializer=kernel_initializer)(input_tensor)\n",
    "    conv = Conv2D(filters=1,kernel_size=(1,1),strides=(1,1),\n",
    "        activation=\"sigmoid\",padding=padding,kernel_initializer=kernel_initializer)(conv)\n",
    "    return conv"
   ]
  },
  {
   "cell_type": "code",
   "execution_count": 41,
   "id": "45e77978",
   "metadata": {
    "execution": {
     "iopub.execute_input": "2021-09-15T12:04:06.886687Z",
     "iopub.status.busy": "2021-09-15T12:04:06.881029Z",
     "iopub.status.idle": "2021-09-15T12:04:06.896950Z",
     "shell.execute_reply": "2021-09-15T12:04:06.896506Z",
     "shell.execute_reply.started": "2021-09-15T11:44:54.696833Z"
    },
    "papermill": {
     "duration": 0.069765,
     "end_time": "2021-09-15T12:04:06.897054",
     "exception": false,
     "start_time": "2021-09-15T12:04:06.827289",
     "status": "completed"
    },
    "tags": []
   },
   "outputs": [],
   "source": [
    "def UNet(input_shape = (128,128,3)):\n",
    "    filter_size = [64,128,256,512,1024]\n",
    "    inputs = keras.Input(shape = input_shape)\n",
    "    \n",
    "    d1 , p1 = down_block(input_tensor= inputs,no_filters=filter_size[0],\n",
    "                         kernel_size = (3,3),strides=(1,1),\n",
    "                         padding=\"same\",kernel_initializer=\"he_normal\",\n",
    "                         max_pool_window=(2,2),max_pool_stride=(2,2))\n",
    "    d2 , p2 = down_block(input_tensor= p1,no_filters=filter_size[1],\n",
    "                         kernel_size = (3,3),strides=(1,1),\n",
    "                         padding=\"same\", kernel_initializer=\"he_normal\",\n",
    "                         max_pool_window=(2,2),max_pool_stride=(2,2))  \n",
    "    d3 , p3 = down_block(input_tensor= p2, no_filters=filter_size[2],\n",
    "                         kernel_size = (3,3),strides=(1,1),\n",
    "                         padding=\"same\", kernel_initializer=\"he_normal\",\n",
    "                         max_pool_window=(2,2), max_pool_stride=(2,2))\n",
    "    d4 , p4 = down_block(input_tensor= p3, no_filters=filter_size[3],\n",
    "                         kernel_size = (3,3), strides=(1,1),\n",
    "                         padding=\"same\",kernel_initializer=\"he_normal\",\n",
    "                         max_pool_window=(2,2), max_pool_stride=(2,2))\n",
    "\n",
    "    b = bottle_neck(input_tensor= p4, no_filters=filter_size[4],\n",
    "                         kernel_size = (3,3), strides=(1,1),\n",
    "                         padding=\"same\", kernel_initializer=\"he_normal\")\n",
    "    \n",
    "    \n",
    "    u4 = up_block(input_tensor = b, no_filters = filter_size[3],\n",
    "                  skip_connection = d4,kernel_size=(3, 3),\n",
    "                  strides=(1, 1),upsampling_factor = (2,2),\n",
    "                  max_pool_window = (2,2), padding=\"same\",kernel_initializer=\"he_normal\")\n",
    "    u3 = up_block(input_tensor = u4,no_filters = filter_size[2],\n",
    "                  skip_connection = d3, kernel_size=(3, 3),\n",
    "                  strides=(1, 1),upsampling_factor = (2,2),\n",
    "                  max_pool_window = (2,2),padding=\"same\",kernel_initializer=\"he_normal\")\n",
    "    u2 = up_block(input_tensor = u3, no_filters = filter_size[1],\n",
    "                  skip_connection = d2,kernel_size=(3, 3),\n",
    "                  strides=(1, 1), upsampling_factor = (2,2),\n",
    "                  max_pool_window = (2,2),padding=\"same\", kernel_initializer=\"he_normal\")\n",
    "    u1 = up_block(input_tensor = u2,no_filters = filter_size[0],\n",
    "                  skip_connection = d1,kernel_size=(3, 3),\n",
    "                  strides=(1, 1), upsampling_factor = (2,2),\n",
    "                  max_pool_window = (2,2), padding=\"same\",kernel_initializer=\"he_normal\")\n",
    "    \n",
    "    output = output_block(input_tensor=u1 , padding = \"same\",kernel_initializer= \"he_normal\")\n",
    "    model = Model(inputs = inputs , outputs = output)\n",
    "    return model"
   ]
  },
  {
   "cell_type": "code",
   "execution_count": 42,
   "id": "95fa311e",
   "metadata": {
    "execution": {
     "iopub.execute_input": "2021-09-15T12:04:07.004953Z",
     "iopub.status.busy": "2021-09-15T12:04:07.004308Z",
     "iopub.status.idle": "2021-09-15T12:04:09.400506Z",
     "shell.execute_reply": "2021-09-15T12:04:09.400048Z",
     "shell.execute_reply.started": "2021-09-15T11:46:22.150460Z"
    },
    "papermill": {
     "duration": 2.451991,
     "end_time": "2021-09-15T12:04:09.400649",
     "exception": false,
     "start_time": "2021-09-15T12:04:06.948658",
     "status": "completed"
    },
    "tags": []
   },
   "outputs": [
    {
     "name": "stderr",
     "output_type": "stream",
     "text": [
      "2021-09-15 12:04:07.027714: I tensorflow/compiler/jit/xla_cpu_device.cc:41] Not creating XLA devices, tf_xla_enable_xla_devices not set\n",
      "2021-09-15 12:04:07.031059: I tensorflow/stream_executor/platform/default/dso_loader.cc:49] Successfully opened dynamic library libcuda.so.1\n",
      "2021-09-15 12:04:07.069085: I tensorflow/stream_executor/cuda/cuda_gpu_executor.cc:941] successful NUMA node read from SysFS had negative value (-1), but there must be at least one NUMA node, so returning NUMA node zero\n",
      "2021-09-15 12:04:07.069739: I tensorflow/core/common_runtime/gpu/gpu_device.cc:1720] Found device 0 with properties: \n",
      "pciBusID: 0000:00:04.0 name: Tesla P100-PCIE-16GB computeCapability: 6.0\n",
      "coreClock: 1.3285GHz coreCount: 56 deviceMemorySize: 15.90GiB deviceMemoryBandwidth: 681.88GiB/s\n",
      "2021-09-15 12:04:07.069813: I tensorflow/stream_executor/platform/default/dso_loader.cc:49] Successfully opened dynamic library libcudart.so.11.0\n",
      "2021-09-15 12:04:07.106558: I tensorflow/stream_executor/platform/default/dso_loader.cc:49] Successfully opened dynamic library libcublas.so.11\n",
      "2021-09-15 12:04:07.106646: I tensorflow/stream_executor/platform/default/dso_loader.cc:49] Successfully opened dynamic library libcublasLt.so.11\n",
      "2021-09-15 12:04:07.122339: I tensorflow/stream_executor/platform/default/dso_loader.cc:49] Successfully opened dynamic library libcufft.so.10\n",
      "2021-09-15 12:04:07.143982: I tensorflow/stream_executor/platform/default/dso_loader.cc:49] Successfully opened dynamic library libcurand.so.10\n",
      "2021-09-15 12:04:07.171760: I tensorflow/stream_executor/platform/default/dso_loader.cc:49] Successfully opened dynamic library libcusolver.so.10\n",
      "2021-09-15 12:04:07.178619: I tensorflow/stream_executor/platform/default/dso_loader.cc:49] Successfully opened dynamic library libcusparse.so.11\n",
      "2021-09-15 12:04:07.181718: I tensorflow/stream_executor/platform/default/dso_loader.cc:49] Successfully opened dynamic library libcudnn.so.8\n",
      "2021-09-15 12:04:07.181869: I tensorflow/stream_executor/cuda/cuda_gpu_executor.cc:941] successful NUMA node read from SysFS had negative value (-1), but there must be at least one NUMA node, so returning NUMA node zero\n",
      "2021-09-15 12:04:07.182547: I tensorflow/stream_executor/cuda/cuda_gpu_executor.cc:941] successful NUMA node read from SysFS had negative value (-1), but there must be at least one NUMA node, so returning NUMA node zero\n",
      "2021-09-15 12:04:07.184147: I tensorflow/core/common_runtime/gpu/gpu_device.cc:1862] Adding visible gpu devices: 0\n",
      "2021-09-15 12:04:07.184628: I tensorflow/core/platform/cpu_feature_guard.cc:142] This TensorFlow binary is optimized with oneAPI Deep Neural Network Library (oneDNN) to use the following CPU instructions in performance-critical operations:  AVX2 AVX512F FMA\n",
      "To enable them in other operations, rebuild TensorFlow with the appropriate compiler flags.\n",
      "2021-09-15 12:04:07.184823: I tensorflow/compiler/jit/xla_gpu_device.cc:99] Not creating XLA devices, tf_xla_enable_xla_devices not set\n",
      "2021-09-15 12:04:07.184993: I tensorflow/stream_executor/cuda/cuda_gpu_executor.cc:941] successful NUMA node read from SysFS had negative value (-1), but there must be at least one NUMA node, so returning NUMA node zero\n",
      "2021-09-15 12:04:07.185562: I tensorflow/core/common_runtime/gpu/gpu_device.cc:1720] Found device 0 with properties: \n",
      "pciBusID: 0000:00:04.0 name: Tesla P100-PCIE-16GB computeCapability: 6.0\n",
      "coreClock: 1.3285GHz coreCount: 56 deviceMemorySize: 15.90GiB deviceMemoryBandwidth: 681.88GiB/s\n",
      "2021-09-15 12:04:07.185604: I tensorflow/stream_executor/platform/default/dso_loader.cc:49] Successfully opened dynamic library libcudart.so.11.0\n",
      "2021-09-15 12:04:07.185625: I tensorflow/stream_executor/platform/default/dso_loader.cc:49] Successfully opened dynamic library libcublas.so.11\n",
      "2021-09-15 12:04:07.185642: I tensorflow/stream_executor/platform/default/dso_loader.cc:49] Successfully opened dynamic library libcublasLt.so.11\n",
      "2021-09-15 12:04:07.185659: I tensorflow/stream_executor/platform/default/dso_loader.cc:49] Successfully opened dynamic library libcufft.so.10\n",
      "2021-09-15 12:04:07.185675: I tensorflow/stream_executor/platform/default/dso_loader.cc:49] Successfully opened dynamic library libcurand.so.10\n",
      "2021-09-15 12:04:07.185691: I tensorflow/stream_executor/platform/default/dso_loader.cc:49] Successfully opened dynamic library libcusolver.so.10\n",
      "2021-09-15 12:04:07.185709: I tensorflow/stream_executor/platform/default/dso_loader.cc:49] Successfully opened dynamic library libcusparse.so.11\n",
      "2021-09-15 12:04:07.185726: I tensorflow/stream_executor/platform/default/dso_loader.cc:49] Successfully opened dynamic library libcudnn.so.8\n",
      "2021-09-15 12:04:07.185795: I tensorflow/stream_executor/cuda/cuda_gpu_executor.cc:941] successful NUMA node read from SysFS had negative value (-1), but there must be at least one NUMA node, so returning NUMA node zero\n",
      "2021-09-15 12:04:07.186436: I tensorflow/stream_executor/cuda/cuda_gpu_executor.cc:941] successful NUMA node read from SysFS had negative value (-1), but there must be at least one NUMA node, so returning NUMA node zero\n",
      "2021-09-15 12:04:07.186975: I tensorflow/core/common_runtime/gpu/gpu_device.cc:1862] Adding visible gpu devices: 0\n",
      "2021-09-15 12:04:07.187790: I tensorflow/stream_executor/platform/default/dso_loader.cc:49] Successfully opened dynamic library libcudart.so.11.0\n",
      "2021-09-15 12:04:08.661555: I tensorflow/core/common_runtime/gpu/gpu_device.cc:1261] Device interconnect StreamExecutor with strength 1 edge matrix:\n",
      "2021-09-15 12:04:08.661603: I tensorflow/core/common_runtime/gpu/gpu_device.cc:1267]      0 \n",
      "2021-09-15 12:04:08.661613: I tensorflow/core/common_runtime/gpu/gpu_device.cc:1280] 0:   N \n",
      "2021-09-15 12:04:08.663652: I tensorflow/stream_executor/cuda/cuda_gpu_executor.cc:941] successful NUMA node read from SysFS had negative value (-1), but there must be at least one NUMA node, so returning NUMA node zero\n",
      "2021-09-15 12:04:08.664412: I tensorflow/stream_executor/cuda/cuda_gpu_executor.cc:941] successful NUMA node read from SysFS had negative value (-1), but there must be at least one NUMA node, so returning NUMA node zero\n",
      "2021-09-15 12:04:08.665087: I tensorflow/stream_executor/cuda/cuda_gpu_executor.cc:941] successful NUMA node read from SysFS had negative value (-1), but there must be at least one NUMA node, so returning NUMA node zero\n",
      "2021-09-15 12:04:08.665659: I tensorflow/core/common_runtime/gpu/gpu_device.cc:1406] Created TensorFlow device (/job:localhost/replica:0/task:0/device:GPU:0 with 14957 MB memory) -> physical GPU (device: 0, name: Tesla P100-PCIE-16GB, pci bus id: 0000:00:04.0, compute capability: 6.0)\n"
     ]
    }
   ],
   "source": [
    "model = UNet(input_shape = (128,128,3))\n",
    "model.compile(optimizer = Adam(lr = 1e-4), loss = 'binary_crossentropy', metrics = ['accuracy'])"
   ]
  },
  {
   "cell_type": "code",
   "execution_count": 43,
   "id": "73702914",
   "metadata": {
    "execution": {
     "iopub.execute_input": "2021-09-15T12:04:09.523090Z",
     "iopub.status.busy": "2021-09-15T12:04:09.510174Z",
     "iopub.status.idle": "2021-09-15T12:04:09.550118Z",
     "shell.execute_reply": "2021-09-15T12:04:09.549501Z",
     "shell.execute_reply.started": "2021-09-15T11:46:23.108380Z"
    },
    "papermill": {
     "duration": 0.097583,
     "end_time": "2021-09-15T12:04:09.550279",
     "exception": false,
     "start_time": "2021-09-15T12:04:09.452696",
     "status": "completed"
    },
    "tags": []
   },
   "outputs": [
    {
     "name": "stdout",
     "output_type": "stream",
     "text": [
      "Model: \"model\"\n",
      "__________________________________________________________________________________________________\n",
      "Layer (type)                    Output Shape         Param #     Connected to                     \n",
      "==================================================================================================\n",
      "input_1 (InputLayer)            [(None, 128, 128, 3) 0                                            \n",
      "__________________________________________________________________________________________________\n",
      "conv2d (Conv2D)                 (None, 128, 128, 64) 1792        input_1[0][0]                    \n",
      "__________________________________________________________________________________________________\n",
      "batch_normalization (BatchNorma (None, 128, 128, 64) 256         conv2d[0][0]                     \n",
      "__________________________________________________________________________________________________\n",
      "activation (Activation)         (None, 128, 128, 64) 0           batch_normalization[0][0]        \n",
      "__________________________________________________________________________________________________\n",
      "conv2d_1 (Conv2D)               (None, 128, 128, 64) 36928       activation[0][0]                 \n",
      "__________________________________________________________________________________________________\n",
      "batch_normalization_1 (BatchNor (None, 128, 128, 64) 256         conv2d_1[0][0]                   \n",
      "__________________________________________________________________________________________________\n",
      "activation_1 (Activation)       (None, 128, 128, 64) 0           batch_normalization_1[0][0]      \n",
      "__________________________________________________________________________________________________\n",
      "max_pooling2d (MaxPooling2D)    (None, 64, 64, 64)   0           activation_1[0][0]               \n",
      "__________________________________________________________________________________________________\n",
      "conv2d_2 (Conv2D)               (None, 64, 64, 128)  73856       max_pooling2d[0][0]              \n",
      "__________________________________________________________________________________________________\n",
      "batch_normalization_2 (BatchNor (None, 64, 64, 128)  512         conv2d_2[0][0]                   \n",
      "__________________________________________________________________________________________________\n",
      "activation_2 (Activation)       (None, 64, 64, 128)  0           batch_normalization_2[0][0]      \n",
      "__________________________________________________________________________________________________\n",
      "conv2d_3 (Conv2D)               (None, 64, 64, 128)  147584      activation_2[0][0]               \n",
      "__________________________________________________________________________________________________\n",
      "batch_normalization_3 (BatchNor (None, 64, 64, 128)  512         conv2d_3[0][0]                   \n",
      "__________________________________________________________________________________________________\n",
      "activation_3 (Activation)       (None, 64, 64, 128)  0           batch_normalization_3[0][0]      \n",
      "__________________________________________________________________________________________________\n",
      "max_pooling2d_1 (MaxPooling2D)  (None, 32, 32, 128)  0           activation_3[0][0]               \n",
      "__________________________________________________________________________________________________\n",
      "conv2d_4 (Conv2D)               (None, 32, 32, 256)  295168      max_pooling2d_1[0][0]            \n",
      "__________________________________________________________________________________________________\n",
      "batch_normalization_4 (BatchNor (None, 32, 32, 256)  1024        conv2d_4[0][0]                   \n",
      "__________________________________________________________________________________________________\n",
      "activation_4 (Activation)       (None, 32, 32, 256)  0           batch_normalization_4[0][0]      \n",
      "__________________________________________________________________________________________________\n",
      "conv2d_5 (Conv2D)               (None, 32, 32, 256)  590080      activation_4[0][0]               \n",
      "__________________________________________________________________________________________________\n",
      "batch_normalization_5 (BatchNor (None, 32, 32, 256)  1024        conv2d_5[0][0]                   \n",
      "__________________________________________________________________________________________________\n",
      "activation_5 (Activation)       (None, 32, 32, 256)  0           batch_normalization_5[0][0]      \n",
      "__________________________________________________________________________________________________\n",
      "max_pooling2d_2 (MaxPooling2D)  (None, 16, 16, 256)  0           activation_5[0][0]               \n",
      "__________________________________________________________________________________________________\n",
      "conv2d_6 (Conv2D)               (None, 16, 16, 512)  1180160     max_pooling2d_2[0][0]            \n",
      "__________________________________________________________________________________________________\n",
      "batch_normalization_6 (BatchNor (None, 16, 16, 512)  2048        conv2d_6[0][0]                   \n",
      "__________________________________________________________________________________________________\n",
      "activation_6 (Activation)       (None, 16, 16, 512)  0           batch_normalization_6[0][0]      \n",
      "__________________________________________________________________________________________________\n",
      "conv2d_7 (Conv2D)               (None, 16, 16, 512)  2359808     activation_6[0][0]               \n",
      "__________________________________________________________________________________________________\n",
      "batch_normalization_7 (BatchNor (None, 16, 16, 512)  2048        conv2d_7[0][0]                   \n",
      "__________________________________________________________________________________________________\n",
      "activation_7 (Activation)       (None, 16, 16, 512)  0           batch_normalization_7[0][0]      \n",
      "__________________________________________________________________________________________________\n",
      "max_pooling2d_3 (MaxPooling2D)  (None, 8, 8, 512)    0           activation_7[0][0]               \n",
      "__________________________________________________________________________________________________\n",
      "conv2d_8 (Conv2D)               (None, 8, 8, 1024)   4719616     max_pooling2d_3[0][0]            \n",
      "__________________________________________________________________________________________________\n",
      "batch_normalization_8 (BatchNor (None, 8, 8, 1024)   4096        conv2d_8[0][0]                   \n",
      "__________________________________________________________________________________________________\n",
      "activation_8 (Activation)       (None, 8, 8, 1024)   0           batch_normalization_8[0][0]      \n",
      "__________________________________________________________________________________________________\n",
      "conv2d_9 (Conv2D)               (None, 8, 8, 1024)   9438208     activation_8[0][0]               \n",
      "__________________________________________________________________________________________________\n",
      "batch_normalization_9 (BatchNor (None, 8, 8, 1024)   4096        conv2d_9[0][0]                   \n",
      "__________________________________________________________________________________________________\n",
      "activation_9 (Activation)       (None, 8, 8, 1024)   0           batch_normalization_9[0][0]      \n",
      "__________________________________________________________________________________________________\n",
      "up_sampling2d (UpSampling2D)    (None, 16, 16, 1024) 0           activation_9[0][0]               \n",
      "__________________________________________________________________________________________________\n",
      "conv2d_10 (Conv2D)              (None, 16, 16, 512)  2097664     up_sampling2d[0][0]              \n",
      "__________________________________________________________________________________________________\n",
      "batch_normalization_10 (BatchNo (None, 16, 16, 512)  2048        conv2d_10[0][0]                  \n",
      "__________________________________________________________________________________________________\n",
      "activation_10 (Activation)      (None, 16, 16, 512)  0           batch_normalization_10[0][0]     \n",
      "__________________________________________________________________________________________________\n",
      "concatenate (Concatenate)       (None, 16, 16, 1024) 0           activation_7[0][0]               \n",
      "                                                                 activation_10[0][0]              \n",
      "__________________________________________________________________________________________________\n",
      "conv2d_11 (Conv2D)              (None, 16, 16, 512)  4719104     concatenate[0][0]                \n",
      "__________________________________________________________________________________________________\n",
      "batch_normalization_11 (BatchNo (None, 16, 16, 512)  2048        conv2d_11[0][0]                  \n",
      "__________________________________________________________________________________________________\n",
      "activation_11 (Activation)      (None, 16, 16, 512)  0           batch_normalization_11[0][0]     \n",
      "__________________________________________________________________________________________________\n",
      "conv2d_12 (Conv2D)              (None, 16, 16, 512)  2359808     activation_11[0][0]              \n",
      "__________________________________________________________________________________________________\n",
      "batch_normalization_12 (BatchNo (None, 16, 16, 512)  2048        conv2d_12[0][0]                  \n",
      "__________________________________________________________________________________________________\n",
      "activation_12 (Activation)      (None, 16, 16, 512)  0           batch_normalization_12[0][0]     \n",
      "__________________________________________________________________________________________________\n",
      "up_sampling2d_1 (UpSampling2D)  (None, 32, 32, 512)  0           activation_12[0][0]              \n",
      "__________________________________________________________________________________________________\n",
      "conv2d_13 (Conv2D)              (None, 32, 32, 256)  524544      up_sampling2d_1[0][0]            \n",
      "__________________________________________________________________________________________________\n",
      "batch_normalization_13 (BatchNo (None, 32, 32, 256)  1024        conv2d_13[0][0]                  \n",
      "__________________________________________________________________________________________________\n",
      "activation_13 (Activation)      (None, 32, 32, 256)  0           batch_normalization_13[0][0]     \n",
      "__________________________________________________________________________________________________\n",
      "concatenate_1 (Concatenate)     (None, 32, 32, 512)  0           activation_5[0][0]               \n",
      "                                                                 activation_13[0][0]              \n",
      "__________________________________________________________________________________________________\n",
      "conv2d_14 (Conv2D)              (None, 32, 32, 256)  1179904     concatenate_1[0][0]              \n",
      "__________________________________________________________________________________________________\n",
      "batch_normalization_14 (BatchNo (None, 32, 32, 256)  1024        conv2d_14[0][0]                  \n",
      "__________________________________________________________________________________________________\n",
      "activation_14 (Activation)      (None, 32, 32, 256)  0           batch_normalization_14[0][0]     \n",
      "__________________________________________________________________________________________________\n",
      "conv2d_15 (Conv2D)              (None, 32, 32, 256)  590080      activation_14[0][0]              \n",
      "__________________________________________________________________________________________________\n",
      "batch_normalization_15 (BatchNo (None, 32, 32, 256)  1024        conv2d_15[0][0]                  \n",
      "__________________________________________________________________________________________________\n",
      "activation_15 (Activation)      (None, 32, 32, 256)  0           batch_normalization_15[0][0]     \n",
      "__________________________________________________________________________________________________\n",
      "up_sampling2d_2 (UpSampling2D)  (None, 64, 64, 256)  0           activation_15[0][0]              \n",
      "__________________________________________________________________________________________________\n",
      "conv2d_16 (Conv2D)              (None, 64, 64, 128)  131200      up_sampling2d_2[0][0]            \n",
      "__________________________________________________________________________________________________\n",
      "batch_normalization_16 (BatchNo (None, 64, 64, 128)  512         conv2d_16[0][0]                  \n",
      "__________________________________________________________________________________________________\n",
      "activation_16 (Activation)      (None, 64, 64, 128)  0           batch_normalization_16[0][0]     \n",
      "__________________________________________________________________________________________________\n",
      "concatenate_2 (Concatenate)     (None, 64, 64, 256)  0           activation_3[0][0]               \n",
      "                                                                 activation_16[0][0]              \n",
      "__________________________________________________________________________________________________\n",
      "conv2d_17 (Conv2D)              (None, 64, 64, 128)  295040      concatenate_2[0][0]              \n",
      "__________________________________________________________________________________________________\n",
      "batch_normalization_17 (BatchNo (None, 64, 64, 128)  512         conv2d_17[0][0]                  \n",
      "__________________________________________________________________________________________________\n",
      "activation_17 (Activation)      (None, 64, 64, 128)  0           batch_normalization_17[0][0]     \n",
      "__________________________________________________________________________________________________\n",
      "conv2d_18 (Conv2D)              (None, 64, 64, 128)  147584      activation_17[0][0]              \n",
      "__________________________________________________________________________________________________\n",
      "batch_normalization_18 (BatchNo (None, 64, 64, 128)  512         conv2d_18[0][0]                  \n",
      "__________________________________________________________________________________________________\n",
      "activation_18 (Activation)      (None, 64, 64, 128)  0           batch_normalization_18[0][0]     \n",
      "__________________________________________________________________________________________________\n",
      "up_sampling2d_3 (UpSampling2D)  (None, 128, 128, 128 0           activation_18[0][0]              \n",
      "__________________________________________________________________________________________________\n",
      "conv2d_19 (Conv2D)              (None, 128, 128, 64) 32832       up_sampling2d_3[0][0]            \n",
      "__________________________________________________________________________________________________\n",
      "batch_normalization_19 (BatchNo (None, 128, 128, 64) 256         conv2d_19[0][0]                  \n",
      "__________________________________________________________________________________________________\n",
      "activation_19 (Activation)      (None, 128, 128, 64) 0           batch_normalization_19[0][0]     \n",
      "__________________________________________________________________________________________________\n",
      "concatenate_3 (Concatenate)     (None, 128, 128, 128 0           activation_1[0][0]               \n",
      "                                                                 activation_19[0][0]              \n",
      "__________________________________________________________________________________________________\n",
      "conv2d_20 (Conv2D)              (None, 128, 128, 64) 73792       concatenate_3[0][0]              \n",
      "__________________________________________________________________________________________________\n",
      "batch_normalization_20 (BatchNo (None, 128, 128, 64) 256         conv2d_20[0][0]                  \n",
      "__________________________________________________________________________________________________\n",
      "activation_20 (Activation)      (None, 128, 128, 64) 0           batch_normalization_20[0][0]     \n",
      "__________________________________________________________________________________________________\n",
      "conv2d_21 (Conv2D)              (None, 128, 128, 64) 36928       activation_20[0][0]              \n",
      "__________________________________________________________________________________________________\n",
      "batch_normalization_21 (BatchNo (None, 128, 128, 64) 256         conv2d_21[0][0]                  \n",
      "__________________________________________________________________________________________________\n",
      "activation_21 (Activation)      (None, 128, 128, 64) 0           batch_normalization_21[0][0]     \n",
      "__________________________________________________________________________________________________\n",
      "conv2d_22 (Conv2D)              (None, 128, 128, 2)  1154        activation_21[0][0]              \n",
      "__________________________________________________________________________________________________\n",
      "conv2d_23 (Conv2D)              (None, 128, 128, 1)  3           conv2d_22[0][0]                  \n",
      "==================================================================================================\n",
      "Total params: 31,060,229\n",
      "Trainable params: 31,046,533\n",
      "Non-trainable params: 13,696\n",
      "__________________________________________________________________________________________________\n"
     ]
    }
   ],
   "source": [
    "model.summary()"
   ]
  },
  {
   "cell_type": "code",
   "execution_count": 44,
   "id": "3aab11bc",
   "metadata": {
    "execution": {
     "iopub.execute_input": "2021-09-15T12:04:09.660333Z",
     "iopub.status.busy": "2021-09-15T12:04:09.659585Z",
     "iopub.status.idle": "2021-09-15T12:18:29.758215Z",
     "shell.execute_reply": "2021-09-15T12:18:29.758627Z",
     "shell.execute_reply.started": "2021-09-15T11:46:23.359179Z"
    },
    "papermill": {
     "duration": 860.155234,
     "end_time": "2021-09-15T12:18:29.758775",
     "exception": false,
     "start_time": "2021-09-15T12:04:09.603541",
     "status": "completed"
    },
    "tags": []
   },
   "outputs": [
    {
     "name": "stderr",
     "output_type": "stream",
     "text": [
      "/opt/conda/lib/python3.7/site-packages/tensorflow/python/keras/engine/training.py:1844: UserWarning: `Model.fit_generator` is deprecated and will be removed in a future version. Please use `Model.fit`, which supports generators.\n",
      "  warnings.warn('`Model.fit_generator` is deprecated and '\n",
      "2021-09-15 12:04:09.939853: I tensorflow/compiler/mlir/mlir_graph_optimization_pass.cc:116] None of the MLIR optimization passes are enabled (registered 2)\n",
      "2021-09-15 12:04:09.944095: I tensorflow/core/platform/profile_utils/cpu_utils.cc:112] CPU Frequency: 2000189999 Hz\n"
     ]
    },
    {
     "name": "stdout",
     "output_type": "stream",
     "text": [
      "Epoch 1/10\n"
     ]
    },
    {
     "name": "stderr",
     "output_type": "stream",
     "text": [
      "2021-09-15 12:04:12.495898: I tensorflow/stream_executor/platform/default/dso_loader.cc:49] Successfully opened dynamic library libcudnn.so.8\n",
      "2021-09-15 12:04:17.908060: I tensorflow/stream_executor/platform/default/dso_loader.cc:49] Successfully opened dynamic library libcublas.so.11\n",
      "2021-09-15 12:04:18.661839: I tensorflow/stream_executor/platform/default/dso_loader.cc:49] Successfully opened dynamic library libcublasLt.so.11\n"
     ]
    },
    {
     "name": "stdout",
     "output_type": "stream",
     "text": [
      "990/990 [==============================] - 186s 178ms/step - loss: 0.5554 - accuracy: 0.7111 - val_loss: 0.4600 - val_accuracy: 0.7433\n",
      "Epoch 2/10\n",
      "990/990 [==============================] - 81s 81ms/step - loss: 0.4757 - accuracy: 0.7374 - val_loss: 0.5060 - val_accuracy: 0.7355\n",
      "Epoch 3/10\n",
      "990/990 [==============================] - 77s 78ms/step - loss: 0.4534 - accuracy: 0.7527 - val_loss: 0.4347 - val_accuracy: 0.7658\n",
      "Epoch 4/10\n",
      "990/990 [==============================] - 74s 75ms/step - loss: 0.4353 - accuracy: 0.7653 - val_loss: 0.4520 - val_accuracy: 0.7592\n",
      "Epoch 5/10\n",
      "990/990 [==============================] - 74s 75ms/step - loss: 0.4197 - accuracy: 0.7716 - val_loss: 0.4265 - val_accuracy: 0.7650\n",
      "Epoch 6/10\n",
      "990/990 [==============================] - 74s 75ms/step - loss: 0.4119 - accuracy: 0.7791 - val_loss: 0.4309 - val_accuracy: 0.7590\n",
      "Epoch 7/10\n",
      "990/990 [==============================] - 73s 74ms/step - loss: 0.3988 - accuracy: 0.7814 - val_loss: 0.3960 - val_accuracy: 0.7896\n",
      "Epoch 8/10\n",
      "990/990 [==============================] - 74s 74ms/step - loss: 0.3975 - accuracy: 0.7835 - val_loss: 0.3830 - val_accuracy: 0.7929\n",
      "Epoch 9/10\n",
      "990/990 [==============================] - 73s 74ms/step - loss: 0.3766 - accuracy: 0.7953 - val_loss: 0.3967 - val_accuracy: 0.7873\n",
      "Epoch 10/10\n",
      "990/990 [==============================] - 73s 74ms/step - loss: 0.3675 - accuracy: 0.8012 - val_loss: 0.4183 - val_accuracy: 0.7821\n"
     ]
    },
    {
     "data": {
      "text/plain": [
       "<tensorflow.python.keras.callbacks.History at 0x7f278432eed0>"
      ]
     },
     "execution_count": 44,
     "metadata": {},
     "output_type": "execute_result"
    }
   ],
   "source": [
    "train_steps =  len(os.listdir(MASK_TRAIN_DIR))/batch_size\n",
    "\n",
    "\n",
    "model.fit_generator(train_gen , validation_data = val_gen , steps_per_epoch = train_steps , epochs=epochs)"
   ]
  },
  {
   "cell_type": "code",
   "execution_count": 45,
   "id": "041ac097",
   "metadata": {
    "execution": {
     "iopub.execute_input": "2021-09-15T12:18:34.936776Z",
     "iopub.status.busy": "2021-09-15T12:18:34.936249Z",
     "iopub.status.idle": "2021-09-15T12:18:35.656792Z",
     "shell.execute_reply": "2021-09-15T12:18:35.656088Z",
     "shell.execute_reply.started": "2021-09-15T11:46:35.165618Z"
    },
    "papermill": {
     "duration": 3.333472,
     "end_time": "2021-09-15T12:18:35.656935",
     "exception": false,
     "start_time": "2021-09-15T12:18:32.323463",
     "status": "completed"
    },
    "tags": []
   },
   "outputs": [
    {
     "data": {
      "text/plain": [
       "<matplotlib.image.AxesImage at 0x7f26f419e910>"
      ]
     },
     "execution_count": 45,
     "metadata": {},
     "output_type": "execute_result"
    },
    {
     "data": {
      "image/png": "[encoded data removed]",
      "text/plain": [
       "<Figure size 432x288 with 2 Axes>"
      ]
     },
     "metadata": {
      "needs_background": "light"
     },
     "output_type": "display_data"
    }
   ],
   "source": [
    "x, y = val_gen.__getitem__(12)\n",
    "result = model.predict(x)\n",
    "\n",
    "result = result > 0.5\n",
    "\n",
    "fig = plt.figure()\n",
    "fig.subplots_adjust(hspace=0.4, wspace=0.4)\n",
    "\n",
    "ax = fig.add_subplot(1, 2, 1)\n",
    "ax.imshow(np.reshape(y[0]*255, (image_size, image_size)), cmap=\"gray\")\n",
    "\n",
    "ax = fig.add_subplot(1, 2, 2)\n",
    "ax.imshow(np.reshape(result[0]*255, (image_size, image_size)), cmap=\"gray\")"
   ]
  },
  {
   "cell_type": "code",
   "execution_count": null,
   "id": "db55e3d7",
   "metadata": {
    "papermill": {
     "duration": 2.762945,
     "end_time": "2021-09-15T12:18:41.417780",
     "exception": false,
     "start_time": "2021-09-15T12:18:38.654835",
     "status": "completed"
    },
    "tags": []
   },
   "outputs": [],
   "source": []
  },
  {
   "cell_type": "code",
   "execution_count": null,
   "id": "5152fa72",
   "metadata": {
    "papermill": {
     "duration": 2.546693,
     "end_time": "2021-09-15T12:18:46.563378",
     "exception": false,
     "start_time": "2021-09-15T12:18:44.016685",
     "status": "completed"
    },
    "tags": []
   },
   "outputs": [],
   "source": []
  },
  {
   "cell_type": "code",
   "execution_count": null,
   "id": "49699c63",
   "metadata": {
    "papermill": {
     "duration": 2.812625,
     "end_time": "2021-09-15T12:18:51.965079",
     "exception": false,
     "start_time": "2021-09-15T12:18:49.152454",
     "status": "completed"
    },
    "tags": []
   },
   "outputs": [],
   "source": []
  },
  {
   "cell_type": "code",
   "execution_count": null,
   "id": "4fc519a9",
   "metadata": {
    "papermill": {
     "duration": 2.556467,
     "end_time": "2021-09-15T12:18:57.104837",
     "exception": false,
     "start_time": "2021-09-15T12:18:54.548370",
     "status": "completed"
    },
    "tags": []
   },
   "outputs": [],
   "source": []
  },
  {
   "cell_type": "code",
   "execution_count": null,
   "id": "7242d1f4",
   "metadata": {
    "papermill": {
     "duration": 2.773549,
     "end_time": "2021-09-15T12:19:02.448593",
     "exception": false,
     "start_time": "2021-09-15T12:18:59.675044",
     "status": "completed"
    },
    "tags": []
   },
   "outputs": [],
   "source": []
  },
  {
   "cell_type": "code",
   "execution_count": null,
   "id": "4854e13e",
   "metadata": {
    "papermill": {
     "duration": 2.589767,
     "end_time": "2021-09-15T12:19:07.573093",
     "exception": false,
     "start_time": "2021-09-15T12:19:04.983326",
     "status": "completed"
    },
    "tags": []
   },
   "outputs": [],
   "source": []
  },
  {
   "cell_type": "code",
   "execution_count": null,
   "id": "e8561e79",
   "metadata": {
    "papermill": {
     "duration": 2.827282,
     "end_time": "2021-09-15T12:19:13.415209",
     "exception": false,
     "start_time": "2021-09-15T12:19:10.587927",
     "status": "completed"
    },
    "tags": []
   },
   "outputs": [],
   "source": []
  },
  {
   "cell_type": "code",
   "execution_count": null,
   "id": "6747cead",
   "metadata": {
    "papermill": {
     "duration": 2.564958,
     "end_time": "2021-09-15T12:19:18.526166",
     "exception": false,
     "start_time": "2021-09-15T12:19:15.961208",
     "status": "completed"
    },
    "tags": []
   },
   "outputs": [],
   "source": []
  },
  {
   "cell_type": "code",
   "execution_count": null,
   "id": "e67af933",
   "metadata": {
    "papermill": {
     "duration": 2.642103,
     "end_time": "2021-09-15T12:19:23.719527",
     "exception": false,
     "start_time": "2021-09-15T12:19:21.077424",
     "status": "completed"
    },
    "tags": []
   },
   "outputs": [],
   "source": []
  }
 ],
 "metadata": {
  "kernelspec": {
   "display_name": "Python 3",
   "language": "python",
   "name": "python3"
  },
  "language_info": {
   "codemirror_mode": {
    "name": "ipython",
    "version": 3
   },
   "file_extension": ".py",
   "mimetype": "text/x-python",
   "name": "python",
   "nbconvert_exporter": "python",
   "pygments_lexer": "ipython3",
   "version": "3.7.10"
  },
  "papermill": {
   "default_parameters": {},
   "duration": 1071.340695,
   "end_time": "2021-09-15T12:19:29.236640",
   "environment_variables": {},
   "exception": null,
   "input_path": "__notebook__.ipynb",
   "output_path": "__notebook__.ipynb",
   "parameters": {},
   "start_time": "2021-09-15T12:01:37.895945",
   "version": "2.3.3"
  },
  "widgets": {
   "application/vnd.jupyter.widget-state+json": {
    "state": {
     "05005c8172584f979c042812063a4255": {
      "model_module": "@jupyter-widgets/controls",
      "model_module_version": "1.5.0",
      "model_name": "DescriptionStyleModel",
      "state": {
       "_model_module": "@jupyter-widgets/controls",
       "_model_module_version": "1.5.0",
       "_model_name": "DescriptionStyleModel",
       "_view_count": null,
       "_view_module": "@jupyter-widgets/base",
       "_view_module_version": "1.2.0",
       "_view_name": "StyleView",
       "description_width": ""
      }
     },
     "186bd25253364fb2b9e17ddbd76726be": {
      "model_module": "@jupyter-widgets/controls",
      "model_module_version": "1.5.0",
      "model_name": "HTMLModel",
      "state": {
       "_dom_classes": [],
       "_model_module": "@jupyter-widgets/controls",
       "_model_module_version": "1.5.0",
       "_model_name": "HTMLModel",
       "_view_count": null,
       "_view_module": "@jupyter-widgets/controls",
       "_view_module_version": "1.5.0",
       "_view_name": "HTMLView",
       "description": "",
       "description_tooltip": null,
       "layout": "IPY_MODEL_c9cf81e2dfaa4cb1a0250e76d729c78c",
       "placeholder": "​",
       "style": "IPY_MODEL_05005c8172584f979c042812063a4255",
       "value": "100%"
      }
     },
     "1f8369303c014bbaa2c295eec84e2c01": {
      "model_module": "@jupyter-widgets/base",
      "model_module_version": "1.2.0",
      "model_name": "LayoutModel",
      "state": {
       "_model_module": "@jupyter-widgets/base",
       "_model_module_version": "1.2.0",
       "_model_name": "LayoutModel",
       "_view_count": null,
       "_view_module": "@jupyter-widgets/base",
       "_view_module_version": "1.2.0",
       "_view_name": "LayoutView",
       "align_content": null,
       "align_items": null,
       "align_self": null,
       "border": null,
       "bottom": null,
       "display": null,
       "flex": null,
       "flex_flow": null,
       "grid_area": null,
       "grid_auto_columns": null,
       "grid_auto_flow": null,
       "grid_auto_rows": null,
       "grid_column": null,
       "grid_gap": null,
       "grid_row": null,
       "grid_template_areas": null,
       "grid_template_columns": null,
       "grid_template_rows": null,
       "height": null,
       "justify_content": null,
       "justify_items": null,
       "left": null,
       "margin": null,
       "max_height": null,
       "max_width": null,
       "min_height": null,
       "min_width": null,
       "object_fit": null,
       "object_position": null,
       "order": null,
       "overflow": null,
       "overflow_x": null,
       "overflow_y": null,
       "padding": null,
       "right": null,
       "top": null,
       "visibility": null,
       "width": null
      }
     },
     "3e51955618ee469f98c708413355094c": {
      "model_module": "@jupyter-widgets/controls",
      "model_module_version": "1.5.0",
      "model_name": "DescriptionStyleModel",
      "state": {
       "_model_module": "@jupyter-widgets/controls",
       "_model_module_version": "1.5.0",
       "_model_name": "DescriptionStyleModel",
       "_view_count": null,
       "_view_module": "@jupyter-widgets/base",
       "_view_module_version": "1.2.0",
       "_view_name": "StyleView",
       "description_width": ""
      }
     },
     "4b2084413b34472c8d6c0c2eb80d8263": {
      "model_module": "@jupyter-widgets/base",
      "model_module_version": "1.2.0",
      "model_name": "LayoutModel",
      "state": {
       "_model_module": "@jupyter-widgets/base",
       "_model_module_version": "1.2.0",
       "_model_name": "LayoutModel",
       "_view_count": null,
       "_view_module": "@jupyter-widgets/base",
       "_view_module_version": "1.2.0",
       "_view_name": "LayoutView",
       "align_content": null,
       "align_items": null,
       "align_self": null,
       "border": null,
       "bottom": null,
       "display": null,
       "flex": null,
       "flex_flow": null,
       "grid_area": null,
       "grid_auto_columns": null,
       "grid_auto_flow": null,
       "grid_auto_rows": null,
       "grid_column": null,
       "grid_gap": null,
       "grid_row": null,
       "grid_template_areas": null,
       "grid_template_columns": null,
       "grid_template_rows": null,
       "height": null,
       "justify_content": null,
       "justify_items": null,
       "left": null,
       "margin": null,
       "max_height": null,
       "max_width": null,
       "min_height": null,
       "min_width": null,
       "object_fit": null,
       "object_position": null,
       "order": null,
       "overflow": null,
       "overflow_x": null,
       "overflow_y": null,
       "padding": null,
       "right": null,
       "top": null,
       "visibility": null,
       "width": null
      }
     },
     "51c40b298d2b4c4481886a8130be1774": {
      "model_module": "@jupyter-widgets/base",
      "model_module_version": "1.2.0",
      "model_name": "LayoutModel",
      "state": {
       "_model_module": "@jupyter-widgets/base",
       "_model_module_version": "1.2.0",
       "_model_name": "LayoutModel",
       "_view_count": null,
       "_view_module": "@jupyter-widgets/base",
       "_view_module_version": "1.2.0",
       "_view_name": "LayoutView",
       "align_content": null,
       "align_items": null,
       "align_self": null,
       "border": null,
       "bottom": null,
       "display": null,
       "flex": null,
       "flex_flow": null,
       "grid_area": null,
       "grid_auto_columns": null,
       "grid_auto_flow": null,
       "grid_auto_rows": null,
       "grid_column": null,
       "grid_gap": null,
       "grid_row": null,
       "grid_template_areas": null,
       "grid_template_columns": null,
       "grid_template_rows": null,
       "height": null,
       "justify_content": null,
       "justify_items": null,
       "left": null,
       "margin": null,
       "max_height": null,
       "max_width": null,
       "min_height": null,
       "min_width": null,
       "object_fit": null,
       "object_position": null,
       "order": null,
       "overflow": null,
       "overflow_x": null,
       "overflow_y": null,
       "padding": null,
       "right": null,
       "top": null,
       "visibility": null,
       "width": null
      }
     },
     "533784f094be49839c5baf89e45e2ad0": {
      "model_module": "@jupyter-widgets/controls",
      "model_module_version": "1.5.0",
      "model_name": "DescriptionStyleModel",
      "state": {
       "_model_module": "@jupyter-widgets/controls",
       "_model_module_version": "1.5.0",
       "_model_name": "DescriptionStyleModel",
       "_view_count": null,
       "_view_module": "@jupyter-widgets/base",
       "_view_module_version": "1.2.0",
       "_view_name": "StyleView",
       "description_width": ""
      }
     },
     "5ccc8659448f422fa0f0d91cc7f98440": {
      "model_module": "@jupyter-widgets/controls",
      "model_module_version": "1.5.0",
      "model_name": "HTMLModel",
      "state": {
       "_dom_classes": [],
       "_model_module": "@jupyter-widgets/controls",
       "_model_module_version": "1.5.0",
       "_model_name": "HTMLModel",
       "_view_count": null,
       "_view_module": "@jupyter-widgets/controls",
       "_view_module_version": "1.5.0",
       "_view_name": "HTMLView",
       "description": "",
       "description_tooltip": null,
       "layout": "IPY_MODEL_1f8369303c014bbaa2c295eec84e2c01",
       "placeholder": "​",
       "style": "IPY_MODEL_3e51955618ee469f98c708413355094c",
       "value": " 1000/1000 [00:06&lt;00:00, 181.63it/s]"
      }
     },
     "9196cd89c74442e5abf7c33791f7aa80": {
      "model_module": "@jupyter-widgets/controls",
      "model_module_version": "1.5.0",
      "model_name": "ProgressStyleModel",
      "state": {
       "_model_module": "@jupyter-widgets/controls",
       "_model_module_version": "1.5.0",
       "_model_name": "ProgressStyleModel",
       "_view_count": null,
       "_view_module": "@jupyter-widgets/base",
       "_view_module_version": "1.2.0",
       "_view_name": "StyleView",
       "bar_color": null,
       "description_width": ""
      }
     },
     "992a06d1ba3e42dd9dedec63ba15beba": {
      "model_module": "@jupyter-widgets/controls",
      "model_module_version": "1.5.0",
      "model_name": "HTMLModel",
      "state": {
       "_dom_classes": [],
       "_model_module": "@jupyter-widgets/controls",
       "_model_module_version": "1.5.0",
       "_model_name": "HTMLModel",
       "_view_count": null,
       "_view_module": "@jupyter-widgets/controls",
       "_view_module_version": "1.5.0",
       "_view_name": "HTMLView",
       "description": "",
       "description_tooltip": null,
       "layout": "IPY_MODEL_f83bd3c649254d94922f388a0f1b6c62",
       "placeholder": "​",
       "style": "IPY_MODEL_533784f094be49839c5baf89e45e2ad0",
       "value": "100%"
      }
     },
     "b173a82987204c719aa14b571f9969a8": {
      "model_module": "@jupyter-widgets/base",
      "model_module_version": "1.2.0",
      "model_name": "LayoutModel",
      "state": {
       "_model_module": "@jupyter-widgets/base",
       "_model_module_version": "1.2.0",
       "_model_name": "LayoutModel",
       "_view_count": null,
       "_view_module": "@jupyter-widgets/base",
       "_view_module_version": "1.2.0",
       "_view_name": "LayoutView",
       "align_content": null,
       "align_items": null,
       "align_self": null,
       "border": null,
       "bottom": null,
       "display": null,
       "flex": null,
       "flex_flow": null,
       "grid_area": null,
       "grid_auto_columns": null,
       "grid_auto_flow": null,
       "grid_auto_rows": null,
       "grid_column": null,
       "grid_gap": null,
       "grid_row": null,
       "grid_template_areas": null,
       "grid_template_columns": null,
       "grid_template_rows": null,
       "height": null,
       "justify_content": null,
       "justify_items": null,
       "left": null,
       "margin": null,
       "max_height": null,
       "max_width": null,
       "min_height": null,
       "min_width": null,
       "object_fit": null,
       "object_position": null,
       "order": null,
       "overflow": null,
       "overflow_x": null,
       "overflow_y": null,
       "padding": null,
       "right": null,
       "top": null,
       "visibility": null,
       "width": null
      }
     },
     "bb25778fb05f411da41b242b78e03585": {
      "model_module": "@jupyter-widgets/controls",
      "model_module_version": "1.5.0",
      "model_name": "HTMLModel",
      "state": {
       "_dom_classes": [],
       "_model_module": "@jupyter-widgets/controls",
       "_model_module_version": "1.5.0",
       "_model_name": "HTMLModel",
       "_view_count": null,
       "_view_module": "@jupyter-widgets/controls",
       "_view_module_version": "1.5.0",
       "_view_name": "HTMLView",
       "description": "",
       "description_tooltip": null,
       "layout": "IPY_MODEL_4b2084413b34472c8d6c0c2eb80d8263",
       "placeholder": "​",
       "style": "IPY_MODEL_f35c1865faa24b1ab0b9f4e20a13cc7a",
       "value": " 10000/10000 [01:00&lt;00:00, 170.63it/s]"
      }
     },
     "bbc66babd9444feaba3b091be8c369b4": {
      "model_module": "@jupyter-widgets/controls",
      "model_module_version": "1.5.0",
      "model_name": "HBoxModel",
      "state": {
       "_dom_classes": [],
       "_model_module": "@jupyter-widgets/controls",
       "_model_module_version": "1.5.0",
       "_model_name": "HBoxModel",
       "_view_count": null,
       "_view_module": "@jupyter-widgets/controls",
       "_view_module_version": "1.5.0",
       "_view_name": "HBoxView",
       "box_style": "",
       "children": [
        "IPY_MODEL_186bd25253364fb2b9e17ddbd76726be",
        "IPY_MODEL_f40381f0beda4f2790036d91227bfbdb",
        "IPY_MODEL_5ccc8659448f422fa0f0d91cc7f98440"
       ],
       "layout": "IPY_MODEL_cef43800ab2241f8bbd72ed36f8971b5"
      }
     },
     "c9cf81e2dfaa4cb1a0250e76d729c78c": {
      "model_module": "@jupyter-widgets/base",
      "model_module_version": "1.2.0",
      "model_name": "LayoutModel",
      "state": {
       "_model_module": "@jupyter-widgets/base",
       "_model_module_version": "1.2.0",
       "_model_name": "LayoutModel",
       "_view_count": null,
       "_view_module": "@jupyter-widgets/base",
       "_view_module_version": "1.2.0",
       "_view_name": "LayoutView",
       "align_content": null,
       "align_items": null,
       "align_self": null,
       "border": null,
       "bottom": null,
       "display": null,
       "flex": null,
       "flex_flow": null,
       "grid_area": null,
       "grid_auto_columns": null,
       "grid_auto_flow": null,
       "grid_auto_rows": null,
       "grid_column": null,
       "grid_gap": null,
       "grid_row": null,
       "grid_template_areas": null,
       "grid_template_columns": null,
       "grid_template_rows": null,
       "height": null,
       "justify_content": null,
       "justify_items": null,
       "left": null,
       "margin": null,
       "max_height": null,
       "max_width": null,
       "min_height": null,
       "min_width": null,
       "object_fit": null,
       "object_position": null,
       "order": null,
       "overflow": null,
       "overflow_x": null,
       "overflow_y": null,
       "padding": null,
       "right": null,
       "top": null,
       "visibility": null,
       "width": null
      }
     },
     "cd6644bb0afa4329932a49d5dfe5f77f": {
      "model_module": "@jupyter-widgets/controls",
      "model_module_version": "1.5.0",
      "model_name": "FloatProgressModel",
      "state": {
       "_dom_classes": [],
       "_model_module": "@jupyter-widgets/controls",
       "_model_module_version": "1.5.0",
       "_model_name": "FloatProgressModel",
       "_view_count": null,
       "_view_module": "@jupyter-widgets/controls",
       "_view_module_version": "1.5.0",
       "_view_name": "ProgressView",
       "bar_style": "success",
       "description": "",
       "description_tooltip": null,
       "layout": "IPY_MODEL_f067677c71ca4df6b03ad55e002c0062",
       "max": 10000.0,
       "min": 0.0,
       "orientation": "horizontal",
       "style": "IPY_MODEL_9196cd89c74442e5abf7c33791f7aa80",
       "value": 10000.0
      }
     },
     "cef43800ab2241f8bbd72ed36f8971b5": {
      "model_module": "@jupyter-widgets/base",
      "model_module_version": "1.2.0",
      "model_name": "LayoutModel",
      "state": {
       "_model_module": "@jupyter-widgets/base",
       "_model_module_version": "1.2.0",
       "_model_name": "LayoutModel",
       "_view_count": null,
       "_view_module": "@jupyter-widgets/base",
       "_view_module_version": "1.2.0",
       "_view_name": "LayoutView",
       "align_content": null,
       "align_items": null,
       "align_self": null,
       "border": null,
       "bottom": null,
       "display": null,
       "flex": null,
       "flex_flow": null,
       "grid_area": null,
       "grid_auto_columns": null,
       "grid_auto_flow": null,
       "grid_auto_rows": null,
       "grid_column": null,
       "grid_gap": null,
       "grid_row": null,
       "grid_template_areas": null,
       "grid_template_columns": null,
       "grid_template_rows": null,
       "height": null,
       "justify_content": null,
       "justify_items": null,
       "left": null,
       "margin": null,
       "max_height": null,
       "max_width": null,
       "min_height": null,
       "min_width": null,
       "object_fit": null,
       "object_position": null,
       "order": null,
       "overflow": null,
       "overflow_x": null,
       "overflow_y": null,
       "padding": null,
       "right": null,
       "top": null,
       "visibility": null,
       "width": null
      }
     },
     "d823bc5197c847e99de0b3fd02edae15": {
      "model_module": "@jupyter-widgets/controls",
      "model_module_version": "1.5.0",
      "model_name": "HBoxModel",
      "state": {
       "_dom_classes": [],
       "_model_module": "@jupyter-widgets/controls",
       "_model_module_version": "1.5.0",
       "_model_name": "HBoxModel",
       "_view_count": null,
       "_view_module": "@jupyter-widgets/controls",
       "_view_module_version": "1.5.0",
       "_view_name": "HBoxView",
       "box_style": "",
       "children": [
        "IPY_MODEL_992a06d1ba3e42dd9dedec63ba15beba",
        "IPY_MODEL_cd6644bb0afa4329932a49d5dfe5f77f",
        "IPY_MODEL_bb25778fb05f411da41b242b78e03585"
       ],
       "layout": "IPY_MODEL_b173a82987204c719aa14b571f9969a8"
      }
     },
     "def125f582b5474295e399a9ea8357dd": {
      "model_module": "@jupyter-widgets/controls",
      "model_module_version": "1.5.0",
      "model_name": "ProgressStyleModel",
      "state": {
       "_model_module": "@jupyter-widgets/controls",
       "_model_module_version": "1.5.0",
       "_model_name": "ProgressStyleModel",
       "_view_count": null,
       "_view_module": "@jupyter-widgets/base",
       "_view_module_version": "1.2.0",
       "_view_name": "StyleView",
       "bar_color": null,
       "description_width": ""
      }
     },
     "f067677c71ca4df6b03ad55e002c0062": {
      "model_module": "@jupyter-widgets/base",
      "model_module_version": "1.2.0",
      "model_name": "LayoutModel",
      "state": {
       "_model_module": "@jupyter-widgets/base",
       "_model_module_version": "1.2.0",
       "_model_name": "LayoutModel",
       "_view_count": null,
       "_view_module": "@jupyter-widgets/base",
       "_view_module_version": "1.2.0",
       "_view_name": "LayoutView",
       "align_content": null,
       "align_items": null,
       "align_self": null,
       "border": null,
       "bottom": null,
       "display": null,
       "flex": null,
       "flex_flow": null,
       "grid_area": null,
       "grid_auto_columns": null,
       "grid_auto_flow": null,
       "grid_auto_rows": null,
       "grid_column": null,
       "grid_gap": null,
       "grid_row": null,
       "grid_template_areas": null,
       "grid_template_columns": null,
       "grid_template_rows": null,
       "height": null,
       "justify_content": null,
       "justify_items": null,
       "left": null,
       "margin": null,
       "max_height": null,
       "max_width": null,
       "min_height": null,
       "min_width": null,
       "object_fit": null,
       "object_position": null,
       "order": null,
       "overflow": null,
       "overflow_x": null,
       "overflow_y": null,
       "padding": null,
       "right": null,
       "top": null,
       "visibility": null,
       "width": null
      }
     },
     "f35c1865faa24b1ab0b9f4e20a13cc7a": {
      "model_module": "@jupyter-widgets/controls",
      "model_module_version": "1.5.0",
      "model_name": "DescriptionStyleModel",
      "state": {
       "_model_module": "@jupyter-widgets/controls",
       "_model_module_version": "1.5.0",
       "_model_name": "DescriptionStyleModel",
       "_view_count": null,
       "_view_module": "@jupyter-widgets/base",
       "_view_module_version": "1.2.0",
       "_view_name": "StyleView",
       "description_width": ""
      }
     },
     "f40381f0beda4f2790036d91227bfbdb": {
      "model_module": "@jupyter-widgets/controls",
      "model_module_version": "1.5.0",
      "model_name": "FloatProgressModel",
      "state": {
       "_dom_classes": [],
       "_model_module": "@jupyter-widgets/controls",
       "_model_module_version": "1.5.0",
       "_model_name": "FloatProgressModel",
       "_view_count": null,
       "_view_module": "@jupyter-widgets/controls",
       "_view_module_version": "1.5.0",
       "_view_name": "ProgressView",
       "bar_style": "success",
       "description": "",
       "description_tooltip": null,
       "layout": "IPY_MODEL_51c40b298d2b4c4481886a8130be1774",
       "max": 1000.0,
       "min": 0.0,
       "orientation": "horizontal",
       "style": "IPY_MODEL_def125f582b5474295e399a9ea8357dd",
       "value": 1000.0
      }
     },
     "f83bd3c649254d94922f388a0f1b6c62": {
      "model_module": "@jupyter-widgets/base",
      "model_module_version": "1.2.0",
      "model_name": "LayoutModel",
      "state": {
       "_model_module": "@jupyter-widgets/base",
       "_model_module_version": "1.2.0",
       "_model_name": "LayoutModel",
       "_view_count": null,
       "_view_module": "@jupyter-widgets/base",
       "_view_module_version": "1.2.0",
       "_view_name": "LayoutView",
       "align_content": null,
       "align_items": null,
       "align_self": null,
       "border": null,
       "bottom": null,
       "display": null,
       "flex": null,
       "flex_flow": null,
       "grid_area": null,
       "grid_auto_columns": null,
       "grid_auto_flow": null,
       "grid_auto_rows": null,
       "grid_column": null,
       "grid_gap": null,
       "grid_row": null,
       "grid_template_areas": null,
       "grid_template_columns": null,
       "grid_template_rows": null,
       "height": null,
       "justify_content": null,
       "justify_items": null,
       "left": null,
       "margin": null,
       "max_height": null,
       "max_width": null,
       "min_height": null,
       "min_width": null,
       "object_fit": null,
       "object_position": null,
       "order": null,
       "overflow": null,
       "overflow_x": null,
       "overflow_y": null,
       "padding": null,
       "right": null,
       "top": null,
       "visibility": null,
       "width": null
      }
     }
    },
    "version_major": 2,
    "version_minor": 0
   }
  }
 },
 "nbformat": 4,
 "nbformat_minor": 5
}
