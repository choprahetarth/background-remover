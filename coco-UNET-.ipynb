{
 "cells": [
  {
   "cell_type": "code",
   "execution_count": 1,
   "id": "8e76192c",
   "metadata": {
    "_cell_guid": "b1076dfc-b9ad-4769-8c92-a6c4dae69d19",
    "_uuid": "8f2839f25d086af736a60e9eeb907d3b93b6e0e5",
    "execution": {
     "iopub.execute_input": "2021-09-17T21:00:49.684796Z",
     "iopub.status.busy": "2021-09-17T21:00:49.683196Z",
     "iopub.status.idle": "2021-09-17T21:00:49.762360Z",
     "shell.execute_reply": "2021-09-17T21:00:49.762843Z",
     "shell.execute_reply.started": "2021-09-17T20:35:23.996167Z"
    },
    "papermill": {
     "duration": 0.112092,
     "end_time": "2021-09-17T21:00:49.763117",
     "exception": false,
     "start_time": "2021-09-17T21:00:49.651025",
     "status": "completed"
    },
    "tags": []
   },
   "outputs": [],
   "source": [
    "# This Python 3 environment comes with many helpful analytics libraries installed\n",
    "# It is defined by the kaggle/python Docker image: https://github.com/kaggle/docker-python\n",
    "# For example, here's several helpful packages to load\n",
    "\n",
    "import numpy as np # linear algebra\n",
    "import pandas as pd # data processing, CSV file I/O (e.g. pd.read_csv)\n",
    "\n",
    "# Input data files are available in the read-only \"../input/\" directory\n",
    "# For example, running this (by clicking run or pressing Shift+Enter) will list all files under the input directory\n",
    "\n",
    "import os\n",
    "#for dirname, _, filenames in os.walk('/kaggle/input'):\n",
    "#    for filename in filenames:\n",
    "#        print(os.path.join(dirname, filename))\n",
    "\n",
    "# You can write up to 20GB to the current directory (/kaggle/working/) that gets preserved as output when you create a version using \"Save & Run All\" \n",
    "# You can also write temporary files to /kaggle/temp/, but they won't be saved outside of the current session"
   ]
  },
  {
   "cell_type": "markdown",
   "id": "6ddad445",
   "metadata": {
    "papermill": {
     "duration": 0.026729,
     "end_time": "2021-09-17T21:00:49.818720",
     "exception": false,
     "start_time": "2021-09-17T21:00:49.791991",
     "status": "completed"
    },
    "tags": []
   },
   "source": [
    "# Install libs"
   ]
  },
  {
   "cell_type": "code",
   "execution_count": 2,
   "id": "adb8dd7c",
   "metadata": {
    "execution": {
     "iopub.execute_input": "2021-09-17T21:00:49.877670Z",
     "iopub.status.busy": "2021-09-17T21:00:49.877087Z",
     "iopub.status.idle": "2021-09-17T21:01:21.501372Z",
     "shell.execute_reply": "2021-09-17T21:01:21.500886Z",
     "shell.execute_reply.started": "2021-09-17T20:35:24.576389Z"
    },
    "papermill": {
     "duration": 31.656126,
     "end_time": "2021-09-17T21:01:21.501538",
     "exception": false,
     "start_time": "2021-09-17T21:00:49.845412",
     "status": "completed"
    },
    "tags": []
   },
   "outputs": [
    {
     "name": "stdout",
     "output_type": "stream",
     "text": [
      "\u001b[33mWARNING: Running pip as the 'root' user can result in broken permissions and conflicting behaviour with the system package manager. It is recommended to use a virtual environment instead: https://pip.pypa.io/warnings/venv\u001b[0m\r\n",
      "\u001b[33mWARNING: Running pip as the 'root' user can result in broken permissions and conflicting behaviour with the system package manager. It is recommended to use a virtual environment instead: https://pip.pypa.io/warnings/venv\u001b[0m\r\n",
      "  Running command git clone -q https://github.com/philferriere/cocoapi.git /tmp/pip-req-build-xdqentdv\r\n",
      "\u001b[33mWARNING: Running pip as the 'root' user can result in broken permissions and conflicting behaviour with the system package manager. It is recommended to use a virtual environment instead: https://pip.pypa.io/warnings/venv\u001b[0m\r\n"
     ]
    }
   ],
   "source": [
    "!pip install imutils > /dev/null\n",
    "!pip install cython > /dev/null\n",
    "# Install pycocotools from this GitHub rep\n",
    "!pip install git+\"https://github.com/philferriere/cocoapi.git#subdirectory=PythonAPI\" > /dev/null"
   ]
  },
  {
   "cell_type": "code",
   "execution_count": 3,
   "id": "f05c8c36",
   "metadata": {
    "execution": {
     "iopub.execute_input": "2021-09-17T21:01:21.562668Z",
     "iopub.status.busy": "2021-09-17T21:01:21.561674Z",
     "iopub.status.idle": "2021-09-17T21:01:21.563593Z",
     "shell.execute_reply": "2021-09-17T21:01:21.564066Z",
     "shell.execute_reply.started": "2021-09-17T20:35:57.572891Z"
    },
    "papermill": {
     "duration": 0.034965,
     "end_time": "2021-09-17T21:01:21.564184",
     "exception": false,
     "start_time": "2021-09-17T21:01:21.529219",
     "status": "completed"
    },
    "tags": []
   },
   "outputs": [],
   "source": [
    "TOP_PATH = ('/kaggle/input/coco-2017-dataset/coco2017')\n",
    "TRAIN_PATH = ('/kaggle/input/coco-2017-dataset/coco2017/train2017')\n",
    "VAL_PATH = ('/kaggle/input/coco-2017-dataset/coco2017/val2017')\n",
    "ANNOTATIONS_PATH = ('/kaggle/input/coco-2017-dataset/coco2017/annotations')\n",
    "TEST_PATH = ('/kaggle/input/coco-2017-dataset/coco2017/test2017')\n",
    "WORKING_DIR = ('/kaggle/working')\n",
    "MASK_TRAIN_DIR = ('/kaggle/working/mask_train')\n",
    "MASK_VAL_DIR =('/kaggle/working/mask_val')\n",
    "MASK_TRAIN_SMOOTH_DIR = ('/kaggle/working/mask_train_smooth')"
   ]
  },
  {
   "cell_type": "code",
   "execution_count": 4,
   "id": "84f07004",
   "metadata": {
    "execution": {
     "iopub.execute_input": "2021-09-17T21:01:21.623150Z",
     "iopub.status.busy": "2021-09-17T21:01:21.622434Z",
     "iopub.status.idle": "2021-09-17T21:01:21.624325Z",
     "shell.execute_reply": "2021-09-17T21:01:21.624813Z",
     "shell.execute_reply.started": "2021-09-17T20:35:57.597929Z"
    },
    "papermill": {
     "duration": 0.033527,
     "end_time": "2021-09-17T21:01:21.624928",
     "exception": false,
     "start_time": "2021-09-17T21:01:21.591401",
     "status": "completed"
    },
    "tags": []
   },
   "outputs": [],
   "source": [
    "os.chdir(WORKING_DIR)"
   ]
  },
  {
   "cell_type": "markdown",
   "id": "20d50d67",
   "metadata": {
    "papermill": {
     "duration": 0.027069,
     "end_time": "2021-09-17T21:01:21.679281",
     "exception": false,
     "start_time": "2021-09-17T21:01:21.652212",
     "status": "completed"
    },
    "tags": []
   },
   "source": [
    "# Import Libraries"
   ]
  },
  {
   "cell_type": "code",
   "execution_count": 5,
   "id": "140d5737",
   "metadata": {
    "execution": {
     "iopub.execute_input": "2021-09-17T21:01:21.746177Z",
     "iopub.status.busy": "2021-09-17T21:01:21.745414Z",
     "iopub.status.idle": "2021-09-17T21:01:26.353887Z",
     "shell.execute_reply": "2021-09-17T21:01:26.355063Z",
     "shell.execute_reply.started": "2021-09-17T20:35:57.604328Z"
    },
    "papermill": {
     "duration": 4.648957,
     "end_time": "2021-09-17T21:01:26.355350",
     "exception": false,
     "start_time": "2021-09-17T21:01:21.706393",
     "status": "completed"
    },
    "tags": []
   },
   "outputs": [
    {
     "name": "stderr",
     "output_type": "stream",
     "text": [
      "2021-09-17 21:01:22.785801: I tensorflow/stream_executor/platform/default/dso_loader.cc:49] Successfully opened dynamic library libcudart.so.11.0\n"
     ]
    }
   ],
   "source": [
    "# Import all the libraries\n",
    "import numpy as np\n",
    "import cv2\n",
    "import requests\n",
    "import os\n",
    "import imutils\n",
    "from PIL import Image\n",
    "from tqdm.notebook import tqdm\n",
    "########3\n",
    "from pycocotools import coco, cocoeval, _mask\n",
    "from pycocotools import mask as maskUtils\n",
    "from pycocotools.coco import COCO\n",
    "import skimage.io as io\n",
    "import random\n",
    "#from tensorflow.keras.preprocessing.image import ImageDataGenerator\n",
    "\n",
    "### For visualizing the outputs ###\n",
    "import matplotlib.pyplot as plt\n",
    "import matplotlib.gridspec as gridspec\n",
    "%matplotlib inline\n",
    "from random import shuffle\n",
    "\n",
    "from PIL import Image \n",
    "import sys\n",
    "import tensorflow as tf\n",
    "from tensorflow import keras\n",
    "from tensorflow.keras import *\n",
    "from tensorflow.keras.optimizers import *\n",
    "from tensorflow.keras.layers import *\n",
    "from tensorflow.keras.metrics import *\n",
    "\n",
    "# Load the TensorBoard notebook extension.\n",
    "\n",
    "%load_ext tensorboard\n",
    "\n",
    "\n",
    "from datetime import datetime\n",
    "\n",
    "seed = 2019\n",
    "\n",
    "random.seed = seed\n",
    "np.random.seed = seed"
   ]
  },
  {
   "cell_type": "markdown",
   "id": "1adfd829",
   "metadata": {
    "papermill": {
     "duration": 0.047458,
     "end_time": "2021-09-17T21:01:26.453704",
     "exception": false,
     "start_time": "2021-09-17T21:01:26.406246",
     "status": "completed"
    },
    "tags": []
   },
   "source": [
    "# Dataset Processing"
   ]
  },
  {
   "cell_type": "code",
   "execution_count": 6,
   "id": "9eb8127e",
   "metadata": {
    "execution": {
     "iopub.execute_input": "2021-09-17T21:01:26.551175Z",
     "iopub.status.busy": "2021-09-17T21:01:26.550328Z",
     "iopub.status.idle": "2021-09-17T21:01:26.571309Z",
     "shell.execute_reply": "2021-09-17T21:01:26.571921Z",
     "shell.execute_reply.started": "2021-09-17T20:36:02.371408Z"
    },
    "papermill": {
     "duration": 0.071844,
     "end_time": "2021-09-17T21:01:26.572087",
     "exception": false,
     "start_time": "2021-09-17T21:01:26.500243",
     "status": "completed"
    },
    "tags": []
   },
   "outputs": [
    {
     "data": {
      "text/plain": [
       "['person_keypoints_train2017.json',\n",
       " 'instances_val2017.json',\n",
       " 'instances_train2017.json',\n",
       " 'person_keypoints_val2017.json',\n",
       " 'captions_train2017.json',\n",
       " 'captions_val2017.json']"
      ]
     },
     "execution_count": 6,
     "metadata": {},
     "output_type": "execute_result"
    }
   ],
   "source": [
    "os.listdir(ANNOTATIONS_PATH)"
   ]
  },
  {
   "cell_type": "code",
   "execution_count": 7,
   "id": "68f97a4c",
   "metadata": {
    "execution": {
     "iopub.execute_input": "2021-09-17T21:01:26.675496Z",
     "iopub.status.busy": "2021-09-17T21:01:26.673997Z",
     "iopub.status.idle": "2021-09-17T21:01:26.676448Z",
     "shell.execute_reply": "2021-09-17T21:01:26.677064Z",
     "shell.execute_reply.started": "2021-09-17T20:36:02.389571Z"
    },
    "papermill": {
     "duration": 0.056279,
     "end_time": "2021-09-17T21:01:26.677224",
     "exception": false,
     "start_time": "2021-09-17T21:01:26.620945",
     "status": "completed"
    },
    "tags": []
   },
   "outputs": [],
   "source": [
    "ANNOTATION_FILE_VAL = (ANNOTATIONS_PATH + '/instances_val2017.json')\n",
    "ANNOTATION_FILE_TRAIN = (ANNOTATIONS_PATH + '/instances_train2017.json')"
   ]
  },
  {
   "cell_type": "code",
   "execution_count": 8,
   "id": "69196dab",
   "metadata": {
    "execution": {
     "iopub.execute_input": "2021-09-17T21:01:26.759334Z",
     "iopub.status.busy": "2021-09-17T21:01:26.758770Z",
     "iopub.status.idle": "2021-09-17T21:01:54.274589Z",
     "shell.execute_reply": "2021-09-17T21:01:54.273879Z",
     "shell.execute_reply.started": "2021-09-17T20:36:02.395400Z"
    },
    "papermill": {
     "duration": 27.551694,
     "end_time": "2021-09-17T21:01:54.274760",
     "exception": false,
     "start_time": "2021-09-17T21:01:26.723066",
     "status": "completed"
    },
    "tags": []
   },
   "outputs": [
    {
     "name": "stdout",
     "output_type": "stream",
     "text": [
      "loading annotations into memory...\n",
      "Done (t=24.96s)\n",
      "creating index...\n",
      "index created!\n",
      "118287 80\n"
     ]
    }
   ],
   "source": [
    "coco_train = COCO(ANNOTATION_FILE_TRAIN)\n",
    "catIds_train = coco_train.getCatIds()\n",
    "imgIds_train = coco_train.getImgIds()\n",
    "imgDict_train = coco_train.loadImgs(imgIds_train)\n",
    "print(len(imgIds_train) , len(catIds_train))"
   ]
  },
  {
   "cell_type": "code",
   "execution_count": 9,
   "id": "62228daa",
   "metadata": {
    "execution": {
     "iopub.execute_input": "2021-09-17T21:01:54.337010Z",
     "iopub.status.busy": "2021-09-17T21:01:54.336356Z",
     "iopub.status.idle": "2021-09-17T21:01:55.712672Z",
     "shell.execute_reply": "2021-09-17T21:01:55.712059Z",
     "shell.execute_reply.started": "2021-09-17T20:36:29.726250Z"
    },
    "papermill": {
     "duration": 1.408576,
     "end_time": "2021-09-17T21:01:55.712834",
     "exception": false,
     "start_time": "2021-09-17T21:01:54.304258",
     "status": "completed"
    },
    "tags": []
   },
   "outputs": [
    {
     "name": "stdout",
     "output_type": "stream",
     "text": [
      "loading annotations into memory...\n",
      "Done (t=1.33s)\n",
      "creating index...\n",
      "index created!\n",
      "5000 80\n"
     ]
    }
   ],
   "source": [
    "coco_val = COCO(ANNOTATION_FILE_VAL)\n",
    "catIds_val = coco_val.getCatIds()\n",
    "imgIds_val = coco_val.getImgIds()\n",
    "imgDict_val = coco_val.loadImgs(imgIds_val)\n",
    "print(len(imgIds_val) , len(catIds_val))"
   ]
  },
  {
   "cell_type": "code",
   "execution_count": 10,
   "id": "ed788eda",
   "metadata": {
    "execution": {
     "iopub.execute_input": "2021-09-17T21:01:55.841597Z",
     "iopub.status.busy": "2021-09-17T21:01:55.815839Z",
     "iopub.status.idle": "2021-09-17T21:01:55.899495Z",
     "shell.execute_reply": "2021-09-17T21:01:55.899050Z",
     "shell.execute_reply.started": "2021-09-17T20:36:31.257025Z"
    },
    "papermill": {
     "duration": 0.156344,
     "end_time": "2021-09-17T21:01:55.899616",
     "exception": false,
     "start_time": "2021-09-17T21:01:55.743272",
     "status": "completed"
    },
    "tags": []
   },
   "outputs": [],
   "source": [
    "shuffle(imgIds_train)\n",
    "shuffle(imgIds_val)\n",
    "\n",
    "#take less samples\n",
    "imgIds_train = imgIds_train[0:60000]\n",
    "imgIds_val = imgIds_val[0:5000]\n",
    "# imgIds_train = imgIds_train[0:3000]\n",
    "# imgIds_val = imgIds_val[0:500]\n"
   ]
  },
  {
   "cell_type": "code",
   "execution_count": 11,
   "id": "b786c712",
   "metadata": {
    "execution": {
     "iopub.execute_input": "2021-09-17T21:01:55.987345Z",
     "iopub.status.busy": "2021-09-17T21:01:55.966550Z",
     "iopub.status.idle": "2021-09-17T21:01:56.003215Z",
     "shell.execute_reply": "2021-09-17T21:01:56.003850Z",
     "shell.execute_reply.started": "2021-09-17T20:36:31.387541Z"
    },
    "papermill": {
     "duration": 0.074562,
     "end_time": "2021-09-17T21:01:56.004032",
     "exception": false,
     "start_time": "2021-09-17T21:01:55.929470",
     "status": "completed"
    },
    "tags": []
   },
   "outputs": [
    {
     "name": "stdout",
     "output_type": "stream",
     "text": [
      "60000 5000\n"
     ]
    }
   ],
   "source": [
    "train_images = [\"COCO_train2014_{0:012d}.jpg\".format(ids) for ids in imgIds_train]\n",
    "val_images = [\"COCO_val2014_{0:012d}.jpg\".format(ids) for ids in imgIds_val]\n",
    "print(len(train_images) , len(val_images))"
   ]
  },
  {
   "cell_type": "code",
   "execution_count": 12,
   "id": "eb563df7",
   "metadata": {
    "execution": {
     "iopub.execute_input": "2021-09-17T21:01:56.067497Z",
     "iopub.status.busy": "2021-09-17T21:01:56.066923Z",
     "iopub.status.idle": "2021-09-17T21:01:56.069175Z",
     "shell.execute_reply": "2021-09-17T21:01:56.069685Z",
     "shell.execute_reply.started": "2021-09-17T20:36:31.398493Z"
    },
    "papermill": {
     "duration": 0.03556,
     "end_time": "2021-09-17T21:01:56.069818",
     "exception": false,
     "start_time": "2021-09-17T21:01:56.034258",
     "status": "completed"
    },
    "tags": []
   },
   "outputs": [],
   "source": [
    "os.chdir(WORKING_DIR)"
   ]
  },
  {
   "cell_type": "code",
   "execution_count": 13,
   "id": "e4d32ac1",
   "metadata": {
    "execution": {
     "iopub.execute_input": "2021-09-17T21:01:56.161682Z",
     "iopub.status.busy": "2021-09-17T21:01:56.132161Z",
     "iopub.status.idle": "2021-09-17T21:01:56.836117Z",
     "shell.execute_reply": "2021-09-17T21:01:56.834701Z",
     "shell.execute_reply.started": "2021-09-17T20:36:31.406112Z"
    },
    "papermill": {
     "duration": 0.73716,
     "end_time": "2021-09-17T21:01:56.836271",
     "exception": false,
     "start_time": "2021-09-17T21:01:56.099111",
     "status": "completed"
    },
    "tags": []
   },
   "outputs": [],
   "source": [
    "!mkdir mask_train"
   ]
  },
  {
   "cell_type": "code",
   "execution_count": 14,
   "id": "8d00af48",
   "metadata": {
    "execution": {
     "iopub.execute_input": "2021-09-17T21:01:56.911123Z",
     "iopub.status.busy": "2021-09-17T21:01:56.906090Z",
     "iopub.status.idle": "2021-09-17T21:08:06.663431Z",
     "shell.execute_reply": "2021-09-17T21:08:06.664133Z",
     "shell.execute_reply.started": "2021-09-17T20:36:32.255176Z"
    },
    "papermill": {
     "duration": 369.797947,
     "end_time": "2021-09-17T21:08:06.664332",
     "exception": false,
     "start_time": "2021-09-17T21:01:56.866385",
     "status": "completed"
    },
    "tags": []
   },
   "outputs": [
    {
     "data": {
      "application/vnd.jupyter.widget-view+json": {
       "model_id": "d3f3a9e9b6de427ea1bda0602ca0d04e",
       "version_major": 2,
       "version_minor": 0
      },
      "text/plain": [
       "  0%|          | 0/60000 [00:00<?, ?it/s]"
      ]
     },
     "metadata": {},
     "output_type": "display_data"
    },
    {
     "name": "stdout",
     "output_type": "stream",
     "text": [
      "59495\n"
     ]
    }
   ],
   "source": [
    "count = 0 \n",
    "unfitted_image_dict = []\n",
    "for ID in tqdm(imgIds_train):\n",
    "    file_path = MASK_TRAIN_DIR+\"/{0:012d}.jpg\".format(ID)\n",
    "\n",
    "    sampleImgIds = coco_train.getImgIds(imgIds = [ID])\n",
    "    sampleImgDict = coco_train.loadImgs(sampleImgIds[np.random.randint(0,len(sampleImgIds))])[0]\n",
    "\n",
    "    annIds = coco_train.getAnnIds(imgIds=sampleImgDict['id'], \n",
    "                                catIds=catIds_train, \n",
    "                                iscrowd=0)\n",
    "    anns = coco_train.loadAnns(annIds)\n",
    "\n",
    "    if len(anns)==0:\n",
    "        unfitted_image_dict.append(sampleImgDict)\n",
    "    else:\n",
    "        mask = coco_train.annToMask(anns[0])\n",
    "\n",
    "        for i in (range(len(anns))):\n",
    "            mask = mask | coco_train.annToMask(anns[i])\n",
    "        mask = Image.fromarray(mask * 255 , mode = \"L\")\n",
    "        mask.save(file_path)\n",
    "        count = count + 1\n",
    "print(count)"
   ]
  },
  {
   "cell_type": "code",
   "execution_count": 15,
   "id": "07306579",
   "metadata": {
    "execution": {
     "iopub.execute_input": "2021-09-17T21:08:06.729576Z",
     "iopub.status.busy": "2021-09-17T21:08:06.729015Z",
     "iopub.status.idle": "2021-09-17T21:08:06.732070Z",
     "shell.execute_reply": "2021-09-17T21:08:06.732447Z",
     "shell.execute_reply.started": "2021-09-17T20:36:51.445784Z"
    },
    "papermill": {
     "duration": 0.036765,
     "end_time": "2021-09-17T21:08:06.732569",
     "exception": false,
     "start_time": "2021-09-17T21:08:06.695804",
     "status": "completed"
    },
    "tags": []
   },
   "outputs": [],
   "source": [
    "os.chdir(WORKING_DIR)"
   ]
  },
  {
   "cell_type": "code",
   "execution_count": 16,
   "id": "0215fbcf",
   "metadata": {
    "execution": {
     "iopub.execute_input": "2021-09-17T21:08:06.796443Z",
     "iopub.status.busy": "2021-09-17T21:08:06.795748Z",
     "iopub.status.idle": "2021-09-17T21:08:07.484407Z",
     "shell.execute_reply": "2021-09-17T21:08:07.483924Z",
     "shell.execute_reply.started": "2021-09-17T20:36:51.452303Z"
    },
    "papermill": {
     "duration": 0.72201,
     "end_time": "2021-09-17T21:08:07.484558",
     "exception": false,
     "start_time": "2021-09-17T21:08:06.762548",
     "status": "completed"
    },
    "tags": []
   },
   "outputs": [],
   "source": [
    "!mkdir mask_val"
   ]
  },
  {
   "cell_type": "code",
   "execution_count": 17,
   "id": "9e528ced",
   "metadata": {
    "execution": {
     "iopub.execute_input": "2021-09-17T21:08:07.576900Z",
     "iopub.status.busy": "2021-09-17T21:08:07.576030Z",
     "iopub.status.idle": "2021-09-17T21:08:37.717846Z",
     "shell.execute_reply": "2021-09-17T21:08:37.716185Z",
     "shell.execute_reply.started": "2021-09-17T20:36:52.143962Z"
    },
    "papermill": {
     "duration": 30.202658,
     "end_time": "2021-09-17T21:08:37.718002",
     "exception": false,
     "start_time": "2021-09-17T21:08:07.515344",
     "status": "completed"
    },
    "tags": []
   },
   "outputs": [
    {
     "data": {
      "application/vnd.jupyter.widget-view+json": {
       "model_id": "5ab1f951d0104905ae155a4303cfef53",
       "version_major": 2,
       "version_minor": 0
      },
      "text/plain": [
       "  0%|          | 0/5000 [00:00<?, ?it/s]"
      ]
     },
     "metadata": {},
     "output_type": "display_data"
    },
    {
     "name": "stdout",
     "output_type": "stream",
     "text": [
      "4952\n"
     ]
    }
   ],
   "source": [
    "count = 0 \n",
    "unfitted_image_dict = []\n",
    "for ID in tqdm(imgIds_val):\n",
    "    file_path = MASK_VAL_DIR+\"/{0:012d}.jpg\".format(ID)\n",
    "\n",
    "    sampleImgIds = coco_val.getImgIds(imgIds = [ID])\n",
    "    sampleImgDict = coco_val.loadImgs(sampleImgIds[np.random.randint(0,len(sampleImgIds))])[0]\n",
    "\n",
    "    annIds = coco_val.getAnnIds(imgIds=sampleImgDict['id'], \n",
    "                                catIds=catIds_val, \n",
    "                                iscrowd=0)\n",
    "    anns = coco_val.loadAnns(annIds)\n",
    "\n",
    "    if len(anns)==0:\n",
    "        unfitted_image_dict.append(sampleImgDict)\n",
    "    else:\n",
    "        mask = coco_val.annToMask(anns[0])\n",
    "\n",
    "        for i in (range(len(anns))):\n",
    "            mask = mask | coco_val.annToMask(anns[i])\n",
    "        mask = Image.fromarray(mask * 255 , mode = \"L\")\n",
    "        mask.save(file_path)\n",
    "        count = count + 1\n",
    "print(count)"
   ]
  },
  {
   "cell_type": "code",
   "execution_count": 18,
   "id": "8254b6e5",
   "metadata": {
    "execution": {
     "iopub.execute_input": "2021-09-17T21:08:37.784910Z",
     "iopub.status.busy": "2021-09-17T21:08:37.784162Z",
     "iopub.status.idle": "2021-09-17T21:08:37.786106Z",
     "shell.execute_reply": "2021-09-17T21:08:37.786560Z",
     "shell.execute_reply.started": "2021-09-17T20:36:55.517317Z"
    },
    "papermill": {
     "duration": 0.036741,
     "end_time": "2021-09-17T21:08:37.786703",
     "exception": false,
     "start_time": "2021-09-17T21:08:37.749962",
     "status": "completed"
    },
    "tags": []
   },
   "outputs": [],
   "source": [
    "os.chdir(WORKING_DIR)"
   ]
  },
  {
   "cell_type": "markdown",
   "id": "9935fa6b",
   "metadata": {
    "papermill": {
     "duration": 0.031438,
     "end_time": "2021-09-17T21:08:37.849057",
     "exception": false,
     "start_time": "2021-09-17T21:08:37.817619",
     "status": "completed"
    },
    "tags": []
   },
   "source": [
    "# Data Loader"
   ]
  },
  {
   "cell_type": "code",
   "execution_count": 19,
   "id": "d1ef2b3f",
   "metadata": {
    "execution": {
     "iopub.execute_input": "2021-09-17T21:08:37.931346Z",
     "iopub.status.busy": "2021-09-17T21:08:37.929235Z",
     "iopub.status.idle": "2021-09-17T21:08:37.933161Z",
     "shell.execute_reply": "2021-09-17T21:08:37.933834Z",
     "shell.execute_reply.started": "2021-09-17T20:36:55.542323Z"
    },
    "papermill": {
     "duration": 0.053813,
     "end_time": "2021-09-17T21:08:37.933957",
     "exception": false,
     "start_time": "2021-09-17T21:08:37.880144",
     "status": "completed"
    },
    "tags": []
   },
   "outputs": [],
   "source": [
    "class DataGen(keras.utils.Sequence):\n",
    "    def __init__(self , path_input , path_mask , batch_size = 8 , image_size = 128):\n",
    "        self.ids = os.listdir(path_mask) # only take those images that we have segregated masks of\n",
    "        self.path_input = path_input\n",
    "        self.path_mask = path_mask\n",
    "        self.batch_size = batch_size\n",
    "        self.image_size = image_size\n",
    "        self.on_epoch_end()\n",
    "        \n",
    "    def __load__(self , id_name):\n",
    "        image_path = os.path.join(self.path_input , id_name)\n",
    "        mask_path = os.path.join(self.path_mask , id_name)\n",
    "        image = cv2.imread(image_path , 1) # 1 specifies RGB format\n",
    "        image = cv2.resize(image , (self.image_size , self.image_size)) # resizing before inserting to the network\n",
    "        mask = cv2.imread(mask_path , -1)\n",
    "        mask = cv2.resize(mask , (self.image_size , self.image_size))\n",
    "        mask = mask.reshape((self.image_size , self.image_size , 1))\n",
    "        #normalize image\n",
    "        image = image / 255.0\n",
    "        mask = mask / 255.0\n",
    "        return image , mask\n",
    "    \n",
    "    def __getitem__(self , index):\n",
    "        if (index + 1)*self.batch_size > len(self.ids):\n",
    "            self.batch_size = len(self.ids) - index * self.batch_size\n",
    "        file_batch = self.ids[index * self.batch_size : (index + 1) * self.batch_size]\n",
    "        images = []\n",
    "        masks = []\n",
    "        \n",
    "        for id_name in file_batch : \n",
    "            _img , _mask = self.__load__(id_name)\n",
    "            images.append(_img)\n",
    "            masks.append(_mask)\n",
    "        \n",
    "        images = np.array(images)\n",
    "        masks = np.array(masks)\n",
    "        return images , masks\n",
    "    \n",
    "    def on_epoch_end(self):\n",
    "        pass\n",
    "    def __len__(self):\n",
    "        return int(np.ceil(len(self.ids) / float(self.batch_size)))"
   ]
  },
  {
   "cell_type": "code",
   "execution_count": 20,
   "id": "91c53127",
   "metadata": {
    "execution": {
     "iopub.execute_input": "2021-09-17T21:08:38.000461Z",
     "iopub.status.busy": "2021-09-17T21:08:37.999671Z",
     "iopub.status.idle": "2021-09-17T21:08:38.002222Z",
     "shell.execute_reply": "2021-09-17T21:08:38.001796Z",
     "shell.execute_reply.started": "2021-09-17T20:54:19.614833Z"
    },
    "papermill": {
     "duration": 0.037823,
     "end_time": "2021-09-17T21:08:38.002324",
     "exception": false,
     "start_time": "2021-09-17T21:08:37.964501",
     "status": "completed"
    },
    "tags": []
   },
   "outputs": [],
   "source": [
    "image_size = 128 \n",
    "epochs = 20\n",
    "batch_size = 5"
   ]
  },
  {
   "cell_type": "code",
   "execution_count": 21,
   "id": "89b5646c",
   "metadata": {
    "execution": {
     "iopub.execute_input": "2021-09-17T21:08:38.068690Z",
     "iopub.status.busy": "2021-09-17T21:08:38.067930Z",
     "iopub.status.idle": "2021-09-17T21:08:38.103699Z",
     "shell.execute_reply": "2021-09-17T21:08:38.103254Z",
     "shell.execute_reply.started": "2021-09-17T20:54:20.108201Z"
    },
    "papermill": {
     "duration": 0.070548,
     "end_time": "2021-09-17T21:08:38.103812",
     "exception": false,
     "start_time": "2021-09-17T21:08:38.033264",
     "status": "completed"
    },
    "tags": []
   },
   "outputs": [],
   "source": [
    "train_gen = DataGen(path_input = TRAIN_PATH , path_mask = MASK_TRAIN_DIR , batch_size = batch_size , image_size = image_size)\n",
    "val_gen = DataGen(path_input =  VAL_PATH, path_mask =  MASK_VAL_DIR, batch_size = batch_size , image_size = image_size)"
   ]
  },
  {
   "cell_type": "code",
   "execution_count": 22,
   "id": "60d27c5f",
   "metadata": {
    "execution": {
     "iopub.execute_input": "2021-09-17T21:08:38.169139Z",
     "iopub.status.busy": "2021-09-17T21:08:38.168643Z",
     "iopub.status.idle": "2021-09-17T21:08:38.312096Z",
     "shell.execute_reply": "2021-09-17T21:08:38.311688Z",
     "shell.execute_reply.started": "2021-09-17T20:54:41.603597Z"
    },
    "papermill": {
     "duration": 0.177525,
     "end_time": "2021-09-17T21:08:38.312203",
     "exception": false,
     "start_time": "2021-09-17T21:08:38.134678",
     "status": "completed"
    },
    "tags": []
   },
   "outputs": [],
   "source": [
    "x, y = val_gen.__getitem__(4)"
   ]
  },
  {
   "cell_type": "code",
   "execution_count": 23,
   "id": "13a952c8",
   "metadata": {
    "execution": {
     "iopub.execute_input": "2021-09-17T21:08:38.403947Z",
     "iopub.status.busy": "2021-09-17T21:08:38.403160Z",
     "iopub.status.idle": "2021-09-17T21:08:38.741713Z",
     "shell.execute_reply": "2021-09-17T21:08:38.742322Z",
     "shell.execute_reply.started": "2021-09-17T20:54:41.814082Z"
    },
    "papermill": {
     "duration": 0.400863,
     "end_time": "2021-09-17T21:08:38.743792",
     "exception": false,
     "start_time": "2021-09-17T21:08:38.342929",
     "status": "completed"
    },
    "tags": []
   },
   "outputs": [
    {
     "data": {
      "text/plain": [
       "<matplotlib.image.AxesImage at 0x7f1359f2dd90>"
      ]
     },
     "execution_count": 23,
     "metadata": {},
     "output_type": "execute_result"
    },
    {
     "data": {
      "image/png": "[encoded data removed]",
      "text/plain": [
       "<Figure size 432x288 with 1 Axes>"
      ]
     },
     "metadata": {
      "needs_background": "light"
     },
     "output_type": "display_data"
    }
   ],
   "source": [
    "plt.imshow(x[0]) # just an example to show that the dataloader is working fine"
   ]
  },
  {
   "cell_type": "code",
   "execution_count": 24,
   "id": "bca1feca",
   "metadata": {
    "execution": {
     "iopub.execute_input": "2021-09-17T21:08:38.874238Z",
     "iopub.status.busy": "2021-09-17T21:08:38.873510Z",
     "iopub.status.idle": "2021-09-17T21:08:39.146346Z",
     "shell.execute_reply": "2021-09-17T21:08:39.147599Z",
     "shell.execute_reply.started": "2021-09-17T20:54:42.056620Z"
    },
    "papermill": {
     "duration": 0.340433,
     "end_time": "2021-09-17T21:08:39.147840",
     "exception": false,
     "start_time": "2021-09-17T21:08:38.807407",
     "status": "completed"
    },
    "tags": []
   },
   "outputs": [
    {
     "data": {
      "text/plain": [
       "<matplotlib.image.AxesImage at 0x7f1359667f10>"
      ]
     },
     "execution_count": 24,
     "metadata": {},
     "output_type": "execute_result"
    },
    {
     "data": {
      "image/png": "[encoded data removed]",
      "text/plain": [
       "<Figure size 432x288 with 1 Axes>"
      ]
     },
     "metadata": {
      "needs_background": "light"
     },
     "output_type": "display_data"
    }
   ],
   "source": [
    "plt.imshow(y[0])"
   ]
  },
  {
   "cell_type": "markdown",
   "id": "2b3f8e5a",
   "metadata": {
    "papermill": {
     "duration": 0.063512,
     "end_time": "2021-09-17T21:08:39.278588",
     "exception": false,
     "start_time": "2021-09-17T21:08:39.215076",
     "status": "completed"
    },
    "tags": []
   },
   "source": [
    "# Define U-Net and Train the model"
   ]
  },
  {
   "cell_type": "code",
   "execution_count": 25,
   "id": "9626b3cc",
   "metadata": {
    "execution": {
     "iopub.execute_input": "2021-09-17T21:08:39.418939Z",
     "iopub.status.busy": "2021-09-17T21:08:39.417854Z",
     "iopub.status.idle": "2021-09-17T21:08:39.420560Z",
     "shell.execute_reply": "2021-09-17T21:08:39.419699Z",
     "shell.execute_reply.started": "2021-09-17T20:54:48.232534Z"
    },
    "papermill": {
     "duration": 0.077042,
     "end_time": "2021-09-17T21:08:39.420743",
     "exception": false,
     "start_time": "2021-09-17T21:08:39.343701",
     "status": "completed"
    },
    "tags": []
   },
   "outputs": [],
   "source": [
    "# def crop_img(tensor,target_tensor):\n",
    "#     target_size = target_tensor.shape[2]\n",
    "#     tensor_size = tensor.shape[2]\n",
    "#     delta = tensor_size-target_size\n",
    "#     delta = delta//2 \n",
    "#     return tensor[:,delta:tensor_size-delta,delta:tensor_size-delta,:]"
   ]
  },
  {
   "cell_type": "code",
   "execution_count": 26,
   "id": "21ff3d9d",
   "metadata": {
    "execution": {
     "iopub.execute_input": "2021-09-17T21:08:39.568542Z",
     "iopub.status.busy": "2021-09-17T21:08:39.565377Z",
     "iopub.status.idle": "2021-09-17T21:08:41.975738Z",
     "shell.execute_reply": "2021-09-17T21:08:41.974841Z",
     "shell.execute_reply.started": "2021-09-17T20:54:48.731420Z"
    },
    "papermill": {
     "duration": 2.487196,
     "end_time": "2021-09-17T21:08:41.975875",
     "exception": false,
     "start_time": "2021-09-17T21:08:39.488679",
     "status": "completed"
    },
    "tags": []
   },
   "outputs": [
    {
     "name": "stderr",
     "output_type": "stream",
     "text": [
      "2021-09-17 21:08:39.628376: I tensorflow/compiler/jit/xla_cpu_device.cc:41] Not creating XLA devices, tf_xla_enable_xla_devices not set\n",
      "2021-09-17 21:08:39.632169: I tensorflow/stream_executor/platform/default/dso_loader.cc:49] Successfully opened dynamic library libcuda.so.1\n",
      "2021-09-17 21:08:39.669322: I tensorflow/stream_executor/cuda/cuda_gpu_executor.cc:941] successful NUMA node read from SysFS had negative value (-1), but there must be at least one NUMA node, so returning NUMA node zero\n",
      "2021-09-17 21:08:39.670074: I tensorflow/core/common_runtime/gpu/gpu_device.cc:1720] Found device 0 with properties: \n",
      "pciBusID: 0000:00:04.0 name: Tesla P100-PCIE-16GB computeCapability: 6.0\n",
      "coreClock: 1.3285GHz coreCount: 56 deviceMemorySize: 15.90GiB deviceMemoryBandwidth: 681.88GiB/s\n",
      "2021-09-17 21:08:39.670159: I tensorflow/stream_executor/platform/default/dso_loader.cc:49] Successfully opened dynamic library libcudart.so.11.0\n",
      "2021-09-17 21:08:39.714231: I tensorflow/stream_executor/platform/default/dso_loader.cc:49] Successfully opened dynamic library libcublas.so.11\n",
      "2021-09-17 21:08:39.714327: I tensorflow/stream_executor/platform/default/dso_loader.cc:49] Successfully opened dynamic library libcublasLt.so.11\n",
      "2021-09-17 21:08:39.732930: I tensorflow/stream_executor/platform/default/dso_loader.cc:49] Successfully opened dynamic library libcufft.so.10\n",
      "2021-09-17 21:08:39.781037: I tensorflow/stream_executor/platform/default/dso_loader.cc:49] Successfully opened dynamic library libcurand.so.10\n",
      "2021-09-17 21:08:39.827257: I tensorflow/stream_executor/platform/default/dso_loader.cc:49] Successfully opened dynamic library libcusolver.so.10\n",
      "2021-09-17 21:08:39.835547: I tensorflow/stream_executor/platform/default/dso_loader.cc:49] Successfully opened dynamic library libcusparse.so.11\n",
      "2021-09-17 21:08:39.838325: I tensorflow/stream_executor/platform/default/dso_loader.cc:49] Successfully opened dynamic library libcudnn.so.8\n",
      "2021-09-17 21:08:39.838574: I tensorflow/stream_executor/cuda/cuda_gpu_executor.cc:941] successful NUMA node read from SysFS had negative value (-1), but there must be at least one NUMA node, so returning NUMA node zero\n",
      "2021-09-17 21:08:39.839402: I tensorflow/stream_executor/cuda/cuda_gpu_executor.cc:941] successful NUMA node read from SysFS had negative value (-1), but there must be at least one NUMA node, so returning NUMA node zero\n",
      "2021-09-17 21:08:39.841078: I tensorflow/core/common_runtime/gpu/gpu_device.cc:1862] Adding visible gpu devices: 0\n",
      "2021-09-17 21:08:39.841637: I tensorflow/core/platform/cpu_feature_guard.cc:142] This TensorFlow binary is optimized with oneAPI Deep Neural Network Library (oneDNN) to use the following CPU instructions in performance-critical operations:  AVX2 AVX512F FMA\n",
      "To enable them in other operations, rebuild TensorFlow with the appropriate compiler flags.\n",
      "2021-09-17 21:08:39.841873: I tensorflow/compiler/jit/xla_gpu_device.cc:99] Not creating XLA devices, tf_xla_enable_xla_devices not set\n",
      "2021-09-17 21:08:39.842084: I tensorflow/stream_executor/cuda/cuda_gpu_executor.cc:941] successful NUMA node read from SysFS had negative value (-1), but there must be at least one NUMA node, so returning NUMA node zero\n",
      "2021-09-17 21:08:39.842685: I tensorflow/core/common_runtime/gpu/gpu_device.cc:1720] Found device 0 with properties: \n",
      "pciBusID: 0000:00:04.0 name: Tesla P100-PCIE-16GB computeCapability: 6.0\n",
      "coreClock: 1.3285GHz coreCount: 56 deviceMemorySize: 15.90GiB deviceMemoryBandwidth: 681.88GiB/s\n",
      "2021-09-17 21:08:39.842748: I tensorflow/stream_executor/platform/default/dso_loader.cc:49] Successfully opened dynamic library libcudart.so.11.0\n",
      "2021-09-17 21:08:39.842776: I tensorflow/stream_executor/platform/default/dso_loader.cc:49] Successfully opened dynamic library libcublas.so.11\n",
      "2021-09-17 21:08:39.842795: I tensorflow/stream_executor/platform/default/dso_loader.cc:49] Successfully opened dynamic library libcublasLt.so.11\n",
      "2021-09-17 21:08:39.842814: I tensorflow/stream_executor/platform/default/dso_loader.cc:49] Successfully opened dynamic library libcufft.so.10\n",
      "2021-09-17 21:08:39.842837: I tensorflow/stream_executor/platform/default/dso_loader.cc:49] Successfully opened dynamic library libcurand.so.10\n",
      "2021-09-17 21:08:39.842865: I tensorflow/stream_executor/platform/default/dso_loader.cc:49] Successfully opened dynamic library libcusolver.so.10\n",
      "2021-09-17 21:08:39.842889: I tensorflow/stream_executor/platform/default/dso_loader.cc:49] Successfully opened dynamic library libcusparse.so.11\n",
      "2021-09-17 21:08:39.842908: I tensorflow/stream_executor/platform/default/dso_loader.cc:49] Successfully opened dynamic library libcudnn.so.8\n",
      "2021-09-17 21:08:39.842995: I tensorflow/stream_executor/cuda/cuda_gpu_executor.cc:941] successful NUMA node read from SysFS had negative value (-1), but there must be at least one NUMA node, so returning NUMA node zero\n",
      "2021-09-17 21:08:39.843649: I tensorflow/stream_executor/cuda/cuda_gpu_executor.cc:941] successful NUMA node read from SysFS had negative value (-1), but there must be at least one NUMA node, so returning NUMA node zero\n",
      "2021-09-17 21:08:39.844264: I tensorflow/core/common_runtime/gpu/gpu_device.cc:1862] Adding visible gpu devices: 0\n",
      "2021-09-17 21:08:39.845298: I tensorflow/stream_executor/platform/default/dso_loader.cc:49] Successfully opened dynamic library libcudart.so.11.0\n",
      "2021-09-17 21:08:41.380210: I tensorflow/core/common_runtime/gpu/gpu_device.cc:1261] Device interconnect StreamExecutor with strength 1 edge matrix:\n",
      "2021-09-17 21:08:41.380259: I tensorflow/core/common_runtime/gpu/gpu_device.cc:1267]      0 \n",
      "2021-09-17 21:08:41.380269: I tensorflow/core/common_runtime/gpu/gpu_device.cc:1280] 0:   N \n",
      "2021-09-17 21:08:41.382628: I tensorflow/stream_executor/cuda/cuda_gpu_executor.cc:941] successful NUMA node read from SysFS had negative value (-1), but there must be at least one NUMA node, so returning NUMA node zero\n",
      "2021-09-17 21:08:41.383675: I tensorflow/stream_executor/cuda/cuda_gpu_executor.cc:941] successful NUMA node read from SysFS had negative value (-1), but there must be at least one NUMA node, so returning NUMA node zero\n",
      "2021-09-17 21:08:41.384442: I tensorflow/stream_executor/cuda/cuda_gpu_executor.cc:941] successful NUMA node read from SysFS had negative value (-1), but there must be at least one NUMA node, so returning NUMA node zero\n",
      "2021-09-17 21:08:41.385032: I tensorflow/core/common_runtime/gpu/gpu_device.cc:1406] Created TensorFlow device (/job:localhost/replica:0/task:0/device:GPU:0 with 14957 MB memory) -> physical GPU (device: 0, name: Tesla P100-PCIE-16GB, pci bus id: 0000:00:04.0, compute capability: 6.0)\n"
     ]
    }
   ],
   "source": [
    "# U-Net Actual Architecture\n",
    "\n",
    "image_size = 128\n",
    "h = image_size\n",
    "w = image_size\n",
    "channels = 3\n",
    "\n",
    "# input area\n",
    "model_in = Input(shape=(h, w, channels))\n",
    "\n",
    "\n",
    "# down convolutions\n",
    "conv1 = BatchNormalization(scale=True)(model_in)\n",
    "conv1 = Conv2D(64, (3, 3), activation='relu',kernel_initializer=\"he_normal\", padding=\"same\")(conv1)\n",
    "conv1 = Conv2D(64, (3, 3), activation='relu',kernel_initializer=\"he_normal\", padding=\"same\")(conv1)\n",
    "down1 = MaxPooling2D((2, 2), strides=2)(conv1)\n",
    "\n",
    "conv2 = BatchNormalization(scale=True)(down1)\n",
    "conv2 = Conv2D(128, (3, 3), activation='relu',kernel_initializer=\"he_normal\", padding=\"same\")(conv2)\n",
    "conv2 = Conv2D(128, (3, 3), activation='relu',kernel_initializer=\"he_normal\", padding=\"same\")(conv2)\n",
    "down2 = MaxPooling2D((2, 2), strides=2)(conv2)\n",
    "\n",
    "conv3 = BatchNormalization(scale=True)(down2)\n",
    "conv3 = Conv2D(256, (3, 3), activation='relu',kernel_initializer=\"he_normal\", padding=\"same\")(conv3)\n",
    "conv3 = Conv2D(256, (3, 3), activation='relu',kernel_initializer=\"he_normal\", padding=\"same\")(conv3)\n",
    "down3 = MaxPooling2D((2, 2), strides=2)(conv3)\n",
    "\n",
    "conv4 = BatchNormalization(scale=True)(down3)\n",
    "conv4 = Conv2D(512, (3, 3), activation='relu',kernel_initializer=\"he_normal\", padding=\"same\")(conv4)\n",
    "conv4 = Conv2D(512, (3, 3), activation='relu',kernel_initializer=\"he_normal\", padding=\"same\")(conv4)\n",
    "down4 = MaxPooling2D((2, 2), strides=2)(conv4)\n",
    "\n",
    "# bottleneck region \n",
    "conv5 = BatchNormalization(scale=True)(down4)\n",
    "conv5 = Conv2D(1024, (3, 3), activation='relu',kernel_initializer=\"he_normal\", padding=\"same\")(conv5)\n",
    "conv5 = Conv2D(1024, (3, 3), activation='relu',kernel_initializer=\"he_normal\", padding=\"same\")(conv5)\n",
    "\n",
    "\n",
    "\n",
    "# up convolutions\n",
    "conv6 = BatchNormalization(scale=True)(conv5)\n",
    "conv6 = Conv2DTranspose(512, (2, 2), activation='relu',strides=(2,2),kernel_initializer=\"he_normal\", padding=\"same\")(conv6)\n",
    "#crop1 = crop_img(conv4,conv6)\n",
    "concat1 = concatenate([conv4, conv6], axis=3)\n",
    "conv6 = Conv2D(512, (3, 3), activation='relu',kernel_initializer=\"he_normal\", padding=\"same\")(concat1)\n",
    "conv6 = Conv2D(512, (3, 3), activation='relu',kernel_initializer=\"he_normal\", padding=\"same\")(conv6)\n",
    "\n",
    "conv7 = BatchNormalization(scale=True)(conv6)\n",
    "conv7 = Conv2DTranspose(256, (2, 2), activation='relu',strides=2,kernel_initializer=\"he_normal\", padding=\"same\")(conv7)\n",
    "#crop2 = crop_img(conv3,conv7)\n",
    "concat2 = concatenate([conv3, conv7], axis=3)\n",
    "conv7 = Conv2D(256, (3, 3), activation='relu',kernel_initializer=\"he_normal\", padding=\"same\")(concat2)\n",
    "conv7 = Conv2D(256, (3, 3), activation='relu',kernel_initializer=\"he_normal\", padding=\"same\")(conv7)\n",
    "\n",
    "conv8 = BatchNormalization(scale=True)(conv7)\n",
    "conv8 = Conv2DTranspose(128, (2, 2), activation='relu',strides=2,kernel_initializer=\"he_normal\", padding=\"same\")(conv8)\n",
    "#crop3 = crop_img(conv2,conv8)\n",
    "concat3 = concatenate([conv2, conv8], axis=3)\n",
    "conv8 = Conv2D(128, (3, 3), activation='relu',kernel_initializer=\"he_normal\", padding=\"same\")(concat3)\n",
    "conv8 = Conv2D(128, (3, 3), activation='relu',kernel_initializer=\"he_normal\", padding=\"same\")(conv8)\n",
    "\n",
    "conv9 = BatchNormalization(scale=True)(conv8)\n",
    "conv9 = Conv2DTranspose(128, (2, 2), activation='relu',strides=2,kernel_initializer=\"he_normal\", padding=\"same\")(conv9)\n",
    "#crop4 = crop_img(conv1,conv9)\n",
    "concat4 = concatenate([conv1, conv9], axis=3)\n",
    "conv9 = Conv2D(64, (3, 3), activation='relu',kernel_initializer=\"he_normal\", padding=\"same\")(concat4)\n",
    "conv9 = Conv2D(64, (3, 3), activation='relu',kernel_initializer=\"he_normal\", padding=\"same\")(conv9)\n",
    "\n",
    "# final 1x1 convolution \n",
    "conv10 = Conv2D(1,kernel_size=(1,1),activation=\"sigmoid\",kernel_initializer=\"he_normal\", padding=\"same\")(conv9)\n",
    "\n",
    "model = Model(model_in, conv10)"
   ]
  },
  {
   "cell_type": "code",
   "execution_count": 27,
   "id": "78ebd8c2",
   "metadata": {
    "execution": {
     "iopub.execute_input": "2021-09-17T21:08:42.061718Z",
     "iopub.status.busy": "2021-09-17T21:08:42.060895Z",
     "iopub.status.idle": "2021-09-17T21:08:42.067784Z",
     "shell.execute_reply": "2021-09-17T21:08:42.068313Z",
     "shell.execute_reply.started": "2021-09-17T20:54:49.035772Z"
    },
    "papermill": {
     "duration": 0.054714,
     "end_time": "2021-09-17T21:08:42.068476",
     "exception": false,
     "start_time": "2021-09-17T21:08:42.013762",
     "status": "completed"
    },
    "tags": []
   },
   "outputs": [],
   "source": [
    "model.compile(optimizer = Adam(lr = 1e-4), loss = 'binary_crossentropy', metrics = ['accuracy'])\n",
    "# model.compile(optimizer = SGD(lr = 1e-4), loss = 'binary_crossentropy', metrics = ['accuracy',MeanIoU(num_classes=2)])"
   ]
  },
  {
   "cell_type": "code",
   "execution_count": 28,
   "id": "d78365b4",
   "metadata": {
    "execution": {
     "iopub.execute_input": "2021-09-17T21:08:42.150792Z",
     "iopub.status.busy": "2021-09-17T21:08:42.148550Z",
     "iopub.status.idle": "2021-09-17T21:08:42.170453Z",
     "shell.execute_reply": "2021-09-17T21:08:42.169743Z",
     "shell.execute_reply.started": "2021-09-17T20:54:49.054017Z"
    },
    "papermill": {
     "duration": 0.065017,
     "end_time": "2021-09-17T21:08:42.170594",
     "exception": false,
     "start_time": "2021-09-17T21:08:42.105577",
     "status": "completed"
    },
    "tags": []
   },
   "outputs": [
    {
     "name": "stdout",
     "output_type": "stream",
     "text": [
      "Model: \"model\"\n",
      "__________________________________________________________________________________________________\n",
      "Layer (type)                    Output Shape         Param #     Connected to                     \n",
      "==================================================================================================\n",
      "input_1 (InputLayer)            [(None, 128, 128, 3) 0                                            \n",
      "__________________________________________________________________________________________________\n",
      "batch_normalization (BatchNorma (None, 128, 128, 3)  12          input_1[0][0]                    \n",
      "__________________________________________________________________________________________________\n",
      "conv2d (Conv2D)                 (None, 128, 128, 64) 1792        batch_normalization[0][0]        \n",
      "__________________________________________________________________________________________________\n",
      "conv2d_1 (Conv2D)               (None, 128, 128, 64) 36928       conv2d[0][0]                     \n",
      "__________________________________________________________________________________________________\n",
      "max_pooling2d (MaxPooling2D)    (None, 64, 64, 64)   0           conv2d_1[0][0]                   \n",
      "__________________________________________________________________________________________________\n",
      "batch_normalization_1 (BatchNor (None, 64, 64, 64)   256         max_pooling2d[0][0]              \n",
      "__________________________________________________________________________________________________\n",
      "conv2d_2 (Conv2D)               (None, 64, 64, 128)  73856       batch_normalization_1[0][0]      \n",
      "__________________________________________________________________________________________________\n",
      "conv2d_3 (Conv2D)               (None, 64, 64, 128)  147584      conv2d_2[0][0]                   \n",
      "__________________________________________________________________________________________________\n",
      "max_pooling2d_1 (MaxPooling2D)  (None, 32, 32, 128)  0           conv2d_3[0][0]                   \n",
      "__________________________________________________________________________________________________\n",
      "batch_normalization_2 (BatchNor (None, 32, 32, 128)  512         max_pooling2d_1[0][0]            \n",
      "__________________________________________________________________________________________________\n",
      "conv2d_4 (Conv2D)               (None, 32, 32, 256)  295168      batch_normalization_2[0][0]      \n",
      "__________________________________________________________________________________________________\n",
      "conv2d_5 (Conv2D)               (None, 32, 32, 256)  590080      conv2d_4[0][0]                   \n",
      "__________________________________________________________________________________________________\n",
      "max_pooling2d_2 (MaxPooling2D)  (None, 16, 16, 256)  0           conv2d_5[0][0]                   \n",
      "__________________________________________________________________________________________________\n",
      "batch_normalization_3 (BatchNor (None, 16, 16, 256)  1024        max_pooling2d_2[0][0]            \n",
      "__________________________________________________________________________________________________\n",
      "conv2d_6 (Conv2D)               (None, 16, 16, 512)  1180160     batch_normalization_3[0][0]      \n",
      "__________________________________________________________________________________________________\n",
      "conv2d_7 (Conv2D)               (None, 16, 16, 512)  2359808     conv2d_6[0][0]                   \n",
      "__________________________________________________________________________________________________\n",
      "max_pooling2d_3 (MaxPooling2D)  (None, 8, 8, 512)    0           conv2d_7[0][0]                   \n",
      "__________________________________________________________________________________________________\n",
      "batch_normalization_4 (BatchNor (None, 8, 8, 512)    2048        max_pooling2d_3[0][0]            \n",
      "__________________________________________________________________________________________________\n",
      "conv2d_8 (Conv2D)               (None, 8, 8, 1024)   4719616     batch_normalization_4[0][0]      \n",
      "__________________________________________________________________________________________________\n",
      "conv2d_9 (Conv2D)               (None, 8, 8, 1024)   9438208     conv2d_8[0][0]                   \n",
      "__________________________________________________________________________________________________\n",
      "batch_normalization_5 (BatchNor (None, 8, 8, 1024)   4096        conv2d_9[0][0]                   \n",
      "__________________________________________________________________________________________________\n",
      "conv2d_transpose (Conv2DTranspo (None, 16, 16, 512)  2097664     batch_normalization_5[0][0]      \n",
      "__________________________________________________________________________________________________\n",
      "concatenate (Concatenate)       (None, 16, 16, 1024) 0           conv2d_7[0][0]                   \n",
      "                                                                 conv2d_transpose[0][0]           \n",
      "__________________________________________________________________________________________________\n",
      "conv2d_10 (Conv2D)              (None, 16, 16, 512)  4719104     concatenate[0][0]                \n",
      "__________________________________________________________________________________________________\n",
      "conv2d_11 (Conv2D)              (None, 16, 16, 512)  2359808     conv2d_10[0][0]                  \n",
      "__________________________________________________________________________________________________\n",
      "batch_normalization_6 (BatchNor (None, 16, 16, 512)  2048        conv2d_11[0][0]                  \n",
      "__________________________________________________________________________________________________\n",
      "conv2d_transpose_1 (Conv2DTrans (None, 32, 32, 256)  524544      batch_normalization_6[0][0]      \n",
      "__________________________________________________________________________________________________\n",
      "concatenate_1 (Concatenate)     (None, 32, 32, 512)  0           conv2d_5[0][0]                   \n",
      "                                                                 conv2d_transpose_1[0][0]         \n",
      "__________________________________________________________________________________________________\n",
      "conv2d_12 (Conv2D)              (None, 32, 32, 256)  1179904     concatenate_1[0][0]              \n",
      "__________________________________________________________________________________________________\n",
      "conv2d_13 (Conv2D)              (None, 32, 32, 256)  590080      conv2d_12[0][0]                  \n",
      "__________________________________________________________________________________________________\n",
      "batch_normalization_7 (BatchNor (None, 32, 32, 256)  1024        conv2d_13[0][0]                  \n",
      "__________________________________________________________________________________________________\n",
      "conv2d_transpose_2 (Conv2DTrans (None, 64, 64, 128)  131200      batch_normalization_7[0][0]      \n",
      "__________________________________________________________________________________________________\n",
      "concatenate_2 (Concatenate)     (None, 64, 64, 256)  0           conv2d_3[0][0]                   \n",
      "                                                                 conv2d_transpose_2[0][0]         \n",
      "__________________________________________________________________________________________________\n",
      "conv2d_14 (Conv2D)              (None, 64, 64, 128)  295040      concatenate_2[0][0]              \n",
      "__________________________________________________________________________________________________\n",
      "conv2d_15 (Conv2D)              (None, 64, 64, 128)  147584      conv2d_14[0][0]                  \n",
      "__________________________________________________________________________________________________\n",
      "batch_normalization_8 (BatchNor (None, 64, 64, 128)  512         conv2d_15[0][0]                  \n",
      "__________________________________________________________________________________________________\n",
      "conv2d_transpose_3 (Conv2DTrans (None, 128, 128, 128 65664       batch_normalization_8[0][0]      \n",
      "__________________________________________________________________________________________________\n",
      "concatenate_3 (Concatenate)     (None, 128, 128, 192 0           conv2d_1[0][0]                   \n",
      "                                                                 conv2d_transpose_3[0][0]         \n",
      "__________________________________________________________________________________________________\n",
      "conv2d_16 (Conv2D)              (None, 128, 128, 64) 110656      concatenate_3[0][0]              \n",
      "__________________________________________________________________________________________________\n",
      "conv2d_17 (Conv2D)              (None, 128, 128, 64) 36928       conv2d_16[0][0]                  \n",
      "__________________________________________________________________________________________________\n",
      "conv2d_18 (Conv2D)              (None, 128, 128, 1)  65          conv2d_17[0][0]                  \n",
      "==================================================================================================\n",
      "Total params: 31,112,973\n",
      "Trainable params: 31,107,207\n",
      "Non-trainable params: 5,766\n",
      "__________________________________________________________________________________________________\n"
     ]
    }
   ],
   "source": [
    "model.summary()"
   ]
  },
  {
   "cell_type": "code",
   "execution_count": 29,
   "id": "fdc93287",
   "metadata": {
    "execution": {
     "iopub.execute_input": "2021-09-17T21:08:42.253265Z",
     "iopub.status.busy": "2021-09-17T21:08:42.252490Z",
     "iopub.status.idle": "2021-09-18T02:40:53.657101Z",
     "shell.execute_reply": "2021-09-18T02:40:53.656541Z",
     "shell.execute_reply.started": "2021-09-17T20:54:49.082667Z"
    },
    "papermill": {
     "duration": 19931.448321,
     "end_time": "2021-09-18T02:40:53.657832",
     "exception": false,
     "start_time": "2021-09-17T21:08:42.209511",
     "status": "completed"
    },
    "tags": []
   },
   "outputs": [
    {
     "name": "stderr",
     "output_type": "stream",
     "text": [
      "2021-09-17 21:08:42.286112: I tensorflow/core/profiler/lib/profiler_session.cc:136] Profiler session initializing.\n",
      "2021-09-17 21:08:42.286163: I tensorflow/core/profiler/lib/profiler_session.cc:155] Profiler session started.\n",
      "2021-09-17 21:08:42.287000: I tensorflow/core/profiler/internal/gpu/cupti_tracer.cc:1365] Profiler found 1 GPUs\n",
      "2021-09-17 21:08:42.305437: I tensorflow/stream_executor/platform/default/dso_loader.cc:49] Successfully opened dynamic library libcupti.so.11.0\n",
      "2021-09-17 21:08:42.494572: I tensorflow/core/profiler/lib/profiler_session.cc:172] Profiler session tear down.\n",
      "2021-09-17 21:08:42.494794: I tensorflow/core/profiler/internal/gpu/cupti_tracer.cc:1487] CUPTI activity buffer flushed\n",
      "/opt/conda/lib/python3.7/site-packages/tensorflow/python/keras/engine/training.py:1844: UserWarning: `Model.fit_generator` is deprecated and will be removed in a future version. Please use `Model.fit`, which supports generators.\n",
      "  warnings.warn('`Model.fit_generator` is deprecated and '\n",
      "2021-09-17 21:08:42.887001: I tensorflow/compiler/mlir/mlir_graph_optimization_pass.cc:116] None of the MLIR optimization passes are enabled (registered 2)\n",
      "2021-09-17 21:08:42.891184: I tensorflow/core/platform/profile_utils/cpu_utils.cc:112] CPU Frequency: 2000140000 Hz\n"
     ]
    },
    {
     "name": "stdout",
     "output_type": "stream",
     "text": [
      "Epoch 1/20\n"
     ]
    },
    {
     "name": "stderr",
     "output_type": "stream",
     "text": [
      "2021-09-17 21:08:44.740287: I tensorflow/stream_executor/platform/default/dso_loader.cc:49] Successfully opened dynamic library libcudnn.so.8\n",
      "2021-09-17 21:08:50.127253: I tensorflow/stream_executor/platform/default/dso_loader.cc:49] Successfully opened dynamic library libcublas.so.11\n",
      "2021-09-17 21:08:50.892650: I tensorflow/stream_executor/platform/default/dso_loader.cc:49] Successfully opened dynamic library libcublasLt.so.11\n"
     ]
    },
    {
     "name": "stdout",
     "output_type": "stream",
     "text": [
      "    2/11899 [..............................] - ETA: 1:21:43 - loss: 0.7723 - accuracy: 0.4318 "
     ]
    },
    {
     "name": "stderr",
     "output_type": "stream",
     "text": [
      "2021-09-17 21:08:52.300663: I tensorflow/core/profiler/lib/profiler_session.cc:136] Profiler session initializing.\n",
      "2021-09-17 21:08:52.300719: I tensorflow/core/profiler/lib/profiler_session.cc:155] Profiler session started.\n"
     ]
    },
    {
     "name": "stdout",
     "output_type": "stream",
     "text": [
      "    3/11899 [..............................] - ETA: 1:16:36 - loss: 0.7575 - accuracy: 0.4531"
     ]
    },
    {
     "name": "stderr",
     "output_type": "stream",
     "text": [
      "2021-09-17 21:08:52.665307: I tensorflow/core/profiler/lib/profiler_session.cc:71] Profiler session collecting data.\n",
      "2021-09-17 21:08:52.665940: I tensorflow/core/profiler/internal/gpu/cupti_tracer.cc:1487] CUPTI activity buffer flushed\n",
      "2021-09-17 21:08:52.803038: I tensorflow/core/profiler/internal/gpu/cupti_collector.cc:228]  GpuTracer has collected 523 callback api events and 511 activity events. \n",
      "2021-09-17 21:08:52.817298: I tensorflow/core/profiler/lib/profiler_session.cc:172] Profiler session tear down.\n",
      "2021-09-17 21:08:52.836553: I tensorflow/core/profiler/rpc/client/save_profile.cc:137] Creating directory: /kaggle/working/logs/scalars/20210917-210842/train/plugins/profile/2021_09_17_21_08_52\n",
      "2021-09-17 21:08:52.846907: I tensorflow/core/profiler/rpc/client/save_profile.cc:143] Dumped gzipped tool data for trace.json.gz to /kaggle/working/logs/scalars/20210917-210842/train/plugins/profile/2021_09_17_21_08_52/1c6231d6a5b2.trace.json.gz\n",
      "2021-09-17 21:08:52.878631: I tensorflow/core/profiler/rpc/client/save_profile.cc:137] Creating directory: /kaggle/working/logs/scalars/20210917-210842/train/plugins/profile/2021_09_17_21_08_52\n",
      "2021-09-17 21:08:52.883699: I tensorflow/core/profiler/rpc/client/save_profile.cc:143] Dumped gzipped tool data for memory_profile.json.gz to /kaggle/working/logs/scalars/20210917-210842/train/plugins/profile/2021_09_17_21_08_52/1c6231d6a5b2.memory_profile.json.gz\n",
      "2021-09-17 21:08:52.884760: I tensorflow/core/profiler/rpc/client/capture_profile.cc:251] Creating directory: /kaggle/working/logs/scalars/20210917-210842/train/plugins/profile/2021_09_17_21_08_52Dumped tool data for xplane.pb to /kaggle/working/logs/scalars/20210917-210842/train/plugins/profile/2021_09_17_21_08_52/1c6231d6a5b2.xplane.pb\n",
      "Dumped tool data for overview_page.pb to /kaggle/working/logs/scalars/20210917-210842/train/plugins/profile/2021_09_17_21_08_52/1c6231d6a5b2.overview_page.pb\n",
      "Dumped tool data for input_pipeline.pb to /kaggle/working/logs/scalars/20210917-210842/train/plugins/profile/2021_09_17_21_08_52/1c6231d6a5b2.input_pipeline.pb\n",
      "Dumped tool data for tensorflow_stats.pb to /kaggle/working/logs/scalars/20210917-210842/train/plugins/profile/2021_09_17_21_08_52/1c6231d6a5b2.tensorflow_stats.pb\n",
      "Dumped tool data for kernel_stats.pb to /kaggle/working/logs/scalars/20210917-210842/train/plugins/profile/2021_09_17_21_08_52/1c6231d6a5b2.kernel_stats.pb\n",
      "\n"
     ]
    },
    {
     "name": "stdout",
     "output_type": "stream",
     "text": [
      "11899/11899 [==============================] - 1338s 112ms/step - loss: 0.4639 - accuracy: 0.7465 - val_loss: 0.3875 - val_accuracy: 0.7874\n",
      "Epoch 2/20\n",
      "11899/11899 [==============================] - 977s 82ms/step - loss: 0.3739 - accuracy: 0.7974 - val_loss: 0.3676 - val_accuracy: 0.7920\n",
      "Epoch 3/20\n",
      "11899/11899 [==============================] - 960s 81ms/step - loss: 0.3405 - accuracy: 0.8133 - val_loss: 0.3390 - val_accuracy: 0.8124\n",
      "Epoch 4/20\n",
      "11899/11899 [==============================] - 963s 81ms/step - loss: 0.3119 - accuracy: 0.8274 - val_loss: 0.3315 - val_accuracy: 0.8157\n",
      "Epoch 5/20\n",
      "11899/11899 [==============================] - 1002s 84ms/step - loss: 0.2846 - accuracy: 0.8412 - val_loss: 0.3367 - val_accuracy: 0.8148\n",
      "Epoch 6/20\n",
      "11899/11899 [==============================] - 977s 82ms/step - loss: 0.2541 - accuracy: 0.8569 - val_loss: 0.3348 - val_accuracy: 0.8141\n",
      "Epoch 7/20\n",
      "11899/11899 [==============================] - 937s 79ms/step - loss: 0.2240 - accuracy: 0.8720 - val_loss: 0.3336 - val_accuracy: 0.8173\n",
      "Epoch 8/20\n",
      "11899/11899 [==============================] - 950s 80ms/step - loss: 0.1986 - accuracy: 0.8847 - val_loss: 0.3663 - val_accuracy: 0.8168\n",
      "Epoch 9/20\n",
      "11899/11899 [==============================] - 998s 84ms/step - loss: 0.1793 - accuracy: 0.8939 - val_loss: 0.3759 - val_accuracy: 0.8166\n",
      "Epoch 10/20\n",
      "11899/11899 [==============================] - 993s 83ms/step - loss: 0.1642 - accuracy: 0.9005 - val_loss: 0.3752 - val_accuracy: 0.8192\n",
      "Epoch 11/20\n",
      "11899/11899 [==============================] - 982s 83ms/step - loss: 0.1536 - accuracy: 0.9046 - val_loss: 0.4031 - val_accuracy: 0.8141\n",
      "Epoch 12/20\n",
      "11899/11899 [==============================] - 958s 80ms/step - loss: 0.1423 - accuracy: 0.9097 - val_loss: 0.4135 - val_accuracy: 0.8173\n",
      "Epoch 13/20\n",
      "11899/11899 [==============================] - 978s 82ms/step - loss: 0.1334 - accuracy: 0.9133 - val_loss: 0.4203 - val_accuracy: 0.8152\n",
      "Epoch 14/20\n",
      "11899/11899 [==============================] - 991s 83ms/step - loss: 0.1268 - accuracy: 0.9158 - val_loss: 0.4253 - val_accuracy: 0.8160\n",
      "Epoch 15/20\n",
      "11899/11899 [==============================] - 1008s 85ms/step - loss: 0.1192 - accuracy: 0.9189 - val_loss: 0.4457 - val_accuracy: 0.8183\n",
      "Epoch 16/20\n",
      "11899/11899 [==============================] - 969s 81ms/step - loss: 0.1144 - accuracy: 0.9204 - val_loss: 0.4555 - val_accuracy: 0.8181\n",
      "Epoch 17/20\n",
      "11899/11899 [==============================] - 987s 83ms/step - loss: 0.1090 - accuracy: 0.9225 - val_loss: 0.4546 - val_accuracy: 0.8195\n",
      "Epoch 18/20\n",
      "11899/11899 [==============================] - 974s 82ms/step - loss: 0.1042 - accuracy: 0.9244 - val_loss: 0.4856 - val_accuracy: 0.8172\n",
      "Epoch 19/20\n",
      "11899/11899 [==============================] - 1002s 84ms/step - loss: 0.1001 - accuracy: 0.9260 - val_loss: 0.4777 - val_accuracy: 0.8174\n",
      "Epoch 20/20\n",
      "11899/11899 [==============================] - 988s 83ms/step - loss: 0.0966 - accuracy: 0.9273 - val_loss: 0.5144 - val_accuracy: 0.8192\n"
     ]
    },
    {
     "data": {
      "text/plain": [
       "<tensorflow.python.keras.callbacks.History at 0x7f135864fd50>"
      ]
     },
     "execution_count": 29,
     "metadata": {},
     "output_type": "execute_result"
    }
   ],
   "source": [
    "train_steps =  len(os.listdir(MASK_TRAIN_DIR))/batch_size\n",
    "logdir = WORKING_DIR+\"/logs/scalars/\" + datetime.now().strftime(\"%Y%m%d-%H%M%S\")\n",
    "tensorboard_callback = keras.callbacks.TensorBoard(log_dir=logdir) \n",
    "model.fit_generator(train_gen , validation_data = val_gen , steps_per_epoch = train_steps , epochs=epochs, callbacks=[tensorboard_callback])"
   ]
  },
  {
   "cell_type": "code",
   "execution_count": 30,
   "id": "e31ea614",
   "metadata": {
    "execution": {
     "iopub.execute_input": "2021-09-18T02:43:02.981394Z",
     "iopub.status.busy": "2021-09-18T02:43:02.928734Z",
     "iopub.status.idle": "2021-09-18T02:43:07.539846Z",
     "shell.execute_reply": "2021-09-18T02:43:07.538735Z",
     "shell.execute_reply.started": "2021-09-17T20:56:29.508060Z"
    },
    "papermill": {
     "duration": 69.012708,
     "end_time": "2021-09-18T02:43:07.539988",
     "exception": false,
     "start_time": "2021-09-18T02:41:58.527280",
     "status": "completed"
    },
    "tags": []
   },
   "outputs": [
    {
     "name": "stdout",
     "output_type": "stream",
     "text": [
      "--2021-09-18 02:43:03--  https://bin.equinox.io/c/4VmDzA7iaHb/ngrok-stable-linux-amd64.zip\r\n",
      "Resolving bin.equinox.io (bin.equinox.io)... 52.202.168.65, 54.237.133.81, 54.161.241.46, ...\r\n",
      "Connecting to bin.equinox.io (bin.equinox.io)|52.202.168.65|:443... connected.\r\n",
      "HTTP request sent, awaiting response... 200 OK\r\n",
      "Length: 13832437 (13M) [application/octet-stream]\r\n",
      "Saving to: ‘ngrok-stable-linux-amd64.zip’\r\n",
      "\r\n",
      "ngrok-stable-linux- 100%[===================>]  13.19M  14.4MB/s    in 0.9s    \r\n",
      "\r\n",
      "2021-09-18 02:43:05 (14.4 MB/s) - ‘ngrok-stable-linux-amd64.zip’ saved [13832437/13832437]\r\n",
      "\r\n",
      "Archive:  ngrok-stable-linux-amd64.zip\r\n",
      "  inflating: ngrok                   \r\n",
      "yes: standard output: Broken pipe\r\n",
      "curl: /opt/conda/lib/libcurl.so.4: no version information available (required by curl)\r\n",
      "https://9cd4-35-233-203-44.ngrok.io\r\n"
     ]
    }
   ],
   "source": [
    "!wget https://bin.equinox.io/c/4VmDzA7iaHb/ngrok-stable-linux-amd64.zip \n",
    "! yes |unzip ngrok-stable-linux-amd64.zip\n",
    "\n",
    "# LOG_DIR = 'tb_folder/log/' \n",
    "get_ipython().system_raw(\n",
    "    'tensorboard --logdir {} --host 0.0.0.0 --port 6006 &'\n",
    "    .format(logdir)\n",
    ")\n",
    "get_ipython().system_raw('./ngrok http 6006 &')\n",
    "! curl -s http://localhost:4040/api/tunnels | python3 -c \\\n",
    "    \"import sys, json; print(json.load(sys.stdin)['tunnels'][0]['public_url'])\""
   ]
  },
  {
   "cell_type": "code",
   "execution_count": 31,
   "id": "0f88dd67",
   "metadata": {
    "execution": {
     "iopub.execute_input": "2021-09-18T02:45:20.437079Z",
     "iopub.status.busy": "2021-09-18T02:45:20.436586Z",
     "iopub.status.idle": "2021-09-18T02:45:21.172657Z",
     "shell.execute_reply": "2021-09-18T02:45:21.172223Z",
     "shell.execute_reply.started": "2021-09-17T20:56:29.509846Z"
    },
    "papermill": {
     "duration": 65.540576,
     "end_time": "2021-09-18T02:45:21.172787",
     "exception": false,
     "start_time": "2021-09-18T02:44:15.632211",
     "status": "completed"
    },
    "tags": []
   },
   "outputs": [
    {
     "name": "stdout",
     "output_type": "stream",
     "text": [
      "(2, 128, 128, 3)\n",
      "(2, 128, 128, 1)\n",
      "(128, 128, 1)\n"
     ]
    },
    {
     "data": {
      "text/plain": [
       "<matplotlib.image.AxesImage at 0x7f13491cb6d0>"
      ]
     },
     "execution_count": 31,
     "metadata": {},
     "output_type": "execute_result"
    },
    {
     "data": {
      "image/png": "[encoded data removed]",
      "text/plain": [
       "<Figure size 432x288 with 2 Axes>"
      ]
     },
     "metadata": {
      "needs_background": "light"
     },
     "output_type": "display_data"
    }
   ],
   "source": [
    "x, y = val_gen.__getitem__(1)\n",
    "print(x.shape)\n",
    "result = model.predict(x)\n",
    "print(result.shape)\n",
    "print(y[0].shape)\n",
    "\n",
    "result = result > 0.5\n",
    "\n",
    "fig = plt.figure()\n",
    "fig.subplots_adjust(hspace=0.4, wspace=0.4)\n",
    "\n",
    "ax = fig.add_subplot(1, 2, 1)\n",
    "ax.imshow(np.reshape(y[0]*255, (image_size, image_size)), cmap=\"gray\")\n",
    "\n",
    "ax = fig.add_subplot(1, 2, 2)\n",
    "ax.imshow(np.reshape(result[0]*255, (image_size, image_size)), cmap=\"gray\")"
   ]
  },
  {
   "cell_type": "code",
   "execution_count": null,
   "id": "4d5a900d",
   "metadata": {
    "papermill": {
     "duration": 65.427519,
     "end_time": "2021-09-18T02:47:31.893787",
     "exception": false,
     "start_time": "2021-09-18T02:46:26.466268",
     "status": "completed"
    },
    "tags": []
   },
   "outputs": [],
   "source": []
  },
  {
   "cell_type": "code",
   "execution_count": null,
   "id": "1e0fc384",
   "metadata": {
    "papermill": {
     "duration": 65.0652,
     "end_time": "2021-09-18T02:49:42.101149",
     "exception": false,
     "start_time": "2021-09-18T02:48:37.035949",
     "status": "completed"
    },
    "tags": []
   },
   "outputs": [],
   "source": []
  },
  {
   "cell_type": "code",
   "execution_count": null,
   "id": "d8eeb44e",
   "metadata": {
    "papermill": {
     "duration": 64.730173,
     "end_time": "2021-09-18T02:51:51.658356",
     "exception": false,
     "start_time": "2021-09-18T02:50:46.928183",
     "status": "completed"
    },
    "tags": []
   },
   "outputs": [],
   "source": []
  },
  {
   "cell_type": "code",
   "execution_count": null,
   "id": "775abaf4",
   "metadata": {
    "papermill": {
     "duration": 64.878532,
     "end_time": "2021-09-18T02:54:01.611859",
     "exception": false,
     "start_time": "2021-09-18T02:52:56.733327",
     "status": "completed"
    },
    "tags": []
   },
   "outputs": [],
   "source": []
  },
  {
   "cell_type": "code",
   "execution_count": null,
   "id": "5080cd80",
   "metadata": {
    "papermill": {
     "duration": 66.105626,
     "end_time": "2021-09-18T02:56:12.800974",
     "exception": false,
     "start_time": "2021-09-18T02:55:06.695348",
     "status": "completed"
    },
    "tags": []
   },
   "outputs": [],
   "source": []
  },
  {
   "cell_type": "code",
   "execution_count": null,
   "id": "61847956",
   "metadata": {
    "papermill": {
     "duration": 64.66147,
     "end_time": "2021-09-18T02:58:22.441718",
     "exception": false,
     "start_time": "2021-09-18T02:57:17.780248",
     "status": "completed"
    },
    "tags": []
   },
   "outputs": [],
   "source": []
  },
  {
   "cell_type": "code",
   "execution_count": null,
   "id": "4a7c6490",
   "metadata": {
    "papermill": {
     "duration": 64.792122,
     "end_time": "2021-09-18T03:00:31.861791",
     "exception": false,
     "start_time": "2021-09-18T02:59:27.069669",
     "status": "completed"
    },
    "tags": []
   },
   "outputs": [],
   "source": []
  }
 ],
 "metadata": {
  "kernelspec": {
   "display_name": "Python 3",
   "language": "python",
   "name": "python3"
  },
  "language_info": {
   "codemirror_mode": {
    "name": "ipython",
    "version": 3
   },
   "file_extension": ".py",
   "mimetype": "text/x-python",
   "name": "python",
   "nbconvert_exporter": "python",
   "pygments_lexer": "ipython3",
   "version": "3.7.10"
  },
  "papermill": {
   "default_parameters": {},
   "duration": 21656.70294,
   "end_time": "2021-09-18T03:01:39.967953",
   "environment_variables": {},
   "exception": null,
   "input_path": "__notebook__.ipynb",
   "output_path": "__notebook__.ipynb",
   "parameters": {},
   "start_time": "2021-09-17T21:00:43.265013",
   "version": "2.3.3"
  },
  "widgets": {
   "application/vnd.jupyter.widget-state+json": {
    "state": {
     "04bc6af2436949feb0af0e918c50121c": {
      "model_module": "@jupyter-widgets/controls",
      "model_module_version": "1.5.0",
      "model_name": "HTMLModel",
      "state": {
       "_dom_classes": [],
       "_model_module": "@jupyter-widgets/controls",
       "_model_module_version": "1.5.0",
       "_model_name": "HTMLModel",
       "_view_count": null,
       "_view_module": "@jupyter-widgets/controls",
       "_view_module_version": "1.5.0",
       "_view_name": "HTMLView",
       "description": "",
       "description_tooltip": null,
       "layout": "IPY_MODEL_7779bde789804091b0fc232d2225f1b5",
       "placeholder": "​",
       "style": "IPY_MODEL_84f42611f8a24c6fba48ba80f8d3d407",
       "value": " 5000/5000 [00:30&lt;00:00, 171.84it/s]"
      }
     },
     "06bf591f668c4b5f8604216c211654cd": {
      "model_module": "@jupyter-widgets/base",
      "model_module_version": "1.2.0",
      "model_name": "LayoutModel",
      "state": {
       "_model_module": "@jupyter-widgets/base",
       "_model_module_version": "1.2.0",
       "_model_name": "LayoutModel",
       "_view_count": null,
       "_view_module": "@jupyter-widgets/base",
       "_view_module_version": "1.2.0",
       "_view_name": "LayoutView",
       "align_content": null,
       "align_items": null,
       "align_self": null,
       "border": null,
       "bottom": null,
       "display": null,
       "flex": null,
       "flex_flow": null,
       "grid_area": null,
       "grid_auto_columns": null,
       "grid_auto_flow": null,
       "grid_auto_rows": null,
       "grid_column": null,
       "grid_gap": null,
       "grid_row": null,
       "grid_template_areas": null,
       "grid_template_columns": null,
       "grid_template_rows": null,
       "height": null,
       "justify_content": null,
       "justify_items": null,
       "left": null,
       "margin": null,
       "max_height": null,
       "max_width": null,
       "min_height": null,
       "min_width": null,
       "object_fit": null,
       "object_position": null,
       "order": null,
       "overflow": null,
       "overflow_x": null,
       "overflow_y": null,
       "padding": null,
       "right": null,
       "top": null,
       "visibility": null,
       "width": null
      }
     },
     "0d23ef0fadcf40ed909571a22952a5f1": {
      "model_module": "@jupyter-widgets/base",
      "model_module_version": "1.2.0",
      "model_name": "LayoutModel",
      "state": {
       "_model_module": "@jupyter-widgets/base",
       "_model_module_version": "1.2.0",
       "_model_name": "LayoutModel",
       "_view_count": null,
       "_view_module": "@jupyter-widgets/base",
       "_view_module_version": "1.2.0",
       "_view_name": "LayoutView",
       "align_content": null,
       "align_items": null,
       "align_self": null,
       "border": null,
       "bottom": null,
       "display": null,
       "flex": null,
       "flex_flow": null,
       "grid_area": null,
       "grid_auto_columns": null,
       "grid_auto_flow": null,
       "grid_auto_rows": null,
       "grid_column": null,
       "grid_gap": null,
       "grid_row": null,
       "grid_template_areas": null,
       "grid_template_columns": null,
       "grid_template_rows": null,
       "height": null,
       "justify_content": null,
       "justify_items": null,
       "left": null,
       "margin": null,
       "max_height": null,
       "max_width": null,
       "min_height": null,
       "min_width": null,
       "object_fit": null,
       "object_position": null,
       "order": null,
       "overflow": null,
       "overflow_x": null,
       "overflow_y": null,
       "padding": null,
       "right": null,
       "top": null,
       "visibility": null,
       "width": null
      }
     },
     "2e25645a094d47c5a82ff7fb1201f76d": {
      "model_module": "@jupyter-widgets/controls",
      "model_module_version": "1.5.0",
      "model_name": "FloatProgressModel",
      "state": {
       "_dom_classes": [],
       "_model_module": "@jupyter-widgets/controls",
       "_model_module_version": "1.5.0",
       "_model_name": "FloatProgressModel",
       "_view_count": null,
       "_view_module": "@jupyter-widgets/controls",
       "_view_module_version": "1.5.0",
       "_view_name": "ProgressView",
       "bar_style": "success",
       "description": "",
       "description_tooltip": null,
       "layout": "IPY_MODEL_8a87cc75bfb141a0a992caabfd523d95",
       "max": 60000.0,
       "min": 0.0,
       "orientation": "horizontal",
       "style": "IPY_MODEL_be50198af1a0404a9e5294c0218f7479",
       "value": 60000.0
      }
     },
     "40702d1f3d404bc7be27fcf08060c596": {
      "model_module": "@jupyter-widgets/controls",
      "model_module_version": "1.5.0",
      "model_name": "DescriptionStyleModel",
      "state": {
       "_model_module": "@jupyter-widgets/controls",
       "_model_module_version": "1.5.0",
       "_model_name": "DescriptionStyleModel",
       "_view_count": null,
       "_view_module": "@jupyter-widgets/base",
       "_view_module_version": "1.2.0",
       "_view_name": "StyleView",
       "description_width": ""
      }
     },
     "4c10f11031ee4009b6d392efe08423e3": {
      "model_module": "@jupyter-widgets/controls",
      "model_module_version": "1.5.0",
      "model_name": "HTMLModel",
      "state": {
       "_dom_classes": [],
       "_model_module": "@jupyter-widgets/controls",
       "_model_module_version": "1.5.0",
       "_model_name": "HTMLModel",
       "_view_count": null,
       "_view_module": "@jupyter-widgets/controls",
       "_view_module_version": "1.5.0",
       "_view_name": "HTMLView",
       "description": "",
       "description_tooltip": null,
       "layout": "IPY_MODEL_06bf591f668c4b5f8604216c211654cd",
       "placeholder": "​",
       "style": "IPY_MODEL_b32e7bc3c62b4fc39ebfb314eafa1c97",
       "value": "100%"
      }
     },
     "5ab1f951d0104905ae155a4303cfef53": {
      "model_module": "@jupyter-widgets/controls",
      "model_module_version": "1.5.0",
      "model_name": "HBoxModel",
      "state": {
       "_dom_classes": [],
       "_model_module": "@jupyter-widgets/controls",
       "_model_module_version": "1.5.0",
       "_model_name": "HBoxModel",
       "_view_count": null,
       "_view_module": "@jupyter-widgets/controls",
       "_view_module_version": "1.5.0",
       "_view_name": "HBoxView",
       "box_style": "",
       "children": [
        "IPY_MODEL_b4b8a5b3d70c467ba8d9d1a98f06a823",
        "IPY_MODEL_c025c177d3a74cf4ace055c70f8991b7",
        "IPY_MODEL_04bc6af2436949feb0af0e918c50121c"
       ],
       "layout": "IPY_MODEL_96f38a89a97a4e17a056f94685d0dd1d"
      }
     },
     "66a21b0506f84dfd9c80768941ded61d": {
      "model_module": "@jupyter-widgets/base",
      "model_module_version": "1.2.0",
      "model_name": "LayoutModel",
      "state": {
       "_model_module": "@jupyter-widgets/base",
       "_model_module_version": "1.2.0",
       "_model_name": "LayoutModel",
       "_view_count": null,
       "_view_module": "@jupyter-widgets/base",
       "_view_module_version": "1.2.0",
       "_view_name": "LayoutView",
       "align_content": null,
       "align_items": null,
       "align_self": null,
       "border": null,
       "bottom": null,
       "display": null,
       "flex": null,
       "flex_flow": null,
       "grid_area": null,
       "grid_auto_columns": null,
       "grid_auto_flow": null,
       "grid_auto_rows": null,
       "grid_column": null,
       "grid_gap": null,
       "grid_row": null,
       "grid_template_areas": null,
       "grid_template_columns": null,
       "grid_template_rows": null,
       "height": null,
       "justify_content": null,
       "justify_items": null,
       "left": null,
       "margin": null,
       "max_height": null,
       "max_width": null,
       "min_height": null,
       "min_width": null,
       "object_fit": null,
       "object_position": null,
       "order": null,
       "overflow": null,
       "overflow_x": null,
       "overflow_y": null,
       "padding": null,
       "right": null,
       "top": null,
       "visibility": null,
       "width": null
      }
     },
     "7779bde789804091b0fc232d2225f1b5": {
      "model_module": "@jupyter-widgets/base",
      "model_module_version": "1.2.0",
      "model_name": "LayoutModel",
      "state": {
       "_model_module": "@jupyter-widgets/base",
       "_model_module_version": "1.2.0",
       "_model_name": "LayoutModel",
       "_view_count": null,
       "_view_module": "@jupyter-widgets/base",
       "_view_module_version": "1.2.0",
       "_view_name": "LayoutView",
       "align_content": null,
       "align_items": null,
       "align_self": null,
       "border": null,
       "bottom": null,
       "display": null,
       "flex": null,
       "flex_flow": null,
       "grid_area": null,
       "grid_auto_columns": null,
       "grid_auto_flow": null,
       "grid_auto_rows": null,
       "grid_column": null,
       "grid_gap": null,
       "grid_row": null,
       "grid_template_areas": null,
       "grid_template_columns": null,
       "grid_template_rows": null,
       "height": null,
       "justify_content": null,
       "justify_items": null,
       "left": null,
       "margin": null,
       "max_height": null,
       "max_width": null,
       "min_height": null,
       "min_width": null,
       "object_fit": null,
       "object_position": null,
       "order": null,
       "overflow": null,
       "overflow_x": null,
       "overflow_y": null,
       "padding": null,
       "right": null,
       "top": null,
       "visibility": null,
       "width": null
      }
     },
     "80aa33e488db4b259738fbb2a1247487": {
      "model_module": "@jupyter-widgets/controls",
      "model_module_version": "1.5.0",
      "model_name": "ProgressStyleModel",
      "state": {
       "_model_module": "@jupyter-widgets/controls",
       "_model_module_version": "1.5.0",
       "_model_name": "ProgressStyleModel",
       "_view_count": null,
       "_view_module": "@jupyter-widgets/base",
       "_view_module_version": "1.2.0",
       "_view_name": "StyleView",
       "bar_color": null,
       "description_width": ""
      }
     },
     "84f42611f8a24c6fba48ba80f8d3d407": {
      "model_module": "@jupyter-widgets/controls",
      "model_module_version": "1.5.0",
      "model_name": "DescriptionStyleModel",
      "state": {
       "_model_module": "@jupyter-widgets/controls",
       "_model_module_version": "1.5.0",
       "_model_name": "DescriptionStyleModel",
       "_view_count": null,
       "_view_module": "@jupyter-widgets/base",
       "_view_module_version": "1.2.0",
       "_view_name": "StyleView",
       "description_width": ""
      }
     },
     "8a87cc75bfb141a0a992caabfd523d95": {
      "model_module": "@jupyter-widgets/base",
      "model_module_version": "1.2.0",
      "model_name": "LayoutModel",
      "state": {
       "_model_module": "@jupyter-widgets/base",
       "_model_module_version": "1.2.0",
       "_model_name": "LayoutModel",
       "_view_count": null,
       "_view_module": "@jupyter-widgets/base",
       "_view_module_version": "1.2.0",
       "_view_name": "LayoutView",
       "align_content": null,
       "align_items": null,
       "align_self": null,
       "border": null,
       "bottom": null,
       "display": null,
       "flex": null,
       "flex_flow": null,
       "grid_area": null,
       "grid_auto_columns": null,
       "grid_auto_flow": null,
       "grid_auto_rows": null,
       "grid_column": null,
       "grid_gap": null,
       "grid_row": null,
       "grid_template_areas": null,
       "grid_template_columns": null,
       "grid_template_rows": null,
       "height": null,
       "justify_content": null,
       "justify_items": null,
       "left": null,
       "margin": null,
       "max_height": null,
       "max_width": null,
       "min_height": null,
       "min_width": null,
       "object_fit": null,
       "object_position": null,
       "order": null,
       "overflow": null,
       "overflow_x": null,
       "overflow_y": null,
       "padding": null,
       "right": null,
       "top": null,
       "visibility": null,
       "width": null
      }
     },
     "96f38a89a97a4e17a056f94685d0dd1d": {
      "model_module": "@jupyter-widgets/base",
      "model_module_version": "1.2.0",
      "model_name": "LayoutModel",
      "state": {
       "_model_module": "@jupyter-widgets/base",
       "_model_module_version": "1.2.0",
       "_model_name": "LayoutModel",
       "_view_count": null,
       "_view_module": "@jupyter-widgets/base",
       "_view_module_version": "1.2.0",
       "_view_name": "LayoutView",
       "align_content": null,
       "align_items": null,
       "align_self": null,
       "border": null,
       "bottom": null,
       "display": null,
       "flex": null,
       "flex_flow": null,
       "grid_area": null,
       "grid_auto_columns": null,
       "grid_auto_flow": null,
       "grid_auto_rows": null,
       "grid_column": null,
       "grid_gap": null,
       "grid_row": null,
       "grid_template_areas": null,
       "grid_template_columns": null,
       "grid_template_rows": null,
       "height": null,
       "justify_content": null,
       "justify_items": null,
       "left": null,
       "margin": null,
       "max_height": null,
       "max_width": null,
       "min_height": null,
       "min_width": null,
       "object_fit": null,
       "object_position": null,
       "order": null,
       "overflow": null,
       "overflow_x": null,
       "overflow_y": null,
       "padding": null,
       "right": null,
       "top": null,
       "visibility": null,
       "width": null
      }
     },
     "b32e7bc3c62b4fc39ebfb314eafa1c97": {
      "model_module": "@jupyter-widgets/controls",
      "model_module_version": "1.5.0",
      "model_name": "DescriptionStyleModel",
      "state": {
       "_model_module": "@jupyter-widgets/controls",
       "_model_module_version": "1.5.0",
       "_model_name": "DescriptionStyleModel",
       "_view_count": null,
       "_view_module": "@jupyter-widgets/base",
       "_view_module_version": "1.2.0",
       "_view_name": "StyleView",
       "description_width": ""
      }
     },
     "b4b8a5b3d70c467ba8d9d1a98f06a823": {
      "model_module": "@jupyter-widgets/controls",
      "model_module_version": "1.5.0",
      "model_name": "HTMLModel",
      "state": {
       "_dom_classes": [],
       "_model_module": "@jupyter-widgets/controls",
       "_model_module_version": "1.5.0",
       "_model_name": "HTMLModel",
       "_view_count": null,
       "_view_module": "@jupyter-widgets/controls",
       "_view_module_version": "1.5.0",
       "_view_name": "HTMLView",
       "description": "",
       "description_tooltip": null,
       "layout": "IPY_MODEL_c1c0795b15e948a7a1e0264b74728f9e",
       "placeholder": "​",
       "style": "IPY_MODEL_40702d1f3d404bc7be27fcf08060c596",
       "value": "100%"
      }
     },
     "be50198af1a0404a9e5294c0218f7479": {
      "model_module": "@jupyter-widgets/controls",
      "model_module_version": "1.5.0",
      "model_name": "ProgressStyleModel",
      "state": {
       "_model_module": "@jupyter-widgets/controls",
       "_model_module_version": "1.5.0",
       "_model_name": "ProgressStyleModel",
       "_view_count": null,
       "_view_module": "@jupyter-widgets/base",
       "_view_module_version": "1.2.0",
       "_view_name": "StyleView",
       "bar_color": null,
       "description_width": ""
      }
     },
     "c025c177d3a74cf4ace055c70f8991b7": {
      "model_module": "@jupyter-widgets/controls",
      "model_module_version": "1.5.0",
      "model_name": "FloatProgressModel",
      "state": {
       "_dom_classes": [],
       "_model_module": "@jupyter-widgets/controls",
       "_model_module_version": "1.5.0",
       "_model_name": "FloatProgressModel",
       "_view_count": null,
       "_view_module": "@jupyter-widgets/controls",
       "_view_module_version": "1.5.0",
       "_view_name": "ProgressView",
       "bar_style": "success",
       "description": "",
       "description_tooltip": null,
       "layout": "IPY_MODEL_66a21b0506f84dfd9c80768941ded61d",
       "max": 5000.0,
       "min": 0.0,
       "orientation": "horizontal",
       "style": "IPY_MODEL_80aa33e488db4b259738fbb2a1247487",
       "value": 5000.0
      }
     },
     "c1c0795b15e948a7a1e0264b74728f9e": {
      "model_module": "@jupyter-widgets/base",
      "model_module_version": "1.2.0",
      "model_name": "LayoutModel",
      "state": {
       "_model_module": "@jupyter-widgets/base",
       "_model_module_version": "1.2.0",
       "_model_name": "LayoutModel",
       "_view_count": null,
       "_view_module": "@jupyter-widgets/base",
       "_view_module_version": "1.2.0",
       "_view_name": "LayoutView",
       "align_content": null,
       "align_items": null,
       "align_self": null,
       "border": null,
       "bottom": null,
       "display": null,
       "flex": null,
       "flex_flow": null,
       "grid_area": null,
       "grid_auto_columns": null,
       "grid_auto_flow": null,
       "grid_auto_rows": null,
       "grid_column": null,
       "grid_gap": null,
       "grid_row": null,
       "grid_template_areas": null,
       "grid_template_columns": null,
       "grid_template_rows": null,
       "height": null,
       "justify_content": null,
       "justify_items": null,
       "left": null,
       "margin": null,
       "max_height": null,
       "max_width": null,
       "min_height": null,
       "min_width": null,
       "object_fit": null,
       "object_position": null,
       "order": null,
       "overflow": null,
       "overflow_x": null,
       "overflow_y": null,
       "padding": null,
       "right": null,
       "top": null,
       "visibility": null,
       "width": null
      }
     },
     "c6dc49a86bd943c6bf6bf008a24c962c": {
      "model_module": "@jupyter-widgets/controls",
      "model_module_version": "1.5.0",
      "model_name": "DescriptionStyleModel",
      "state": {
       "_model_module": "@jupyter-widgets/controls",
       "_model_module_version": "1.5.0",
       "_model_name": "DescriptionStyleModel",
       "_view_count": null,
       "_view_module": "@jupyter-widgets/base",
       "_view_module_version": "1.2.0",
       "_view_name": "StyleView",
       "description_width": ""
      }
     },
     "d3f3a9e9b6de427ea1bda0602ca0d04e": {
      "model_module": "@jupyter-widgets/controls",
      "model_module_version": "1.5.0",
      "model_name": "HBoxModel",
      "state": {
       "_dom_classes": [],
       "_model_module": "@jupyter-widgets/controls",
       "_model_module_version": "1.5.0",
       "_model_name": "HBoxModel",
       "_view_count": null,
       "_view_module": "@jupyter-widgets/controls",
       "_view_module_version": "1.5.0",
       "_view_name": "HBoxView",
       "box_style": "",
       "children": [
        "IPY_MODEL_4c10f11031ee4009b6d392efe08423e3",
        "IPY_MODEL_2e25645a094d47c5a82ff7fb1201f76d",
        "IPY_MODEL_e0bab3a6b8a54e2b811e5be447c33aed"
       ],
       "layout": "IPY_MODEL_f6e9b18e52f14365acb4cba82b95b242"
      }
     },
     "e0bab3a6b8a54e2b811e5be447c33aed": {
      "model_module": "@jupyter-widgets/controls",
      "model_module_version": "1.5.0",
      "model_name": "HTMLModel",
      "state": {
       "_dom_classes": [],
       "_model_module": "@jupyter-widgets/controls",
       "_model_module_version": "1.5.0",
       "_model_name": "HTMLModel",
       "_view_count": null,
       "_view_module": "@jupyter-widgets/controls",
       "_view_module_version": "1.5.0",
       "_view_name": "HTMLView",
       "description": "",
       "description_tooltip": null,
       "layout": "IPY_MODEL_0d23ef0fadcf40ed909571a22952a5f1",
       "placeholder": "​",
       "style": "IPY_MODEL_c6dc49a86bd943c6bf6bf008a24c962c",
       "value": " 60000/60000 [06:09&lt;00:00, 106.90it/s]"
      }
     },
     "f6e9b18e52f14365acb4cba82b95b242": {
      "model_module": "@jupyter-widgets/base",
      "model_module_version": "1.2.0",
      "model_name": "LayoutModel",
      "state": {
       "_model_module": "@jupyter-widgets/base",
       "_model_module_version": "1.2.0",
       "_model_name": "LayoutModel",
       "_view_count": null,
       "_view_module": "@jupyter-widgets/base",
       "_view_module_version": "1.2.0",
       "_view_name": "LayoutView",
       "align_content": null,
       "align_items": null,
       "align_self": null,
       "border": null,
       "bottom": null,
       "display": null,
       "flex": null,
       "flex_flow": null,
       "grid_area": null,
       "grid_auto_columns": null,
       "grid_auto_flow": null,
       "grid_auto_rows": null,
       "grid_column": null,
       "grid_gap": null,
       "grid_row": null,
       "grid_template_areas": null,
       "grid_template_columns": null,
       "grid_template_rows": null,
       "height": null,
       "justify_content": null,
       "justify_items": null,
       "left": null,
       "margin": null,
       "max_height": null,
       "max_width": null,
       "min_height": null,
       "min_width": null,
       "object_fit": null,
       "object_position": null,
       "order": null,
       "overflow": null,
       "overflow_x": null,
       "overflow_y": null,
       "padding": null,
       "right": null,
       "top": null,
       "visibility": null,
       "width": null
      }
     }
    },
    "version_major": 2,
    "version_minor": 0
   }
  }
 },
 "nbformat": 4,
 "nbformat_minor": 5
}
