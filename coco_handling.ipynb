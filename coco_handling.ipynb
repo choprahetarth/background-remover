{
  "nbformat": 4,
  "nbformat_minor": 0,
  "metadata": {
    "colab": {
      "name": "coco-handling.ipynb",
      "provenance": [],
      "collapsed_sections": [
        "Y0e0LDpp93Dm",
        "TZy0UIo7AAgV",
        "aBJy28EA98Qt"
      ],
      "mount_file_id": "17Vo3ZnNNW2gxpzGpEmKhDl6Fft9T7Xst",
      "authorship_tag": "ABX9TyOrRbve72AAufboJUblj0AA",
      "include_colab_link": true
    },
    "kernelspec": {
      "name": "python3",
      "display_name": "Python 3"
    },
    "language_info": {
      "name": "python"
    }
  },
  "cells": [
    {
      "cell_type": "markdown",
      "metadata": {
        "id": "view-in-github",
        "colab_type": "text"
      },
      "source": [
        "<a href=\"https://colab.research.google.com/github/choprahetarth/background-remover/blob/main/coco_handling.ipynb\" target=\"_parent\"><img src=\"https://colab.research.google.com/assets/colab-badge.svg\" alt=\"Open In Colab\"/></a>"
      ]
    },
    {
      "cell_type": "markdown",
      "metadata": {
        "id": "Y0e0LDpp93Dm"
      },
      "source": [
        "# Download and move dataset (do not run)"
      ]
    },
    {
      "cell_type": "code",
      "metadata": {
        "colab": {
          "base_uri": "https://localhost:8080/"
        },
        "id": "H_IAGzGnOl1i",
        "outputId": "a28fdc1b-c54b-45cf-b81c-bafb8e6d04d2"
      },
      "source": [
        "# !sudo apt install pv"
      ],
      "execution_count": null,
      "outputs": [
        {
          "output_type": "stream",
          "name": "stdout",
          "text": [
            "Reading package lists... Done\n",
            "Building dependency tree       \n",
            "Reading state information... Done\n",
            "pv is already the newest version (1.6.6-1).\n",
            "0 upgraded, 0 newly installed, 0 to remove and 40 not upgraded.\n"
          ]
        }
      ]
    },
    {
      "cell_type": "code",
      "metadata": {
        "colab": {
          "base_uri": "https://localhost:8080/"
        },
        "id": "VI0uZhLfKN4D",
        "outputId": "cc94e254-d9b8-4629-958d-07916c85464a"
      },
      "source": [
        "# !wget -c http://images.cocodataset.org/zips/train2014.zip"
      ],
      "execution_count": null,
      "outputs": [
        {
          "output_type": "stream",
          "name": "stdout",
          "text": [
            "--2021-09-14 11:24:02--  http://images.cocodataset.org/zips/train2014.zip\n",
            "Resolving images.cocodataset.org (images.cocodataset.org)... 52.217.104.108\n",
            "Connecting to images.cocodataset.org (images.cocodataset.org)|52.217.104.108|:80... connected.\n",
            "HTTP request sent, awaiting response... 200 OK\n",
            "Length: 13510573713 (13G) [application/zip]\n",
            "Saving to: ‘train2014.zip’\n",
            "\n",
            "train2014.zip       100%[===================>]  12.58G  43.9MB/s    in 5m 9s   \n",
            "\n",
            "2021-09-14 11:29:11 (41.7 MB/s) - ‘train2014.zip’ saved [13510573713/13510573713]\n",
            "\n"
          ]
        }
      ]
    },
    {
      "cell_type": "code",
      "metadata": {
        "id": "BsrcmO7aa9D7"
      },
      "source": [
        "# !unzip \"train2014.zip\" -d \"/content/drive/MyDrive/Colab Notebooks/Background-Removal\""
      ],
      "execution_count": null,
      "outputs": []
    },
    {
      "cell_type": "code",
      "metadata": {
        "id": "0d7MUH4u1Ipi"
      },
      "source": [
        "#!mv \"train2014\" \"/content/drive/MyDrive/Colab Notebooks/Background-Removal\""
      ],
      "execution_count": null,
      "outputs": []
    },
    {
      "cell_type": "code",
      "metadata": {
        "colab": {
          "base_uri": "https://localhost:8080/"
        },
        "id": "V5nFeW5xKW_5",
        "outputId": "6f5c1062-f084-42f2-81ff-ec020e3531f0"
      },
      "source": [
        "#!wget -c http://images.cocodataset.org/zips/val2014.zip"
      ],
      "execution_count": null,
      "outputs": [
        {
          "output_type": "stream",
          "name": "stdout",
          "text": [
            "--2021-09-14 10:04:06--  http://images.cocodataset.org/zips/val2014.zip\n",
            "Resolving images.cocodataset.org (images.cocodataset.org)... 52.217.45.60\n",
            "Connecting to images.cocodataset.org (images.cocodataset.org)|52.217.45.60|:80... connected.\n",
            "HTTP request sent, awaiting response... 200 OK\n",
            "Length: 6645013297 (6.2G) [application/zip]\n",
            "Saving to: ‘val2014.zip’\n",
            "\n",
            "val2014.zip         100%[===================>]   6.19G  46.0MB/s    in 2m 50s  \n",
            "\n",
            "2021-09-14 10:06:56 (37.3 MB/s) - ‘val2014.zip’ saved [6645013297/6645013297]\n",
            "\n"
          ]
        }
      ]
    },
    {
      "cell_type": "code",
      "metadata": {
        "id": "MDmT7fN7shX1"
      },
      "source": [
        "# !unzip -q val2014.zip"
      ],
      "execution_count": null,
      "outputs": []
    },
    {
      "cell_type": "code",
      "metadata": {
        "id": "fFvqP9pXyk03"
      },
      "source": [
        "# !mv \"val2014\" \"/content/drive/MyDrive/Colab Notebooks/Background-Removal\""
      ],
      "execution_count": null,
      "outputs": []
    },
    {
      "cell_type": "code",
      "metadata": {
        "colab": {
          "base_uri": "https://localhost:8080/"
        },
        "id": "XwvBGTpTOZSl",
        "outputId": "ebfbc2c6-2564-47a5-b2f0-cd3b4f42b483"
      },
      "source": [
        "# !wget -c http://images.cocodataset.org/annotations/annotations_trainval2014.zip"
      ],
      "execution_count": null,
      "outputs": [
        {
          "output_type": "stream",
          "name": "stdout",
          "text": [
            "--2021-09-14 09:56:46--  http://images.cocodataset.org/annotations/annotations_trainval2014.zip\n",
            "Resolving images.cocodataset.org (images.cocodataset.org)... 52.217.10.116\n",
            "Connecting to images.cocodataset.org (images.cocodataset.org)|52.217.10.116|:80... connected.\n",
            "HTTP request sent, awaiting response... 200 OK\n",
            "Length: 252872794 (241M) [application/zip]\n",
            "Saving to: ‘annotations_trainval2014.zip’\n",
            "\n",
            "annotations_trainva 100%[===================>] 241.16M  39.4MB/s    in 6.9s    \n",
            "\n",
            "2021-09-14 09:56:54 (34.8 MB/s) - ‘annotations_trainval2014.zip’ saved [252872794/252872794]\n",
            "\n"
          ]
        }
      ]
    },
    {
      "cell_type": "code",
      "metadata": {
        "id": "SzTjoZDCnQMn"
      },
      "source": [
        "# !unzip -q annotations_trainval2014.zip"
      ],
      "execution_count": null,
      "outputs": []
    },
    {
      "cell_type": "code",
      "metadata": {
        "id": "BzYWeUbbwQid"
      },
      "source": [
        "#os.chdir('/content')"
      ],
      "execution_count": null,
      "outputs": []
    },
    {
      "cell_type": "code",
      "metadata": {
        "id": "dflkQXpDvToF"
      },
      "source": [
        "#!mv \"annotations\" \"/content/drive/MyDrive/Colab Notebooks/Background-Removal\""
      ],
      "execution_count": null,
      "outputs": []
    },
    {
      "cell_type": "markdown",
      "metadata": {
        "id": "TZy0UIo7AAgV"
      },
      "source": [
        "# Load liBS"
      ]
    },
    {
      "cell_type": "code",
      "metadata": {
        "colab": {
          "base_uri": "https://localhost:8080/"
        },
        "id": "bWt9vmX_aQ7p",
        "outputId": "22dd7a72-676c-4964-fc6d-8e3e53b27e91"
      },
      "source": [
        "!pip install cython\n",
        "# Install pycocotools from this GitHub rep\n",
        "!pip install git+\"https://github.com/philferriere/cocoapi.git#subdirectory=PythonAPI\""
      ],
      "execution_count": 2,
      "outputs": [
        {
          "output_type": "stream",
          "name": "stdout",
          "text": [
            "Requirement already satisfied: cython in /usr/local/lib/python3.7/dist-packages (0.29.24)\n",
            "Collecting git+https://github.com/philferriere/cocoapi.git#subdirectory=PythonAPI\n",
            "  Cloning https://github.com/philferriere/cocoapi.git to /tmp/pip-req-build-0etmampt\n",
            "  Running command git clone -q https://github.com/philferriere/cocoapi.git /tmp/pip-req-build-0etmampt\n"
          ]
        }
      ]
    },
    {
      "cell_type": "code",
      "metadata": {
        "id": "8-WfuWhM_2qO"
      },
      "source": [
        "# Import all the libraries\n",
        "import numpy as np\n",
        "import cv2\n",
        "import requests\n",
        "import os\n",
        "import imutils\n",
        "from PIL import Image\n",
        "from google.colab.patches import cv2_imshow\n",
        "from tqdm.notebook import tqdm\n",
        "########3\n",
        "from pycocotools import coco, cocoeval, _mask\n",
        "from pycocotools import mask as maskUtils\n",
        "from pycocotools.coco import COCO\n",
        "import skimage.io as io\n",
        "import random\n",
        "from tensorflow.keras.preprocessing.image import ImageDataGenerator\n",
        "\n",
        "### For visualizing the outputs ###\n",
        "import matplotlib.pyplot as plt\n",
        "import matplotlib.gridspec as gridspec\n",
        "%matplotlib inline\n",
        "\n",
        "from PIL import Image "
      ],
      "execution_count": 3,
      "outputs": []
    },
    {
      "cell_type": "markdown",
      "metadata": {
        "id": "aBJy28EA98Qt"
      },
      "source": [
        "# Process the datset"
      ]
    },
    {
      "cell_type": "code",
      "metadata": {
        "id": "_ha0UxzzAhGv"
      },
      "source": [
        "#os.chdir('/content/drive/MyDrive/Colab Notebooks/Background-Removal/')"
      ],
      "execution_count": 3,
      "outputs": []
    },
    {
      "cell_type": "code",
      "metadata": {
        "id": "3mZBS_tUKaZz"
      },
      "source": [
        "#os.chdir('val2014')"
      ],
      "execution_count": null,
      "outputs": []
    },
    {
      "cell_type": "code",
      "metadata": {
        "id": "tDsIfeQwNqJb"
      },
      "source": [
        "#cv2_imshow(cv2.imread(os.listdir()[2]))"
      ],
      "execution_count": null,
      "outputs": []
    },
    {
      "cell_type": "code",
      "metadata": {
        "colab": {
          "base_uri": "https://localhost:8080/",
          "height": 71
        },
        "id": "6tZHkAX-KkhC",
        "outputId": "5b978505-efce-423b-e4aa-993e623f263d"
      },
      "source": [
        "# dataDir='/content/drive/MyDrive/Colab Notebooks/Background-Removal/CocoDataset2014'\n",
        "'''\n",
        "dataType='val'\n",
        "annFile='{}/annotations/instances_{}2014.json'.format(dataDir,dataType)\n",
        "\n",
        "# Initialize the COCO api for instance annotations\n",
        "coco=coco.COCO(annFile)\n",
        "\n",
        "# Load the categories in a variable\n",
        "catIDs = coco.getCatIds()\n",
        "categories = coco.loadCats(catIDs)\n",
        "\n",
        "print(categories)'''"
      ],
      "execution_count": null,
      "outputs": [
        {
          "output_type": "execute_result",
          "data": {
            "application/vnd.google.colaboratory.intrinsic+json": {
              "type": "string"
            },
            "text/plain": [
              "\"\\ndataType='val'\\nannFile='{}/annotations/instances_{}2014.json'.format(dataDir,dataType)\\n\\n# Initialize the COCO api for instance annotations\\ncoco=coco.COCO(annFile)\\n\\n# Load the categories in a variable\\ncatIDs = coco.getCatIds()\\ncategories = coco.loadCats(catIDs)\\n\\nprint(categories)\""
            ]
          },
          "metadata": {},
          "execution_count": 9
        }
      ]
    },
    {
      "cell_type": "code",
      "metadata": {
        "colab": {
          "base_uri": "https://localhost:8080/",
          "height": 53
        },
        "id": "qURv0XPCOJTQ",
        "outputId": "1383c39d-a5e0-40b6-ce14-b1982f18426f"
      },
      "source": [
        "'''def getClassName(classID, cats):\n",
        "    for i in range(len(cats)):\n",
        "        if cats[i]['id']==classID:\n",
        "            return cats[i]['name']\n",
        "    return \"None\"\n",
        "\n",
        "print('The class name is', getClassName(4, categories))'''"
      ],
      "execution_count": null,
      "outputs": [
        {
          "output_type": "execute_result",
          "data": {
            "application/vnd.google.colaboratory.intrinsic+json": {
              "type": "string"
            },
            "text/plain": [
              "'def getClassName(classID, cats):\\n    for i in range(len(cats)):\\n        if cats[i][\\'id\\']==classID:\\n            return cats[i][\\'name\\']\\n    return \"None\"\\n\\nprint(\\'The class name is\\', getClassName(4, categories))'"
            ]
          },
          "metadata": {},
          "execution_count": 10
        }
      ]
    },
    {
      "cell_type": "code",
      "metadata": {
        "id": "WUZPXA2JPgWv"
      },
      "source": [
        "#CATEGORY_NAMES=['person','bicycle','car','motorcycle','airplane','bus','train','truck','boat','traffic light','fire hydrant','stop sign','parking meter','bench','bird','cat','dog','horse','sheep','cow','elephant','bear','zebra','giraffe','backpack','umbrella','handbag','tie','suitcase','frisbee','skis','snowboard','sports ball','kite','baseball bat','baseball glove','skateboard','surfboard','tennis racket','bottle','wine glass','cup','fork','knife','spoon','bowl','banana','apple','sandwich','orange','broccoli','carrot','hot dog','pizza','donut','cake','chair','couch','potted plant','bed','dining table','toilet','tv','laptop','mouse','remote','keyboard','cell phone','microwave','oven','toaster','sink','refrigerator','book','clock','vase','scissors','teddy bear','hair drier','toothbrush']\n",
        "#CATEGORY_NAMES = ['person']\n",
        "ANNOTATION_FILE_VAL = (dataDir+'/annotations/instances_val2014.json')\n",
        "ANNOTATION_FILE_TRAIN = (dataDir+'/annotations/instances_train2014.json')"
      ],
      "execution_count": null,
      "outputs": []
    },
    {
      "cell_type": "code",
      "metadata": {
        "colab": {
          "base_uri": "https://localhost:8080/"
        },
        "id": "LP_KiCBDRzQk",
        "outputId": "79e34923-15dd-4b34-b23d-3a33b4deffd3"
      },
      "source": [
        "coco_train = COCO(ANNOTATION_FILE_TRAIN)\n",
        "catIds_train = coco_train.getCatIds()\n",
        "imgIds_train = coco_train.getImgIds()\n",
        "imgDict_train = coco_train.loadImgs()\n",
        "print(len(imgIds_train) , len(catIds_train))"
      ],
      "execution_count": null,
      "outputs": [
        {
          "output_type": "stream",
          "name": "stdout",
          "text": [
            "loading annotations into memory...\n",
            "Done (t=19.21s)\n",
            "creating index...\n",
            "index created!\n",
            "82783 80\n"
          ]
        }
      ]
    },
    {
      "cell_type": "code",
      "metadata": {
        "colab": {
          "base_uri": "https://localhost:8080/"
        },
        "id": "KVDsG1OyQQhw",
        "outputId": "ce05f6ce-3301-4351-a39c-629c057bc79c"
      },
      "source": [
        "coco_val = COCO(ANNOTATION_FILE_VAL)\n",
        "catIds_val = coco_val.getCatIds()\n",
        "imgIds_val = coco_val.getImgIds()\n",
        "imgDict_val = coco_val.loadImgs()\n",
        "print(len(imgIds_val) , len(catIds_val))"
      ],
      "execution_count": null,
      "outputs": [
        {
          "output_type": "stream",
          "name": "stdout",
          "text": [
            "loading annotations into memory...\n",
            "Done (t=10.18s)\n",
            "creating index...\n",
            "index created!\n",
            "40504 80\n"
          ]
        }
      ]
    },
    {
      "cell_type": "code",
      "metadata": {
        "id": "yddgbJC9SAMQ"
      },
      "source": [
        "'''from random import shuffle\n",
        "\n",
        "shuffle(imgIds_train)\n",
        "shuffle(imgIds_val)\n",
        "\n",
        "#take less samples\n",
        "imgIds_train = imgIds_train[0:50000]\n",
        "#imgIds_train = imgIds_train[:]\n",
        "#imgIds_val = imgIds_val[:]\n",
        "\n",
        "imgIds_val = imgIds_val[0:20000]'''"
      ],
      "execution_count": null,
      "outputs": []
    },
    {
      "cell_type": "code",
      "metadata": {
        "colab": {
          "base_uri": "https://localhost:8080/"
        },
        "id": "QvSUMa6FXEvB",
        "outputId": "8081ae7b-2470-4a0b-bfed-b5363760dcef"
      },
      "source": [
        "train_images = [\"COCO_train2014_{0:012d}.jpg\".format(ids) for ids in imgIds_train]\n",
        "val_images = [\"COCO_val2014_{0:012d}.jpg\".format(ids) for ids in imgIds_val]\n",
        "print(len(train_images) , len(val_images))"
      ],
      "execution_count": null,
      "outputs": [
        {
          "output_type": "stream",
          "name": "stdout",
          "text": [
            "50000 20000\n"
          ]
        }
      ]
    },
    {
      "cell_type": "code",
      "metadata": {
        "colab": {
          "base_uri": "https://localhost:8080/",
          "height": 53
        },
        "id": "nArbxB1JXT2Z",
        "outputId": "39706cce-4242-44ec-d956-360849057b88"
      },
      "source": [
        "'''del_img_train = set(os.listdir(\"/content/train2014\")) - set(train_images_person)\n",
        "for file_name in del_img_train:\n",
        "  file_name = \"/content/train2014/\" + file_name\n",
        "  if os.path.exists(file_name):\n",
        "    os.remove(file_name)'''"
      ],
      "execution_count": null,
      "outputs": [
        {
          "output_type": "execute_result",
          "data": {
            "application/vnd.google.colaboratory.intrinsic+json": {
              "type": "string"
            },
            "text/plain": [
              "'del_img_train = set(os.listdir(\"/content/train2014\")) - set(train_images_person)\\nfor file_name in del_img_train:\\n  file_name = \"/content/train2014/\" + file_name\\n  if os.path.exists(file_name):\\n    os.remove(file_name)'"
            ]
          },
          "metadata": {},
          "execution_count": 16
        }
      ]
    },
    {
      "cell_type": "code",
      "metadata": {
        "id": "rqCThVI0a0Ji"
      },
      "source": [
        "#os.chdir('CocoDataset2014')"
      ],
      "execution_count": null,
      "outputs": []
    },
    {
      "cell_type": "code",
      "metadata": {
        "id": "q0zLDNFEXqYg"
      },
      "source": [
        "#!mkdir mask_train"
      ],
      "execution_count": null,
      "outputs": []
    },
    {
      "cell_type": "code",
      "metadata": {
        "id": "-RoYAjClayzh"
      },
      "source": [
        "#os.chdir('/content/drive/MyDrive/Colab Notebooks/Background-Removal/')"
      ],
      "execution_count": null,
      "outputs": []
    },
    {
      "cell_type": "code",
      "metadata": {
        "id": "YLp9d-4TpfS5"
      },
      "source": [
        "#cv2.imread(sampleImgDict['file_name'])"
      ],
      "execution_count": null,
      "outputs": []
    },
    {
      "cell_type": "code",
      "metadata": {
        "id": "gNRc8U7Ea-LJ"
      },
      "source": [
        "'''count = 0 \n",
        "unfitted_image_dict = []\n",
        "for ID in tqdm(imgIds_train):\n",
        "\n",
        "  file_path = \"CocoDataset2014/mask_train/COCO_train2014_{0:012d}.jpg\".format(ID)\n",
        "\n",
        "  sampleImgIds = coco_train.getImgIds(imgIds = [ID])\n",
        "  sampleImgDict = coco_train.loadImgs(sampleImgIds[np.random.randint(0,len(sampleImgIds))])[0]\n",
        "\n",
        "  annIds = coco_train.getAnnIds(imgIds=sampleImgDict['id'], \n",
        "                                catIds=catIds_train, \n",
        "                                iscrowd=0)\n",
        "  anns = coco_train.loadAnns(annIds)\n",
        "\n",
        "  if len(anns)==0:\n",
        "    unfitted_image_dict.append(sampleImgDict)\n",
        "  else:\n",
        "    mask = coco_train.annToMask(anns[0])\n",
        "\n",
        "    for i in (range(len(anns))):\n",
        "        mask = mask | coco_train.annToMask(anns[i])\n",
        "    mask = Image.fromarray(mask * 255 , mode = \"L\")\n",
        "    mask.save(file_path)\n",
        "    count = count + 1\n",
        "print(count)'''"
      ],
      "execution_count": null,
      "outputs": []
    },
    {
      "cell_type": "code",
      "metadata": {
        "colab": {
          "base_uri": "https://localhost:8080/"
        },
        "id": "V-Vt8xxDbxSs",
        "outputId": "761bc9da-eb25-460e-e30b-c6aac2bc8c94"
      },
      "source": [
        "len(os.listdir('CocoDataset2014/mask_train'))"
      ],
      "execution_count": 25,
      "outputs": [
        {
          "output_type": "execute_result",
          "data": {
            "text/plain": [
              "49572"
            ]
          },
          "metadata": {},
          "execution_count": 25
        }
      ]
    },
    {
      "cell_type": "code",
      "metadata": {
        "id": "PoslFYeI-wDj"
      },
      "source": [
        "#!mkdir CocoDataset2014/mask_val"
      ],
      "execution_count": 27,
      "outputs": []
    },
    {
      "cell_type": "code",
      "metadata": {
        "colab": {
          "base_uri": "https://localhost:8080/"
        },
        "id": "i3SNK9KfF-zZ",
        "outputId": "19a2fbdf-6f93-4cee-eb06-eed5ca9cac2f"
      },
      "source": [
        "'''count = 0 \n",
        "unfitted_image_dict = []\n",
        "for ID in (imgIds_val):\n",
        "\n",
        "  file_path = \"CocoDataset2014/mask_val/COCO_val2014_{0:012d}.jpg\".format(ID)\n",
        "\n",
        "  sampleImgIds = coco_val.getImgIds(imgIds = [ID])\n",
        "  sampleImgDict = coco_val.loadImgs(sampleImgIds[np.random.randint(0,len(sampleImgIds))])[0]\n",
        "\n",
        "  annIds = coco_val.getAnnIds(imgIds=sampleImgDict['id'], \n",
        "                                catIds=catIds_val, \n",
        "                                iscrowd=0)\n",
        "  anns = coco_val.loadAnns(annIds)\n",
        "\n",
        "  if len(anns)==0:\n",
        "    unfitted_image_dict.append(sampleImgDict)\n",
        "  else:\n",
        "    mask = coco_val.annToMask(anns[0])\n",
        "\n",
        "    for i in (range(len(anns))):\n",
        "        mask = mask | coco_val.annToMask(anns[i])\n",
        "    mask = Image.fromarray(mask * 255 , mode = \"L\")\n",
        "    mask.save(file_path)\n",
        "    count = count + 1\n",
        "    if (count%1000==0):\n",
        "      print(count)\n",
        "'''"
      ],
      "execution_count": 28,
      "outputs": [
        {
          "output_type": "stream",
          "name": "stdout",
          "text": [
            "1000\n",
            "2000\n",
            "3000\n",
            "4000\n",
            "5000\n",
            "6000\n",
            "7000\n",
            "8000\n",
            "9000\n",
            "10000\n",
            "11000\n",
            "12000\n",
            "13000\n",
            "14000\n",
            "15000\n",
            "16000\n",
            "17000\n",
            "18000\n",
            "19000\n"
          ]
        }
      ]
    },
    {
      "cell_type": "code",
      "metadata": {
        "id": "Ba-tdZDSK6kO"
      },
      "source": [
        "os.chdir(\"/content/drive/MyDrive/Colab Notebooks/Background-Removal\")"
      ],
      "execution_count": 49,
      "outputs": []
    },
    {
      "cell_type": "markdown",
      "metadata": {
        "id": "JudhK2v7L2wq"
      },
      "source": [
        "# Data Generator"
      ]
    },
    {
      "cell_type": "code",
      "metadata": {
        "id": "Q_NAVGuUJ-L0"
      },
      "source": [
        "import os\n",
        "import sys\n",
        "import random\n",
        "\n",
        "import numpy as np\n",
        "import cv2\n",
        "import keras\n",
        "from keras.layers import *\n",
        "from keras.optimizers import *\n",
        "\n",
        "\n",
        "seed = 2019\n",
        "\n",
        "random.seed = seed\n",
        "np.random.seed = seed"
      ],
      "execution_count": 1,
      "outputs": []
    },
    {
      "cell_type": "code",
      "metadata": {
        "id": "RNAOALVcmb41"
      },
      "source": [
        "os.chdir('/content/drive/MyDrive/Colab Notebooks/Background-Removal/CocoDataset2014')"
      ],
      "execution_count": 4,
      "outputs": []
    },
    {
      "cell_type": "code",
      "metadata": {
        "colab": {
          "base_uri": "https://localhost:8080/"
        },
        "id": "5nZpFy3slVvb",
        "outputId": "6ff5d6dd-25a4-486d-be79-8c4453f35b48"
      },
      "source": [
        "os.listdir()"
      ],
      "execution_count": 5,
      "outputs": [
        {
          "output_type": "execute_result",
          "data": {
            "text/plain": [
              "['annotations',\n",
              " 'val2014',\n",
              " 'train2014',\n",
              " 'mask_train',\n",
              " 'mask_val',\n",
              " 'mask_train_smoooth']"
            ]
          },
          "metadata": {},
          "execution_count": 5
        }
      ]
    },
    {
      "cell_type": "code",
      "metadata": {
        "id": "SSIWiyITmfsU"
      },
      "source": [
        "#!mkdir 'mask_train_smoooth'"
      ],
      "execution_count": 102,
      "outputs": []
    },
    {
      "cell_type": "code",
      "metadata": {
        "id": "Gh3PkU78lSPz"
      },
      "source": [
        "os.chdir('/content/drive/MyDrive/Colab Notebooks/Background-Removal/CocoDataset2014/mask_train')"
      ],
      "execution_count": 6,
      "outputs": []
    },
    {
      "cell_type": "code",
      "metadata": {
        "id": "NoNIto5hztxr"
      },
      "source": [
        "new_path = ('/content/drive/MyDrive/Colab Notebooks/Background-Removal/CocoDataset2014/mask_train_smoooth')"
      ],
      "execution_count": 7,
      "outputs": []
    },
    {
      "cell_type": "code",
      "metadata": {
        "id": "iS2fvXZPAXoS"
      },
      "source": [
        "os.listdir()"
      ],
      "execution_count": null,
      "outputs": []
    },
    {
      "cell_type": "code",
      "metadata": {
        "id": "TwtB9HbcL6VM"
      },
      "source": [
        "# pre-process the masks and generate tri-maps\n",
        "for i in tqdm(list(os.listdir())):\n",
        "  path = new_path + \"/\"+str(i)\n",
        "  og_mask=(cv2.imread(i))\n",
        "  og_mask = cv2.cvtColor(og_mask, cv2.COLOR_BGR2GRAY)\n",
        "  eroded_mask = cv2.erode(og_mask,None,iterations=5)\n",
        "  dilated_mask = cv2.dilate(eroded_mask,None,iterations=12)\n",
        "  copied_mask = np.copy(dilated_mask)\n",
        "  copied_mask[(dilated_mask!=0)] = 127\n",
        "  new_mask = og_mask | copied_mask\n",
        "  new_mask = Image.fromarray(new_mask)\n",
        "  A = cv2.imread('/content/drive/MyDrive/Colab Notebooks/Background-Removal/CocoDataset2014/train2014'+\"/\"+i)\n",
        "  cv2_imshow(A)\n",
        "  #original_masked = cv2.bitwise_and(A,A,mask = og_mask)\n",
        "  #composite1 = cv2.bitwise_and(A,A,mask = eroded_mask)\n",
        "  #composite2 = cv2.bitwise_and(A,A,mask = dilated_mask)\n",
        "  #trimask = A*new_mask/255\n",
        "  #cv2_imshow(original_masked)\n",
        "  #cv2_imshow(composite1)\n",
        "  #cv2_imshow(composite2)\n",
        "  cv2_imshow(trimask)\n",
        "  break\n",
        "  #new_mask.save(path)"
      ],
      "execution_count": null,
      "outputs": []
    },
    {
      "cell_type": "code",
      "metadata": {
        "id": "0W12uy5bslNY"
      },
      "source": [
        "os.chdir(new_path)"
      ],
      "execution_count": 10,
      "outputs": []
    },
    {
      "cell_type": "code",
      "metadata": {
        "id": "aNqNOo9OMIb2"
      },
      "source": [
        "class DataGen(keras.utils.Sequence):\n",
        "  \n",
        "  def __init__(self , path_input , path_mask , batch_size = 8 , image_size = 128):\n",
        "    \n",
        "    self.ids = os.listdir(path_input)\n",
        "    self.path_input = path_input\n",
        "    self.path_mask = path_mask\n",
        "    self.batch_size = batch_size\n",
        "    self.image_size = image_size\n",
        "    self.on_epoch_end()\n",
        "  \n",
        "  def __load__(self , id_name):\n",
        "    \n",
        "    image_path = os.path.join(self.path_input , id_name)\n",
        "    mask_path = os.path.join(self.path_mask , id_name) \n",
        "    \n",
        "    image = cv2.imread(image_path , 1) # 1 specifies RGB format\n",
        "    image = cv2.resize(image , (self.image_size , self.image_size)) # resizing before inserting to the network\n",
        "    \n",
        "    mask = cv2.imread(mask_path , -1)\n",
        "    mask = cv2.resize(mask , (self.image_size , self.image_size))\n",
        "    mask = mask.reshape((self.image_size , self.image_size , 1))\n",
        "      \n",
        "    #normalize image\n",
        "    image = image / 255.0\n",
        "    mask = mask / 255.0\n",
        "    \n",
        "    return image , mask\n",
        "  \n",
        "  def __getitem__(self , index):\n",
        "    \n",
        "    if (index + 1)*self.batch_size > len(self.ids):\n",
        "      self.batch_size = len(self.ids) - index * self.batch_size\n",
        "        \n",
        "    file_batch = self.ids[index * self.batch_size : (index + 1) * self.batch_size]\n",
        "    \n",
        "    images = []\n",
        "    masks = []\n",
        "    \n",
        "    for id_name in file_batch : \n",
        "      \n",
        "      _img , _mask = self.__load__(id_name)\n",
        "      images.append(_img)\n",
        "      masks.append(_mask)\n",
        "    \n",
        "    \n",
        "    images = np.array(images)\n",
        "    masks = np.array(masks)\n",
        "    \n",
        "    \n",
        "    return images , masks\n",
        "  \n",
        "  \n",
        "  def on_epoch_end(self):\n",
        "    pass\n",
        "  \n",
        "  \n",
        "  def __len__(self):\n",
        "    \n",
        "    return int(np.ceil(len(self.ids) / float(self.batch_size)))"
      ],
      "execution_count": null,
      "outputs": []
    }
  ]
}